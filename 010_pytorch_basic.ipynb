{
 "cells": [
  {
   "cell_type": "markdown",
   "metadata": {
    "id": "bptrBsIN0aIK"
   },
   "source": [
    "# 010. PyTorch basic\n",
    "\n",
    "- GPU check 부분이 있으므로 Google Colab에서 실행"
   ]
  },
  {
   "cell_type": "code",
   "execution_count": 2,
   "metadata": {
    "colab": {
     "base_uri": "https://localhost:8080/",
     "height": 35
    },
    "id": "FWfvDn9z0aIO",
    "outputId": "a3a096a3-6aec-452d-8bf1-c03d3982a9c6"
   },
   "outputs": [
    {
     "data": {
      "text/plain": [
       "'cpu'"
      ]
     },
     "execution_count": 2,
     "metadata": {},
     "output_type": "execute_result"
    }
   ],
   "source": [
    "import torch\n",
    "import numpy as np\n",
    "import matplotlib.pyplot as plt\n",
    "\n",
    "device = \"cuda:0\" if torch.cuda.is_available() else \"cpu\"\n",
    "device"
   ]
  },
  {
   "cell_type": "code",
   "execution_count": 3,
   "metadata": {
    "colab": {
     "base_uri": "https://localhost:8080/",
     "height": 35
    },
    "id": "RBDb9nT4aMMr",
    "outputId": "ea29077d-6d98-44b8-e4c8-0e3529bed352"
   },
   "outputs": [
    {
     "data": {
      "text/plain": [
       "'2.7.1+cpu'"
      ]
     },
     "execution_count": 3,
     "metadata": {},
     "output_type": "execute_result"
    }
   ],
   "source": [
    "torch.__version__"
   ]
  },
  {
   "cell_type": "markdown",
   "metadata": {
    "id": "FYOdFDxP0aIR"
   },
   "source": [
    "## Tensor Data Types"
   ]
  },
  {
   "cell_type": "markdown",
   "metadata": {
    "id": "hDMoQIgGV10z"
   },
   "source": [
    "### torch.tensor 함수\n",
    "\n",
    "`tensor(data, dtype=None, device=None, requires_grad=False) -> Tensor`\n",
    "\n",
    "     data (array_like): list, tuple, numpy ndarray, scalar, and other types.\n",
    "     dtype :  `None`인 경우 `data`에서 데이터 유형을 유추합니다.  \n",
    "     device : `cpu`, `cuda`  \n",
    "     require_grad(bool, optional): autograd가 작업을 기록해야 하는 경우"
   ]
  },
  {
   "cell_type": "markdown",
   "metadata": {
    "id": "3_x6xXPPV100"
   },
   "source": [
    "Float torch tensor 생성"
   ]
  },
  {
   "cell_type": "code",
   "execution_count": 4,
   "metadata": {
    "colab": {
     "base_uri": "https://localhost:8080/"
    },
    "id": "SOUKmrQd0aIR",
    "outputId": "29a1a889-b717-413f-907c-26232d3ba513"
   },
   "outputs": [
    {
     "name": "stdout",
     "output_type": "stream",
     "text": [
      "float64 \t torch.float64\n"
     ]
    }
   ],
   "source": [
    "# numpy array 생성\n",
    "a = np.ones((2, 3))\n",
    "# tensor  생성\n",
    "b = torch.tensor(a)\n",
    "# dtype\n",
    "print(a.dtype, '\\t', b.dtype)"
   ]
  },
  {
   "cell_type": "code",
   "execution_count": 5,
   "metadata": {
    "colab": {
     "base_uri": "https://localhost:8080/"
    },
    "id": "dKTlCKQk0aIS",
    "outputId": "f1decb91-b3db-4aa7-dd9b-c863358386e2"
   },
   "outputs": [
    {
     "name": "stdout",
     "output_type": "stream",
     "text": [
      "float32 \t torch.float32\n"
     ]
    }
   ],
   "source": [
    "# numpy 생성\n",
    "a = np.ones((2, 3), dtype=\"float32\")\n",
    "# tensor 생성\n",
    "b = torch.tensor(a)\n",
    "# dtype\n",
    "print(a.dtype, '\\t', b.dtype)"
   ]
  },
  {
   "cell_type": "markdown",
   "metadata": {
    "id": "77WegQUXV102"
   },
   "source": [
    "Integer tensor 생성"
   ]
  },
  {
   "cell_type": "code",
   "execution_count": 6,
   "metadata": {
    "colab": {
     "base_uri": "https://localhost:8080/"
    },
    "id": "YECq91Ru0aIS",
    "outputId": "11f04d18-bbac-411f-d6b1-82360bff544e"
   },
   "outputs": [
    {
     "data": {
      "text/plain": [
       "tensor([[1, 2, 3],\n",
       "        [4, 5, 6]], dtype=torch.int32)"
      ]
     },
     "execution_count": 6,
     "metadata": {},
     "output_type": "execute_result"
    }
   ],
   "source": [
    "x = torch.tensor([[1, 2, 3], [4, 5, 6]], dtype=torch.int32)\n",
    "x"
   ]
  },
  {
   "cell_type": "code",
   "execution_count": 7,
   "metadata": {
    "colab": {
     "base_uri": "https://localhost:8080/"
    },
    "id": "CcpX1maC0aIT",
    "outputId": "17a78ef7-790c-494a-9dca-c483a269f04e"
   },
   "outputs": [
    {
     "data": {
      "text/plain": [
       "tensor([[1, 2, 3],\n",
       "        [4, 5, 6]], dtype=torch.int32)"
      ]
     },
     "execution_count": 7,
     "metadata": {},
     "output_type": "execute_result"
    }
   ],
   "source": [
    "# gpu tensor\n",
    "x = torch.tensor([[1, 2, 3], [4, 5, 6]], dtype=torch.int32, device=device)\n",
    "x"
   ]
  },
  {
   "cell_type": "markdown",
   "metadata": {
    "id": "NtdNbgjR0aIU"
   },
   "source": [
    "## 1D Tensor Operation"
   ]
  },
  {
   "cell_type": "code",
   "execution_count": 8,
   "metadata": {
    "colab": {
     "base_uri": "https://localhost:8080/"
    },
    "id": "E9tPSvWC0aIV",
    "outputId": "4e7cf8b9-8aa2-49aa-9962-3b8a7295273d"
   },
   "outputs": [
    {
     "data": {
      "text/plain": [
       "(tensor(1), tensor(5))"
      ]
     },
     "execution_count": 8,
     "metadata": {},
     "output_type": "execute_result"
    }
   ],
   "source": [
    "a = torch.tensor([1, 2, 3, 4, 5])\n",
    "\n",
    "a[0], a[-1]"
   ]
  },
  {
   "cell_type": "code",
   "execution_count": 9,
   "metadata": {
    "colab": {
     "base_uri": "https://localhost:8080/"
    },
    "id": "xfMlsCA3tS4Q",
    "outputId": "96a6677c-01a6-4430-d52b-ec21ef6b85e7"
   },
   "outputs": [
    {
     "data": {
      "text/plain": [
       "torch.Size([5])"
      ]
     },
     "execution_count": 9,
     "metadata": {},
     "output_type": "execute_result"
    }
   ],
   "source": [
    "a.size()"
   ]
  },
  {
   "cell_type": "code",
   "execution_count": 10,
   "metadata": {
    "colab": {
     "base_uri": "https://localhost:8080/"
    },
    "id": "hanzRpv8tS4R",
    "outputId": "b28f4166-5fd9-43cb-f7f8-f9d433c10939"
   },
   "outputs": [
    {
     "data": {
      "text/plain": [
       "1"
      ]
     },
     "execution_count": 10,
     "metadata": {},
     "output_type": "execute_result"
    }
   ],
   "source": [
    "a.ndimension()"
   ]
  },
  {
   "cell_type": "code",
   "execution_count": 11,
   "metadata": {
    "colab": {
     "base_uri": "https://localhost:8080/"
    },
    "id": "AGn52TuStS4R",
    "outputId": "70d81f9a-4398-411b-c40e-4df05611776f"
   },
   "outputs": [
    {
     "data": {
      "text/plain": [
       "tensor([[1],\n",
       "        [2],\n",
       "        [3],\n",
       "        [4],\n",
       "        [5]])"
      ]
     },
     "execution_count": 11,
     "metadata": {},
     "output_type": "execute_result"
    }
   ],
   "source": [
    "a.view(5, 1)"
   ]
  },
  {
   "cell_type": "markdown",
   "metadata": {
    "id": "jx-H1RPX0aIX"
   },
   "source": [
    "### Tensor Type 변환\n",
    "\n",
    "- cpu <--> gpu"
   ]
  },
  {
   "cell_type": "code",
   "execution_count": 12,
   "metadata": {
    "colab": {
     "base_uri": "https://localhost:8080/"
    },
    "id": "uNaqQAfV0aIY",
    "outputId": "c47b9439-d44c-4163-9920-f02fd1fa787d"
   },
   "outputs": [
    {
     "data": {
      "text/plain": [
       "tensor([1., 2., 3., 4., 5.])"
      ]
     },
     "execution_count": 12,
     "metadata": {},
     "output_type": "execute_result"
    }
   ],
   "source": [
    "# cpu tensor\n",
    "a = a.to(dtype=torch.float32)\n",
    "a"
   ]
  },
  {
   "cell_type": "code",
   "execution_count": 13,
   "metadata": {
    "colab": {
     "base_uri": "https://localhost:8080/"
    },
    "id": "cqzQEqrv0aIY",
    "outputId": "6d2717ad-d0e7-45ad-b634-279855b636ec"
   },
   "outputs": [
    {
     "data": {
      "text/plain": [
       "tensor([1., 2., 3., 4., 5.])"
      ]
     },
     "execution_count": 13,
     "metadata": {},
     "output_type": "execute_result"
    }
   ],
   "source": [
    "# gpu tensor\n",
    "b = a.to(device)\n",
    "b"
   ]
  },
  {
   "cell_type": "code",
   "execution_count": null,
   "metadata": {
    "colab": {
     "base_uri": "https://localhost:8080/"
    },
    "id": "ngVGxSjx0aIZ",
    "outputId": "a1e1629b-6b1e-46d3-f23e-0b1a74350d70"
   },
   "outputs": [],
   "source": [
    "b = a.cuda()\n",
    "b"
   ]
  },
  {
   "cell_type": "code",
   "execution_count": 15,
   "metadata": {
    "colab": {
     "base_uri": "https://localhost:8080/"
    },
    "id": "SO5KKyhq0aIZ",
    "outputId": "7013e219-7040-47f5-9894-b4d973472945"
   },
   "outputs": [
    {
     "data": {
      "text/plain": [
       "tensor([1., 2., 3., 4., 5.])"
      ]
     },
     "execution_count": 15,
     "metadata": {},
     "output_type": "execute_result"
    }
   ],
   "source": [
    "# cpu tensor\n",
    "d = b.to(\"cpu\")\n",
    "d"
   ]
  },
  {
   "cell_type": "markdown",
   "metadata": {
    "id": "6yb70D7F0aIa"
   },
   "source": [
    "### Tensor 생성\n",
    "\n",
    "- 무작위로 초기화된 행렬 생성 (uniform distribution)"
   ]
  },
  {
   "cell_type": "code",
   "execution_count": 16,
   "metadata": {
    "colab": {
     "base_uri": "https://localhost:8080/"
    },
    "id": "M1ohi1oc0aIa",
    "outputId": "1efa4504-78ea-4225-fc6b-145568422c72"
   },
   "outputs": [
    {
     "name": "stdout",
     "output_type": "stream",
     "text": [
      "tensor([[0.0379, 0.4783, 0.4745],\n",
      "        [0.2974, 0.7954, 0.1890],\n",
      "        [0.5869, 0.6132, 0.8616],\n",
      "        [0.8076, 0.6882, 0.3833],\n",
      "        [0.4293, 0.7113, 0.5927]])\n"
     ]
    }
   ],
   "source": [
    "x = torch.rand(5, 3)\n",
    "print(x)"
   ]
  },
  {
   "cell_type": "markdown",
   "metadata": {
    "id": "XdplE1BX0aIb"
   },
   "source": [
    "- dtype이 long이고 0으로 채워진 행렬 생성"
   ]
  },
  {
   "cell_type": "code",
   "execution_count": 17,
   "metadata": {
    "colab": {
     "base_uri": "https://localhost:8080/"
    },
    "id": "5gLRQs6M0aIb",
    "outputId": "0eb02e28-c773-4be9-912a-297c13670147"
   },
   "outputs": [
    {
     "name": "stdout",
     "output_type": "stream",
     "text": [
      "tensor([[0, 0, 0],\n",
      "        [0, 0, 0],\n",
      "        [0, 0, 0],\n",
      "        [0, 0, 0],\n",
      "        [0, 0, 0]])\n",
      "torch.int64\n"
     ]
    }
   ],
   "source": [
    "x = torch.zeros(5, 3, dtype=torch.long)\n",
    "print(x)\n",
    "print(x.dtype)"
   ]
  },
  {
   "cell_type": "markdown",
   "metadata": {
    "id": "RX0uBf2g0aIc"
   },
   "source": [
    "- python list로 부터 tensor 생성"
   ]
  },
  {
   "cell_type": "code",
   "execution_count": 18,
   "metadata": {
    "colab": {
     "base_uri": "https://localhost:8080/"
    },
    "id": "_9TfISuo0aIc",
    "outputId": "e521592a-cf5d-40ab-df07-83752e4efe0c"
   },
   "outputs": [
    {
     "data": {
      "text/plain": [
       "torch.int64"
      ]
     },
     "execution_count": 18,
     "metadata": {},
     "output_type": "execute_result"
    }
   ],
   "source": [
    "a = torch.tensor([7, 4, 3, 2, 6])\n",
    "a.dtype"
   ]
  },
  {
   "cell_type": "code",
   "execution_count": 19,
   "metadata": {
    "colab": {
     "base_uri": "https://localhost:8080/"
    },
    "id": "5Yg6Wqe-0aIc",
    "outputId": "5e0565a7-f8a4-48d2-8010-358b883dd3a5"
   },
   "outputs": [
    {
     "data": {
      "text/plain": [
       "torch.float32"
      ]
     },
     "execution_count": 19,
     "metadata": {},
     "output_type": "execute_result"
    }
   ],
   "source": [
    "b = torch.FloatTensor([7, 4, 3, 2, 6])\n",
    "b.dtype"
   ]
  },
  {
   "cell_type": "code",
   "execution_count": 20,
   "metadata": {
    "colab": {
     "base_uri": "https://localhost:8080/"
    },
    "id": "GUVEvrw10aIc",
    "outputId": "c87938bb-d29e-429e-849f-caa03fa080a8"
   },
   "outputs": [
    {
     "data": {
      "text/plain": [
       "tensor([True, True, True, True, True])"
      ]
     },
     "execution_count": 20,
     "metadata": {},
     "output_type": "execute_result"
    }
   ],
   "source": [
    "a == b"
   ]
  },
  {
   "cell_type": "markdown",
   "metadata": {
    "id": "_F_MBE6Y0aId"
   },
   "source": [
    "## Tensor 의 shape & dimension (rank)"
   ]
  },
  {
   "cell_type": "code",
   "execution_count": 21,
   "metadata": {
    "colab": {
     "base_uri": "https://localhost:8080/"
    },
    "id": "ptYfxewn0aIe",
    "outputId": "154418ab-0687-40a1-e954-4422c5cee72e"
   },
   "outputs": [
    {
     "data": {
      "text/plain": [
       "torch.Size([5])"
      ]
     },
     "execution_count": 21,
     "metadata": {},
     "output_type": "execute_result"
    }
   ],
   "source": [
    "# 전통정 pytorch 방식\n",
    "a = torch.Tensor([0, 1, 2, 3, 4])\n",
    "a.size()"
   ]
  },
  {
   "cell_type": "code",
   "execution_count": 22,
   "metadata": {
    "colab": {
     "base_uri": "https://localhost:8080/"
    },
    "id": "R5VHrcai0aIe",
    "outputId": "a2cb8987-bfb1-445c-fb06-5fdf4693d69d"
   },
   "outputs": [
    {
     "data": {
      "text/plain": [
       "torch.Size([5])"
      ]
     },
     "execution_count": 22,
     "metadata": {},
     "output_type": "execute_result"
    }
   ],
   "source": [
    "# size() 와 shape 은 alias --> 권장 방식\n",
    "a.shape"
   ]
  },
  {
   "cell_type": "code",
   "execution_count": 23,
   "metadata": {
    "colab": {
     "base_uri": "https://localhost:8080/"
    },
    "id": "fXSRrETw0aIe",
    "outputId": "07913705-0614-417e-ef1c-e7fbd79356d6"
   },
   "outputs": [
    {
     "data": {
      "text/plain": [
       "1"
      ]
     },
     "execution_count": 23,
     "metadata": {},
     "output_type": "execute_result"
    }
   ],
   "source": [
    "a.ndimension()"
   ]
  },
  {
   "cell_type": "markdown",
   "metadata": {
    "id": "HV3UkTgU0aIf"
   },
   "source": [
    "## reshape\n",
    "- torch.view : original tensor의 memory 공유 (contiguity 제한)\n",
    "- torch.reshape: contiguity 제한 없음. 필요에 따라 new tensor 생성. numpy 와 유사한 operation을 위해 기능 제공"
   ]
  },
  {
   "cell_type": "code",
   "execution_count": 24,
   "metadata": {
    "colab": {
     "base_uri": "https://localhost:8080/"
    },
    "id": "92KIceAi0aIf",
    "outputId": "1e86c0c0-731b-4acd-abec-49e79aad9ed1"
   },
   "outputs": [
    {
     "name": "stdout",
     "output_type": "stream",
     "text": [
      "tensor([0., 1., 2., 3., 4.])\n",
      "tensor([[0.],\n",
      "        [1.],\n",
      "        [2.],\n",
      "        [3.],\n",
      "        [4.]])\n",
      "tensor([[0.],\n",
      "        [1.],\n",
      "        [2.],\n",
      "        [3.],\n",
      "        [4.]])\n"
     ]
    }
   ],
   "source": [
    "print(a)\n",
    "print(a.view(5, 1))\n",
    "print(a.reshape(5, 1))"
   ]
  },
  {
   "cell_type": "code",
   "execution_count": 25,
   "metadata": {
    "colab": {
     "base_uri": "https://localhost:8080/"
    },
    "id": "iaBn9xv0J52H",
    "outputId": "4134712f-a8ab-4ab2-9b59-8066644f288d"
   },
   "outputs": [
    {
     "name": "stdout",
     "output_type": "stream",
     "text": [
      "torch.Size([4, 4]) torch.Size([16]) torch.Size([2, 8])\n"
     ]
    }
   ],
   "source": [
    "# 4x4 크기의 랜덤한 텐서 생성\n",
    "x = torch.randn(4, 4)\n",
    "\n",
    "# x 텐서를 16개의 요소를 가진 1차원 텐서로 변형(view)합니다.\n",
    "y = x.view(16)\n",
    "# x 텐서를 2차원 텐서 변형, -1은 나머지 차원의 크기를 자동 계산\n",
    "# 결과적으로, 이 코드는 x를 2x8 크기의 텐서로 변형합니다.\n",
    "z = x.view(-1, 8)\n",
    "\n",
    "print(x.size(), y.size(), z.size())"
   ]
  },
  {
   "cell_type": "code",
   "execution_count": 26,
   "metadata": {
    "colab": {
     "base_uri": "https://localhost:8080/"
    },
    "id": "oY4Lbp_aLTAI",
    "outputId": "f7e2af0d-22d4-4cd1-e591-ca8dec17aab5"
   },
   "outputs": [
    {
     "name": "stdout",
     "output_type": "stream",
     "text": [
      "torch.Size([4, 4]) torch.Size([16]) torch.Size([2, 8])\n"
     ]
    }
   ],
   "source": [
    "x = torch.randn(4, 4)\n",
    "# x 텐서를 16개의 요소를 가진 1차원 텐서로 재구성(reshape).\n",
    "y = x.reshape(16)\n",
    "\n",
    "# x 텐서를 -1과 8을 사용하여 2차원 텐서로 재구성\n",
    "# 결과적으로, 이 코드는 x를 2x8 크기의 텐서로 재구성합니다.\n",
    "z = x.reshape(-1, 8)\n",
    "\n",
    "print(x.size(), y.size(), z.size())"
   ]
  },
  {
   "cell_type": "code",
   "execution_count": 27,
   "metadata": {
    "colab": {
     "base_uri": "https://localhost:8080/"
    },
    "id": "I4FQGB4PaMM1",
    "outputId": "18c4593b-eebf-46c3-acd9-5618ad27b9af"
   },
   "outputs": [
    {
     "data": {
      "text/plain": [
       "tensor([[ 1.7131,  0.8433,  0.0494,  0.8054],\n",
       "        [ 0.0556,  0.7262, -0.3811,  0.7007],\n",
       "        [-0.1809,  0.9973,  0.1217,  0.4656],\n",
       "        [ 0.2320,  0.2599,  0.3887, -0.9441]])"
      ]
     },
     "execution_count": 27,
     "metadata": {},
     "output_type": "execute_result"
    }
   ],
   "source": [
    "x = torch.randn(4, 4)\n",
    "x"
   ]
  },
  {
   "cell_type": "code",
   "execution_count": 28,
   "metadata": {
    "colab": {
     "base_uri": "https://localhost:8080/"
    },
    "id": "j1XuEjb-aMM1",
    "outputId": "c5512250-997f-4e43-abc6-b48a6293f5ee"
   },
   "outputs": [
    {
     "data": {
      "text/plain": [
       "True"
      ]
     },
     "execution_count": 28,
     "metadata": {},
     "output_type": "execute_result"
    }
   ],
   "source": [
    "# x 텐서가 연속적인 메모리 레이아웃을 가지고 있는지 확인\n",
    "# 텐서가 연속적이라면, 메모리 상에서 요소들이 순차적으로 이어져 있음을 의미\n",
    "x.is_contiguous()"
   ]
  },
  {
   "cell_type": "code",
   "execution_count": 29,
   "metadata": {
    "colab": {
     "base_uri": "https://localhost:8080/"
    },
    "id": "aYFmgqGGelDv",
    "outputId": "48e88092-3f6f-4d9a-dac3-f7c9721ae212"
   },
   "outputs": [
    {
     "data": {
      "text/plain": [
       "tensor([[ 1.7131,  0.0556, -0.1809,  0.2320],\n",
       "        [ 0.8433,  0.7262,  0.9973,  0.2599],\n",
       "        [ 0.0494, -0.3811,  0.1217,  0.3887],\n",
       "        [ 0.8054,  0.7007,  0.4656, -0.9441]])"
      ]
     },
     "execution_count": 29,
     "metadata": {},
     "output_type": "execute_result"
    }
   ],
   "source": [
    "# dim0, dim1 을 swap\n",
    "x.transpose(0, 1)"
   ]
  },
  {
   "cell_type": "code",
   "execution_count": 30,
   "metadata": {
    "colab": {
     "base_uri": "https://localhost:8080/"
    },
    "id": "YB4bwzM4aMM1",
    "outputId": "ef0b70bf-f924-45f7-85da-4d0355691878"
   },
   "outputs": [
    {
     "data": {
      "text/plain": [
       "False"
      ]
     },
     "execution_count": 30,
     "metadata": {},
     "output_type": "execute_result"
    }
   ],
   "source": [
    "x.transpose(0, 1).is_contiguous()"
   ]
  },
  {
   "cell_type": "code",
   "execution_count": 31,
   "metadata": {
    "colab": {
     "base_uri": "https://localhost:8080/"
    },
    "id": "u38JNAQDdrcZ",
    "outputId": "1605fe2b-49c1-4c70-e90a-ac5798872502"
   },
   "outputs": [
    {
     "data": {
      "text/plain": [
       "tensor([[ 1.7131,  0.0556, -0.1809,  0.2320,  0.8433,  0.7262,  0.9973,  0.2599],\n",
       "        [ 0.0494, -0.3811,  0.1217,  0.3887,  0.8054,  0.7007,  0.4656, -0.9441]])"
      ]
     },
     "execution_count": 31,
     "metadata": {},
     "output_type": "execute_result"
    }
   ],
   "source": [
    "x.transpose(0, 1).reshape(-1, 8)"
   ]
  },
  {
   "cell_type": "code",
   "execution_count": 32,
   "metadata": {
    "colab": {
     "base_uri": "https://localhost:8080/",
     "height": 165
    },
    "id": "sYwFK4Che4UH",
    "outputId": "5ea09241-2ae8-419a-b7e6-cb7047815a1b"
   },
   "outputs": [
    {
     "ename": "RuntimeError",
     "evalue": "view size is not compatible with input tensor's size and stride (at least one dimension spans across two contiguous subspaces). Use .reshape(...) instead.",
     "output_type": "error",
     "traceback": [
      "\u001b[31m---------------------------------------------------------------------------\u001b[39m",
      "\u001b[31mRuntimeError\u001b[39m                              Traceback (most recent call last)",
      "\u001b[36mCell\u001b[39m\u001b[36m \u001b[39m\u001b[32mIn[32]\u001b[39m\u001b[32m, line 1\u001b[39m\n\u001b[32m----> \u001b[39m\u001b[32m1\u001b[39m \u001b[43mx\u001b[49m\u001b[43m.\u001b[49m\u001b[43mtranspose\u001b[49m\u001b[43m(\u001b[49m\u001b[32;43m0\u001b[39;49m\u001b[43m,\u001b[49m\u001b[43m \u001b[49m\u001b[32;43m1\u001b[39;49m\u001b[43m)\u001b[49m\u001b[43m.\u001b[49m\u001b[43mview\u001b[49m\u001b[43m(\u001b[49m\u001b[43m-\u001b[49m\u001b[32;43m1\u001b[39;49m\u001b[43m,\u001b[49m\u001b[43m \u001b[49m\u001b[32;43m8\u001b[39;49m\u001b[43m)\u001b[49m\n",
      "\u001b[31mRuntimeError\u001b[39m: view size is not compatible with input tensor's size and stride (at least one dimension spans across two contiguous subspaces). Use .reshape(...) instead."
     ]
    }
   ],
   "source": [
    "x.transpose(0, 1).view(-1, 8)"
   ]
  },
  {
   "cell_type": "markdown",
   "metadata": {
    "id": "SOr0fUj50aIg"
   },
   "source": [
    "## numpy 와 tensor 간의 호환성\n",
    "\n",
    "- memory 를 공유하므로 하나를 수정하면 나머지에 모두 반영  "
   ]
  },
  {
   "cell_type": "code",
   "execution_count": 33,
   "metadata": {
    "colab": {
     "base_uri": "https://localhost:8080/"
    },
    "id": "G6Gk3T1L0aIg",
    "outputId": "bb25a2a5-67ce-4f86-fe8c-b83afd052a37"
   },
   "outputs": [
    {
     "data": {
      "text/plain": [
       "tensor([0., 1., 2., 3., 4., 5.], dtype=torch.float64)"
      ]
     },
     "execution_count": 33,
     "metadata": {},
     "output_type": "execute_result"
    }
   ],
   "source": [
    "numpy_array = np.array([0.0, 1.0, 2.0, 3.0, 4.0, 5.0])       # numpy array\n",
    "torch_tensor = torch.from_numpy(numpy_array)               # torch tensor\n",
    "torch_tensor"
   ]
  },
  {
   "cell_type": "code",
   "execution_count": 34,
   "metadata": {
    "colab": {
     "base_uri": "https://localhost:8080/"
    },
    "id": "P1x1lBo70aIh",
    "outputId": "e15c0acb-c432-41d3-b246-54a597d03f59"
   },
   "outputs": [
    {
     "data": {
      "text/plain": [
       "array([0., 1., 2., 3., 4., 5.])"
      ]
     },
     "execution_count": 34,
     "metadata": {},
     "output_type": "execute_result"
    }
   ],
   "source": [
    "back_to_numpy = torch_tensor.numpy()           # numpy array\n",
    "back_to_numpy"
   ]
  },
  {
   "cell_type": "code",
   "execution_count": 35,
   "metadata": {
    "colab": {
     "base_uri": "https://localhost:8080/"
    },
    "id": "PFxj24eI0aIh",
    "outputId": "1bb824bf-d75b-4d5c-e31f-c2c9f3c4445d"
   },
   "outputs": [
    {
     "data": {
      "text/plain": [
       "(array([0., 1., 2., 3., 4., 5.]),\n",
       " tensor([0., 1., 2., 3., 4., 5.], dtype=torch.float64),\n",
       " array([0., 1., 2., 3., 4., 5.]))"
      ]
     },
     "execution_count": 35,
     "metadata": {},
     "output_type": "execute_result"
    }
   ],
   "source": [
    "numpy_array, torch_tensor, back_to_numpy"
   ]
  },
  {
   "cell_type": "code",
   "execution_count": 36,
   "metadata": {
    "colab": {
     "base_uri": "https://localhost:8080/"
    },
    "id": "Bm76gZrW0aIh",
    "outputId": "4c8d6d9f-e649-4e45-c556-89cc4524e0ce"
   },
   "outputs": [
    {
     "data": {
      "text/plain": [
       "(array([100.,   1.,   2.,   3.,   4.,   5.]),\n",
       " tensor([100.,   1.,   2.,   3.,   4.,   5.], dtype=torch.float64),\n",
       " array([100.,   1.,   2.,   3.,   4.,   5.]))"
      ]
     },
     "execution_count": 36,
     "metadata": {},
     "output_type": "execute_result"
    }
   ],
   "source": [
    "back_to_numpy[0] = 100\n",
    "\n",
    "numpy_array, torch_tensor, back_to_numpy"
   ]
  },
  {
   "cell_type": "markdown",
   "metadata": {
    "id": "M7tI-oW-0aIi"
   },
   "source": [
    "## Scalar value\n",
    "\n",
    "- 만약 tensor에 하나의 값만 존재한다면, ``.item()`` method를 사용하여 숫자 값을 얻을 수 있습니다.  "
   ]
  },
  {
   "cell_type": "code",
   "execution_count": 37,
   "metadata": {
    "colab": {
     "base_uri": "https://localhost:8080/"
    },
    "id": "nkyd8fiK0aIi",
    "outputId": "26e611b4-7167-433c-f6f7-a9569685f5a7"
   },
   "outputs": [
    {
     "data": {
      "text/plain": [
       "-0.7480030655860901"
      ]
     },
     "execution_count": 37,
     "metadata": {},
     "output_type": "execute_result"
    }
   ],
   "source": [
    "x = torch.randn(1)\n",
    "x.item()"
   ]
  },
  {
   "cell_type": "code",
   "execution_count": 38,
   "metadata": {
    "colab": {
     "base_uri": "https://localhost:8080/"
    },
    "id": "UY1-2LF00aIi",
    "outputId": "40b10e41-8e28-4956-9730-632a97537105"
   },
   "outputs": [
    {
     "name": "stdout",
     "output_type": "stream",
     "text": [
      "tensor(5.)\n",
      "5.0\n"
     ]
    }
   ],
   "source": [
    "a = torch.tensor([5., 3., 4., 1.])\n",
    "\n",
    "print(a[0])\n",
    "print(a[0].item())"
   ]
  },
  {
   "cell_type": "markdown",
   "metadata": {
    "id": "79_l6-6Jr3A4"
   },
   "source": [
    "- tensor 가 array 형태인 경우 `numpy()` method 를 통해 ndarray 반환"
   ]
  },
  {
   "cell_type": "code",
   "execution_count": 39,
   "metadata": {
    "colab": {
     "base_uri": "https://localhost:8080/"
    },
    "id": "pbNz9o3_0aIj",
    "outputId": "3673140a-c9f9-46f7-d17f-8cd13cfa853b"
   },
   "outputs": [
    {
     "name": "stdout",
     "output_type": "stream",
     "text": [
      "tensor([-1.5401,  1.5227])\n",
      "\n",
      "[-1.5401105  1.522668 ]\n"
     ]
    }
   ],
   "source": [
    "x = torch.randn(2)\n",
    "print(x)\n",
    "print()\n",
    "print(x.numpy())"
   ]
  },
  {
   "cell_type": "markdown",
   "metadata": {
    "id": "ROH69NYU0aIl"
   },
   "source": [
    "## Tensor 의 indexing & slicing\n",
    "\n",
    "- Python 의 indexing & slicing 과 동일"
   ]
  },
  {
   "cell_type": "code",
   "execution_count": 40,
   "metadata": {
    "colab": {
     "base_uri": "https://localhost:8080/"
    },
    "id": "7QSJN6ok0aIl",
    "outputId": "f7b68467-41c0-4b5a-989d-9d77a39c52f4"
   },
   "outputs": [
    {
     "data": {
      "text/plain": [
       "(tensor([100,   1,   2,   3,   0]), torch.int64)"
      ]
     },
     "execution_count": 40,
     "metadata": {},
     "output_type": "execute_result"
    }
   ],
   "source": [
    "c = torch.tensor([20, 1, 2, 3, 4])\n",
    "c[0] = 100\n",
    "c[4] = 0\n",
    "c, c.dtype"
   ]
  },
  {
   "cell_type": "code",
   "execution_count": 41,
   "metadata": {
    "colab": {
     "base_uri": "https://localhost:8080/"
    },
    "id": "uJGbU-8c0aIm",
    "outputId": "7d9e3b6c-91d8-42fc-d978-7aa44285771f"
   },
   "outputs": [
    {
     "data": {
      "text/plain": [
       "tensor([1, 2, 3])"
      ]
     },
     "execution_count": 41,
     "metadata": {},
     "output_type": "execute_result"
    }
   ],
   "source": [
    "d = c[1:4]\n",
    "d"
   ]
  },
  {
   "cell_type": "code",
   "execution_count": 42,
   "metadata": {
    "colab": {
     "base_uri": "https://localhost:8080/"
    },
    "id": "n7nuvxwu0aIm",
    "outputId": "2bd66141-20c3-4ea3-e80f-41d4fed45308"
   },
   "outputs": [
    {
     "data": {
      "text/plain": [
       "tensor([100,   1,   2, 300, 400])"
      ]
     },
     "execution_count": 42,
     "metadata": {},
     "output_type": "execute_result"
    }
   ],
   "source": [
    "c[3:5] = torch.tensor([300.0, 400.0])\n",
    "c"
   ]
  },
  {
   "cell_type": "markdown",
   "metadata": {
    "id": "LnsztCIG0aIm"
   },
   "source": [
    "## Basic Operations - numpy 와 동일"
   ]
  },
  {
   "cell_type": "code",
   "execution_count": 43,
   "metadata": {
    "colab": {
     "base_uri": "https://localhost:8080/"
    },
    "id": "kfjfj9Ak0aIm",
    "outputId": "a3257c0d-fc4b-4763-9163-dde33438bfec"
   },
   "outputs": [
    {
     "data": {
      "text/plain": [
       "tensor([1., 1.])"
      ]
     },
     "execution_count": 43,
     "metadata": {},
     "output_type": "execute_result"
    }
   ],
   "source": [
    "# element-wise 덧셈, 뺄셈\n",
    "u = torch.tensor([1.0, 0.0])\n",
    "v = torch.tensor([0.0, 1.0])\n",
    "z = u + v\n",
    "z"
   ]
  },
  {
   "cell_type": "code",
   "execution_count": 44,
   "metadata": {
    "colab": {
     "base_uri": "https://localhost:8080/"
    },
    "id": "zhgNRITy0aIn",
    "outputId": "438bbc4c-daef-489b-f2c5-10df4e08bb66"
   },
   "outputs": [
    {
     "data": {
      "text/plain": [
       "tensor([ 1., -1.])"
      ]
     },
     "execution_count": 44,
     "metadata": {},
     "output_type": "execute_result"
    }
   ],
   "source": [
    "z = u - v\n",
    "z"
   ]
  },
  {
   "cell_type": "code",
   "execution_count": 45,
   "metadata": {
    "colab": {
     "base_uri": "https://localhost:8080/"
    },
    "id": "yuh56pVz0aIn",
    "outputId": "f7d35e8a-c5ce-426f-99f6-90fb7e38f0d7"
   },
   "outputs": [
    {
     "data": {
      "text/plain": [
       "tensor([3, 4])"
      ]
     },
     "execution_count": 45,
     "metadata": {},
     "output_type": "execute_result"
    }
   ],
   "source": [
    "# element-wise 곱셈\n",
    "u = torch.tensor([1, 2])\n",
    "v = torch.tensor([3, 2])\n",
    "z = u * v\n",
    "z"
   ]
  },
  {
   "cell_type": "code",
   "execution_count": 46,
   "metadata": {
    "colab": {
     "base_uri": "https://localhost:8080/"
    },
    "id": "vjapsSQr0aIn",
    "outputId": "f47a9849-f20b-465a-8382-56febd6f813b"
   },
   "outputs": [
    {
     "data": {
      "text/plain": [
       "tensor([2, 4])"
      ]
     },
     "execution_count": 46,
     "metadata": {},
     "output_type": "execute_result"
    }
   ],
   "source": [
    "# 스칼라 곱\n",
    "y = torch.tensor([1, 2])\n",
    "z = 2 * y\n",
    "z"
   ]
  },
  {
   "cell_type": "code",
   "execution_count": 47,
   "metadata": {
    "colab": {
     "base_uri": "https://localhost:8080/"
    },
    "id": "9lvO5K-D0aIo",
    "outputId": "5f1baa79-fdba-4bb2-a60a-7e126817b48e"
   },
   "outputs": [
    {
     "data": {
      "text/plain": [
       "tensor(5)"
      ]
     },
     "execution_count": 47,
     "metadata": {},
     "output_type": "execute_result"
    }
   ],
   "source": [
    "# dot product\n",
    "u = torch.tensor([1, 2])\n",
    "v = torch.tensor([3, 1])\n",
    "result = torch.dot(u, v)\n",
    "result"
   ]
  },
  {
   "cell_type": "markdown",
   "metadata": {
    "id": "Wgub6XlE0aIo"
   },
   "source": [
    "## 기타"
   ]
  },
  {
   "cell_type": "code",
   "execution_count": 48,
   "metadata": {
    "colab": {
     "base_uri": "https://localhost:8080/"
    },
    "id": "daHe6BSz0aIo",
    "outputId": "59fa4d13-c3a0-4c60-df47-852af825c271"
   },
   "outputs": [
    {
     "data": {
      "text/plain": [
       "tensor([2, 3, 4, 0])"
      ]
     },
     "execution_count": 48,
     "metadata": {},
     "output_type": "execute_result"
    }
   ],
   "source": [
    "# broadcasting\n",
    "u = torch.tensor([1, 2, 3, -1])\n",
    "z = u + 1\n",
    "z"
   ]
  },
  {
   "cell_type": "code",
   "execution_count": 49,
   "metadata": {
    "colab": {
     "base_uri": "https://localhost:8080/"
    },
    "id": "YHnjKW0y0aIp",
    "outputId": "31fa7153-b051-40b9-9dae-c982158cecf5"
   },
   "outputs": [
    {
     "data": {
      "text/plain": [
       "(tensor(2.2000), tensor(5.), tensor(2.7749))"
      ]
     },
     "execution_count": 49,
     "metadata": {},
     "output_type": "execute_result"
    }
   ],
   "source": [
    "# mean, max, Standard Deviation\n",
    "a = torch.tensor([1, -2, 3, 4, 5], dtype=torch.float32)\n",
    "\n",
    "a.mean(), a.max(), a.std()"
   ]
  },
  {
   "cell_type": "markdown",
   "metadata": {
    "id": "S02sWh930aIq"
   },
   "source": [
    "## torch.linspace 와 np.linspace 비교"
   ]
  },
  {
   "cell_type": "code",
   "execution_count": 50,
   "metadata": {
    "colab": {
     "base_uri": "https://localhost:8080/"
    },
    "id": "5aRBgP6_0aIq",
    "outputId": "9fd20ac2-0e48-447f-93c2-2d24bb63c4b2"
   },
   "outputs": [
    {
     "data": {
      "text/plain": [
       "array([-2., -1.,  0.,  1.,  2.])"
      ]
     },
     "execution_count": 50,
     "metadata": {},
     "output_type": "execute_result"
    }
   ],
   "source": [
    "np_linspace = np.linspace(-2, 2, 5)\n",
    "np_linspace"
   ]
  },
  {
   "cell_type": "code",
   "execution_count": 51,
   "metadata": {
    "colab": {
     "base_uri": "https://localhost:8080/"
    },
    "id": "SMJi0dDX0aIq",
    "outputId": "2d85bee7-db7c-40c7-933b-d26702c25bbe"
   },
   "outputs": [
    {
     "data": {
      "text/plain": [
       "tensor([-2., -1.,  0.,  1.,  2.])"
      ]
     },
     "execution_count": 51,
     "metadata": {},
     "output_type": "execute_result"
    }
   ],
   "source": [
    "torch_linspace = torch.linspace(-2, 2, 5)\n",
    "torch_linspace"
   ]
  },
  {
   "cell_type": "code",
   "execution_count": 52,
   "metadata": {
    "colab": {
     "base_uri": "https://localhost:8080/"
    },
    "id": "l1-G76qk2Egs",
    "outputId": "d3398756-ea12-47e5-fee4-fa21b62b4273"
   },
   "outputs": [
    {
     "data": {
      "text/plain": [
       "tensor([10.0000, 11.1111, 12.2222, 13.3333, 14.4444, 15.5556, 16.6667, 17.7778,\n",
       "        18.8889, 20.0000])"
      ]
     },
     "execution_count": 52,
     "metadata": {},
     "output_type": "execute_result"
    }
   ],
   "source": [
    "torch.linspace(10, 20, 10)"
   ]
  },
  {
   "cell_type": "markdown",
   "metadata": {
    "id": "EsCQ_2FD0aIr"
   },
   "source": [
    "## torch.arange 와 np.arange 비교"
   ]
  },
  {
   "cell_type": "code",
   "execution_count": 53,
   "metadata": {
    "colab": {
     "base_uri": "https://localhost:8080/"
    },
    "id": "FUcyApr2C8zP",
    "outputId": "543aa16c-d1ae-4f77-9870-64ae3227c2dd"
   },
   "outputs": [
    {
     "data": {
      "text/plain": [
       "array([-100. ,  -99.9,  -99.8, ...,   99.7,   99.8,   99.9], shape=(2000,))"
      ]
     },
     "execution_count": 53,
     "metadata": {},
     "output_type": "execute_result"
    }
   ],
   "source": [
    "np.arange(-100, 100, 0.1)"
   ]
  },
  {
   "cell_type": "code",
   "execution_count": 54,
   "metadata": {
    "colab": {
     "base_uri": "https://localhost:8080/"
    },
    "id": "AH86glQMy3AE",
    "outputId": "cd2c4a79-099c-40c0-dda1-b2f9dae9d0b6"
   },
   "outputs": [
    {
     "data": {
      "text/plain": [
       "tensor([-100.0000,  -99.9000,  -99.8000,  ...,   99.7000,   99.8000,\n",
       "          99.9000])"
      ]
     },
     "execution_count": 54,
     "metadata": {},
     "output_type": "execute_result"
    }
   ],
   "source": [
    "torch.arange(-100, 100, 0.1)"
   ]
  },
  {
   "cell_type": "markdown",
   "metadata": {
    "id": "2f9PE9hp0aIs"
   },
   "source": [
    "## 2D Tensor Operation"
   ]
  },
  {
   "cell_type": "code",
   "execution_count": 55,
   "metadata": {
    "colab": {
     "base_uri": "https://localhost:8080/"
    },
    "id": "IGL5sv7U0aIs",
    "outputId": "39eb34f3-c7c5-4136-9647-8edf6b3c45e0"
   },
   "outputs": [
    {
     "data": {
      "text/plain": [
       "tensor([[11, 12, 13],\n",
       "        [21, 22, 23],\n",
       "        [31, 32, 33],\n",
       "        [41, 42, 43]])"
      ]
     },
     "execution_count": 55,
     "metadata": {},
     "output_type": "execute_result"
    }
   ],
   "source": [
    "_2d_tensor = torch.tensor([[11, 12, 13], [21, 22, 23], [31, 32, 33], [41, 42, 43]])\n",
    "_2d_tensor"
   ]
  },
  {
   "cell_type": "markdown",
   "metadata": {
    "id": "z_nDsdhp0aIs"
   },
   "source": [
    "- ndimension  \n",
    "- shape  \n",
    "- size()  \n",
    "- numel (number of elements)"
   ]
  },
  {
   "cell_type": "code",
   "execution_count": 56,
   "metadata": {
    "colab": {
     "base_uri": "https://localhost:8080/"
    },
    "id": "jF4c_t1S0aIs",
    "outputId": "1dadd52a-ba63-4546-a72e-78a2bf3e3885"
   },
   "outputs": [
    {
     "name": "stdout",
     "output_type": "stream",
     "text": [
      "tensor([[11, 12, 13],\n",
      "        [21, 22, 23],\n",
      "        [31, 32, 33],\n",
      "        [41, 42, 43]])\n",
      "2\n",
      "torch.Size([4, 3])\n",
      "torch.Size([4, 3])\n",
      "12\n"
     ]
    }
   ],
   "source": [
    "print(_2d_tensor)\n",
    "print(_2d_tensor.ndimension())\n",
    "print(_2d_tensor.shape)\n",
    "print(_2d_tensor.size())\n",
    "print(_2d_tensor.numel())"
   ]
  },
  {
   "cell_type": "markdown",
   "metadata": {
    "id": "jXb9VIZS0aIu"
   },
   "source": [
    "## matrix 간의 연산"
   ]
  },
  {
   "cell_type": "code",
   "execution_count": 57,
   "metadata": {
    "colab": {
     "base_uri": "https://localhost:8080/"
    },
    "id": "JxiBKYnF0aIu",
    "outputId": "74400b1f-e66d-4264-a017-d805caa4e882"
   },
   "outputs": [
    {
     "name": "stdout",
     "output_type": "stream",
     "text": [
      "tensor([[1, 0],\n",
      "        [0, 1]])\n",
      "tensor([[2, 1],\n",
      "        [1, 2]])\n"
     ]
    }
   ],
   "source": [
    "x = torch.tensor([[1, 0], [0, 1]])\n",
    "y = torch.tensor([[2, 1], [1, 2]])\n",
    "print(x)\n",
    "print(y)"
   ]
  },
  {
   "cell_type": "markdown",
   "metadata": {
    "id": "5EbqEss80aIu"
   },
   "source": [
    "- element-wise 연산"
   ]
  },
  {
   "cell_type": "code",
   "execution_count": 58,
   "metadata": {
    "colab": {
     "base_uri": "https://localhost:8080/"
    },
    "id": "yvEPmpxg0aIv",
    "outputId": "32dd3e35-254c-4ee0-e2f8-957655b5ae22"
   },
   "outputs": [
    {
     "data": {
      "text/plain": [
       "tensor([[2, 0],\n",
       "        [0, 2]])"
      ]
     },
     "execution_count": 58,
     "metadata": {},
     "output_type": "execute_result"
    }
   ],
   "source": [
    "x * y"
   ]
  },
  {
   "cell_type": "markdown",
   "metadata": {
    "id": "O2zjsgjO0aIv"
   },
   "source": [
    "## matrix multiplication"
   ]
  },
  {
   "cell_type": "code",
   "execution_count": 59,
   "metadata": {
    "colab": {
     "base_uri": "https://localhost:8080/"
    },
    "id": "xAvkasnQ0aIv",
    "outputId": "cc0b7af9-433a-4938-8a08-ae4393bcdeac"
   },
   "outputs": [
    {
     "name": "stdout",
     "output_type": "stream",
     "text": [
      "tensor([[0, 1, 1],\n",
      "        [1, 0, 1]])\n",
      "tensor([[ 1,  1],\n",
      "        [ 1,  1],\n",
      "        [-1,  1]])\n"
     ]
    }
   ],
   "source": [
    "x = torch.tensor([[0, 1, 1], [1, 0, 1]])\n",
    "y = torch.tensor([[1, 1], [1, 1], [-1, 1]])\n",
    "\n",
    "print(x)\n",
    "print(y)"
   ]
  },
  {
   "cell_type": "code",
   "execution_count": 60,
   "metadata": {
    "colab": {
     "base_uri": "https://localhost:8080/"
    },
    "id": "pb7FYsui0aIv",
    "outputId": "691d57f4-45de-403f-c2df-531b724638a9"
   },
   "outputs": [
    {
     "data": {
      "text/plain": [
       "tensor([[0, 2],\n",
       "        [0, 2]])"
      ]
     },
     "execution_count": 60,
     "metadata": {},
     "output_type": "execute_result"
    }
   ],
   "source": [
    "torch.mm(x, y)"
   ]
  },
  {
   "cell_type": "code",
   "execution_count": 61,
   "metadata": {
    "colab": {
     "base_uri": "https://localhost:8080/"
    },
    "id": "_CLgHjTufqdJ",
    "outputId": "720ae720-0018-4f27-d5ec-8e3dc10897a4"
   },
   "outputs": [
    {
     "data": {
      "text/plain": [
       "array([[0, 2],\n",
       "       [0, 2]])"
      ]
     },
     "execution_count": 61,
     "metadata": {},
     "output_type": "execute_result"
    }
   ],
   "source": [
    "np.matmul(x.numpy(), y.numpy())"
   ]
  },
  {
   "cell_type": "markdown",
   "metadata": {
    "id": "rWCAskEP0aIw"
   },
   "source": [
    "### Concatenation\n",
    "\n",
    "- default - first axis(row-wise)로 concatenate\n",
    "- column-wise로 concatenate 하려면 axis=1 로 지정"
   ]
  },
  {
   "cell_type": "code",
   "execution_count": 62,
   "metadata": {
    "colab": {
     "base_uri": "https://localhost:8080/"
    },
    "id": "nKl42FY2zqGZ",
    "outputId": "78492b2f-6b01-4ef8-ec8f-cb919843d0bc"
   },
   "outputs": [
    {
     "name": "stdout",
     "output_type": "stream",
     "text": [
      "tensor([[1, 2, 3],\n",
      "        [4, 5, 6]])\n",
      "tensor([[ 7,  8,  9],\n",
      "        [10, 11, 12]])\n"
     ]
    }
   ],
   "source": [
    "x_1 = torch.tensor([[1, 2, 3], [4, 5, 6]])\n",
    "x_2 = torch.tensor([[7, 8, 9], [10, 11, 12]])\n",
    "print(x_1)\n",
    "print(x_2)"
   ]
  },
  {
   "cell_type": "code",
   "execution_count": 63,
   "metadata": {
    "colab": {
     "base_uri": "https://localhost:8080/"
    },
    "id": "AFRORrYn0aIw",
    "outputId": "1a4138b1-f188-44fe-ff32-0fdb1451925b"
   },
   "outputs": [
    {
     "data": {
      "text/plain": [
       "tensor([[ 1,  2,  3],\n",
       "        [ 4,  5,  6],\n",
       "        [ 7,  8,  9],\n",
       "        [10, 11, 12]])"
      ]
     },
     "execution_count": 63,
     "metadata": {},
     "output_type": "execute_result"
    }
   ],
   "source": [
    "torch.cat([x_1, x_2])"
   ]
  },
  {
   "cell_type": "code",
   "execution_count": 64,
   "metadata": {
    "colab": {
     "base_uri": "https://localhost:8080/"
    },
    "id": "M07wU-D90aIw",
    "outputId": "82bc4124-15fd-4ee6-f916-d6df70beb9f3"
   },
   "outputs": [
    {
     "data": {
      "text/plain": [
       "tensor([[ 1,  2,  3,  7,  8,  9],\n",
       "        [ 4,  5,  6, 10, 11, 12]])"
      ]
     },
     "execution_count": 64,
     "metadata": {},
     "output_type": "execute_result"
    }
   ],
   "source": [
    "torch.cat([x_1, x_2], axis=1)"
   ]
  },
  {
   "cell_type": "markdown",
   "metadata": {
    "id": "rId3CNLU0aIx"
   },
   "source": [
    "### torch.sum, torch.max, torch.min, torch.argmax, torch.argmin\n",
    "\n",
    "- torch.sum(input, dim, keepdim=False, dtype=None) → Tensor  \n",
    "주어진 차원 dim에서 입력 텐서의 각 행의 합(max, min)을 반환합니다.\n",
    "\n",
    "- dim 을 지정한 경우, 지정된 dim을 축소하는 것입니다. 따라서 dim 0(행)을 접으면 하나의 행이 됩니다(열 단위로 합산)."
   ]
  },
  {
   "cell_type": "code",
   "execution_count": 65,
   "metadata": {
    "colab": {
     "base_uri": "https://localhost:8080/"
    },
    "id": "hDN0yJwK2IfD",
    "outputId": "dd09768a-a9e6-42ff-cb24-fb15e6389b00"
   },
   "outputs": [
    {
     "data": {
      "text/plain": [
       "torch.Size([2, 3])"
      ]
     },
     "execution_count": 65,
     "metadata": {},
     "output_type": "execute_result"
    }
   ],
   "source": [
    "x = torch.tensor([\n",
    "     [1, 2, 3],\n",
    "     [4, 5, 6]\n",
    "   ])\n",
    "x.shape"
   ]
  },
  {
   "cell_type": "code",
   "execution_count": 66,
   "metadata": {
    "colab": {
     "base_uri": "https://localhost:8080/"
    },
    "id": "UW7qLVI82TVz",
    "outputId": "6c7be254-5ee3-461f-fb31-816a0b5aea74"
   },
   "outputs": [
    {
     "data": {
      "text/plain": [
       "tensor(21)"
      ]
     },
     "execution_count": 66,
     "metadata": {},
     "output_type": "execute_result"
    }
   ],
   "source": [
    "torch.sum(x)"
   ]
  },
  {
   "cell_type": "code",
   "execution_count": 67,
   "metadata": {
    "colab": {
     "base_uri": "https://localhost:8080/"
    },
    "id": "jqe8R1Qx2TPP",
    "outputId": "8170d0ae-ab1d-40da-c0ea-fe2c2acef9a2"
   },
   "outputs": [
    {
     "data": {
      "text/plain": [
       "tensor([5, 7, 9])"
      ]
     },
     "execution_count": 67,
     "metadata": {},
     "output_type": "execute_result"
    }
   ],
   "source": [
    "torch.sum(x, dim=0)"
   ]
  },
  {
   "cell_type": "code",
   "execution_count": 68,
   "metadata": {
    "colab": {
     "base_uri": "https://localhost:8080/"
    },
    "id": "8HwxCj4i0aIy",
    "outputId": "660d3ceb-af7f-4e97-b386-c80046ef5401"
   },
   "outputs": [
    {
     "data": {
      "text/plain": [
       "tensor([ 6, 15])"
      ]
     },
     "execution_count": 68,
     "metadata": {},
     "output_type": "execute_result"
    }
   ],
   "source": [
    "torch.sum(x, dim=1)"
   ]
  },
  {
   "cell_type": "code",
   "execution_count": 69,
   "metadata": {
    "colab": {
     "base_uri": "https://localhost:8080/"
    },
    "id": "CePmD-2k0aIy",
    "outputId": "57fa8ebe-d088-48c2-f689-6fffa7ea2201"
   },
   "outputs": [
    {
     "data": {
      "text/plain": [
       "(torch.return_types.max(\n",
       " values=tensor([4, 5, 6]),\n",
       " indices=tensor([1, 1, 1])),\n",
       " torch.return_types.min(\n",
       " values=tensor([1, 2, 3]),\n",
       " indices=tensor([0, 0, 0])))"
      ]
     },
     "execution_count": 69,
     "metadata": {},
     "output_type": "execute_result"
    }
   ],
   "source": [
    "torch.max(x, axis=0), torch.min(x, axis=0)"
   ]
  },
  {
   "cell_type": "code",
   "execution_count": 70,
   "metadata": {
    "colab": {
     "base_uri": "https://localhost:8080/"
    },
    "id": "1a8CMMJ-0O1n",
    "outputId": "735904f8-98ac-4b34-81d5-cacabfddd5ca"
   },
   "outputs": [
    {
     "data": {
      "text/plain": [
       "(torch.return_types.max(\n",
       " values=tensor([3, 6]),\n",
       " indices=tensor([2, 2])),\n",
       " torch.return_types.min(\n",
       " values=tensor([1, 4]),\n",
       " indices=tensor([0, 0])))"
      ]
     },
     "execution_count": 70,
     "metadata": {},
     "output_type": "execute_result"
    }
   ],
   "source": [
    "torch.max(x, axis=1), torch.min(x, axis=1)"
   ]
  },
  {
   "cell_type": "code",
   "execution_count": 71,
   "metadata": {
    "colab": {
     "base_uri": "https://localhost:8080/"
    },
    "id": "nXjMNMg-0aIy",
    "outputId": "ab21c876-fde4-42fb-afab-894676e36638"
   },
   "outputs": [
    {
     "data": {
      "text/plain": [
       "(tensor(5), tensor(0))"
      ]
     },
     "execution_count": 71,
     "metadata": {},
     "output_type": "execute_result"
    }
   ],
   "source": [
    "torch.argmax(x), torch.argmin(x)"
   ]
  },
  {
   "cell_type": "code",
   "execution_count": 72,
   "metadata": {
    "colab": {
     "base_uri": "https://localhost:8080/"
    },
    "id": "M_PL7lmN5JKb",
    "outputId": "2cdca398-7a47-4021-c2ce-8fb640d6f1bc"
   },
   "outputs": [
    {
     "data": {
      "text/plain": [
       "(tensor([1, 1, 1]), tensor([0, 0, 0]))"
      ]
     },
     "execution_count": 72,
     "metadata": {},
     "output_type": "execute_result"
    }
   ],
   "source": [
    "torch.argmax(x, axis=0), torch.argmin(x, axis=0)"
   ]
  },
  {
   "cell_type": "code",
   "execution_count": 73,
   "metadata": {
    "colab": {
     "base_uri": "https://localhost:8080/"
    },
    "id": "synk2elK0aIz",
    "outputId": "b253904c-c04a-4e9e-d5ed-b36b971ca828"
   },
   "outputs": [
    {
     "data": {
      "text/plain": [
       "(tensor([2, 2]), tensor([0, 0]))"
      ]
     },
     "execution_count": 73,
     "metadata": {},
     "output_type": "execute_result"
    }
   ],
   "source": [
    "torch.argmax(x, axis=1), torch.argmin(x, axis=1)"
   ]
  },
  {
   "cell_type": "code",
   "execution_count": 96,
   "metadata": {
    "id": "E1h8Frco0aI_"
   },
   "outputs": [],
   "source": []
  }
 ],
 "metadata": {
  "accelerator": "GPU",
  "colab": {
   "gpuType": "T4",
   "provenance": []
  },
  "kernelspec": {
   "display_name": "Python 3 (ipykernel)",
   "language": "python",
   "name": "python3"
  },
  "language_info": {
   "codemirror_mode": {
    "name": "ipython",
    "version": 3
   },
   "file_extension": ".py",
   "mimetype": "text/x-python",
   "name": "python",
   "nbconvert_exporter": "python",
   "pygments_lexer": "ipython3",
   "version": "3.11.13"
  }
 },
 "nbformat": 4,
 "nbformat_minor": 4
}
