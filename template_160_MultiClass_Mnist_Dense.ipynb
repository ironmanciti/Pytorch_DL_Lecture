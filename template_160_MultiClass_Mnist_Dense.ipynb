{
 "cells": [
  {
   "cell_type": "markdown",
   "id": "a534ac1d",
   "metadata": {
    "id": "veTgPg0YPxGn"
   },
   "source": [
    "# 160. mnist dataset 손글씨 인식 - Multi-class Classification\n",
    "\n",
    "- Basic Fully Connected Layer 이용\n",
    "\n",
    "- nn.CrossEntropyLoss 이용\n",
    "\n",
    "- GPU 필요하므로 Google Colab 에서 작업"
   ]
  },
  {
   "cell_type": "code",
   "execution_count": null,
   "id": "c9d0f62e",
   "metadata": {},
   "outputs": [],
   "source": []
  },
  {
   "cell_type": "code",
   "execution_count": null,
   "id": "f9e1faa0",
   "metadata": {},
   "outputs": [],
   "source": []
  },
  {
   "cell_type": "markdown",
   "id": "4c61813f",
   "metadata": {
    "id": "2o3vF-CVPxGt"
   },
   "source": [
    "### Dataset handling\n",
    "- ``transforms.ToTensor()`` - image 를 tensor로 변환\n",
    "- ```SubsetSampler``` - 주어진 인덱스 목록에서 무작위로 비복원 추출"
   ]
  },
  {
   "cell_type": "code",
   "execution_count": null,
   "id": "4faf186f",
   "metadata": {},
   "outputs": [],
   "source": [
    "# download mnist data"
   ]
  },
  {
   "cell_type": "code",
   "execution_count": null,
   "id": "a96251aa",
   "metadata": {},
   "outputs": [],
   "source": []
  },
  {
   "cell_type": "code",
   "execution_count": null,
   "id": "699cd859",
   "metadata": {},
   "outputs": [],
   "source": []
  },
  {
   "cell_type": "markdown",
   "id": "a09881a2",
   "metadata": {
    "id": "6x55spF_s3hY"
   },
   "source": [
    "- Data 시각화"
   ]
  },
  {
   "cell_type": "code",
   "execution_count": null,
   "id": "399f2c11",
   "metadata": {},
   "outputs": [],
   "source": []
  },
  {
   "cell_type": "markdown",
   "id": "817262ec",
   "metadata": {
    "id": "gY48Ca8FPxGw"
   },
   "source": [
    "## Dataset Loader 생성\n",
    "\n",
    "- Train dataset 을 Train 과 Validation set 으로 분리"
   ]
  },
  {
   "cell_type": "code",
   "execution_count": null,
   "id": "8ba14c6e",
   "metadata": {},
   "outputs": [],
   "source": [
    "# 검증 데이터셋(validation set)으로 사용할 전체 학습 데이터셋(train_dataset)의 비율 설정\n",
    "# 학습 데이터셋의 총 데이터 수\n",
    "# 0부터 num_train-1까지의 인덱스 생성\n",
    "# 데이터의 인덱스를 무작위로 섞습니다.\n",
    "# 학습 데이터셋과 검증 데이터셋을 분할할 위치 계산\n",
    "# 예를 들어, 전체 데이터셋의 20%를 검증 데이터셋으로 사용하고자 할 때,\n",
    "# 전체 데이터셋 크기에 valid_size(0.2)를 곱하여 분할 위치(split)를 계산\n",
    "# 계산된 분할 위치를 기준으로 학습 데이터셋과 검증 데이터셋의 인덱스를 분리\n",
    "# split 이후의 인덱스는 학습 데이터셋으로, split 이전의 인덱스는 검증 데이터셋으로 사용됩니다.\n",
    "# 학습 데이터셋과 검증 데이터셋에 대한 sampler 정의\n",
    "# SubsetRandomSampler는 주어진 인덱스 리스트에 따라 무작위로 샘플을 추출합니다.\n",
    "# 이를 통해 DataLoader가 데이터셋을 무작위로 추출할 수 있도록 합니다."
   ]
  },
  {
   "cell_type": "markdown",
   "id": "ec827ab3",
   "metadata": {
    "id": "V4gD2e-2s3ha"
   },
   "source": [
    "- train, validation, test dataset 으로 3 분할"
   ]
  },
  {
   "cell_type": "code",
   "execution_count": null,
   "id": "38060653",
   "metadata": {},
   "outputs": [],
   "source": [
    "# 훈련 데이터셋에서 배치 데이터를 로드하기 위한 DataLoader 생성\n",
    "# `sampler=train_sampler`는 DataLoader가 데이터셋에서 샘플을 선택하는 방법을 정의합니다.\n",
    "# 여기서는 `SubsetRandomSampler`를 사용하여 정의된 인덱스에 따라 데이터를 무작위로 샘플링합니다.\n",
    "# 검증 데이터셋을 위한 DataLoader를 생성합니다.\n",
    "# `valid_sampler`를 사용하여 검증 데이터셋의 샘플링 방식을 정의합니다.\n",
    "# 테스트 데이터셋을 위한 DataLoader를 생성합니다.\n",
    "# 테스트 데이터셋은 셔플하지 않으며(`shuffle=False`), 모델의 일반화 성능을 평가하는 데 사용됩니다."
   ]
  },
  {
   "cell_type": "markdown",
   "id": "76afa4a5",
   "metadata": {
    "id": "-FLMOVrtPxGy"
   },
   "source": [
    "### Model custom build\n",
    "\n",
    "- nn.Linear 이용\n",
    "- activation 으로 relu 함수 적용\n",
    "- 2개의 hidden layer와 dropout 사용\n",
    "\n",
    "<img src=\"linear.png\" width=\"600\" />"
   ]
  },
  {
   "cell_type": "code",
   "execution_count": null,
   "id": "1a950c4f",
   "metadata": {},
   "outputs": [],
   "source": [
    "class Net(nn.Module):\n",
    "    def __init__(self, D_in, H, D_out):\n",
    "    def forward(self, x):"
   ]
  },
  {
   "cell_type": "code",
   "execution_count": null,
   "id": "b1c258c3",
   "metadata": {},
   "outputs": [],
   "source": []
  },
  {
   "cell_type": "markdown",
   "id": "589ad9c1",
   "metadata": {
    "id": "LzipsIYNPxG0"
   },
   "source": [
    "### Model Summary"
   ]
  },
  {
   "cell_type": "code",
   "execution_count": null,
   "id": "5606f504",
   "metadata": {},
   "outputs": [],
   "source": []
  },
  {
   "cell_type": "code",
   "execution_count": null,
   "id": "9cd84793",
   "metadata": {},
   "outputs": [],
   "source": []
  },
  {
   "cell_type": "code",
   "execution_count": null,
   "id": "6125498d",
   "metadata": {},
   "outputs": [],
   "source": [
    "# Look at sample probabilities\n",
    "# torch.argmax 로 가장 확률이 높은 output 선택"
   ]
  },
  {
   "cell_type": "markdown",
   "id": "5f13f4a5",
   "metadata": {
    "id": "A3_GsIz2PxG3"
   },
   "source": [
    "### softmax 함수를 사용하여 output row 를 확률 분포로 바꾼다. 공식은 다음과 같다.\n",
    "\n",
    "\n",
    "<img src=\"softmax.png\" width=\"400\" />\n",
    "\n",
    "- output row 의 각 element $y_i$ 를 $e^{y_i}$ 로 변경하여 모든 element 를 양수로 만든다.  \n",
    "- 각 element 를 모든 element 의 합으로 나누어 합계가 1 이 되도록 한다.  \n",
    "- predicted label 은 torch.max 를 이용하여 각 row 에서 highest probability 값을 고른다.  "
   ]
  },
  {
   "cell_type": "markdown",
   "id": "a0375b37",
   "metadata": {
    "id": "j0UrBrbYPxG3"
   },
   "source": [
    "### Loss Function 정의\n",
    "\n",
    "<img src=\"crossentropy.png\" width=\"400\" />"
   ]
  },
  {
   "cell_type": "markdown",
   "id": "2cad2cac",
   "metadata": {
    "id": "YV-h-gbpPxG4"
   },
   "source": [
    "- 손실함수는 categorical cross-entropy 지정"
   ]
  },
  {
   "cell_type": "code",
   "execution_count": null,
   "id": "4ce52f49",
   "metadata": {},
   "outputs": [],
   "source": []
  },
  {
   "cell_type": "markdown",
   "id": "487b7f99",
   "metadata": {
    "id": "IqfVB66hPxG5"
   },
   "source": [
    "- optimizer 는 Stochastic Gradient Descent 사용"
   ]
  },
  {
   "cell_type": "code",
   "execution_count": null,
   "id": "c2ff4011",
   "metadata": {},
   "outputs": [],
   "source": []
  },
  {
   "cell_type": "code",
   "execution_count": null,
   "id": "aef3c770",
   "metadata": {},
   "outputs": [],
   "source": []
  },
  {
   "cell_type": "code",
   "execution_count": null,
   "id": "da68f569",
   "metadata": {},
   "outputs": [],
   "source": [
    "# 손실 및 정확도 기록을 위한 리스트 초기화\n",
    "    # 에폭 당 평균 훈련 손실 및 정확도 계산\n",
    "    # 에폭 당 평균 검증 손실 및 정확도 계산\n",
    "    # 에폭별 훈련 및 검증 손실, 정확도 출력"
   ]
  },
  {
   "cell_type": "code",
   "execution_count": null,
   "id": "a17f0672",
   "metadata": {},
   "outputs": [],
   "source": []
  },
  {
   "cell_type": "markdown",
   "id": "4c2b0aca",
   "metadata": {
    "id": "Yc6XL1_IPxG7"
   },
   "source": [
    "## Model 평가 - Test set 사용"
   ]
  },
  {
   "cell_type": "code",
   "execution_count": null,
   "id": "c5347346",
   "metadata": {},
   "outputs": [],
   "source": [
    "# 예측과 레이블을 저장할 리스트 초기화\n",
    "# 모델을 평가 모드로 설정\n",
    "# 테스트 데이터 로더를 통해 데이터를 가져옴\n",
    "    # 모델에 입력 데이터를 전달하여 예측값을 계산\n",
    "    # 예측된 클래스를 계산 (최대 확률을 가진 인덱스)\n",
    "    # 예측된 클래스와 실제 레이블을 CPU로 이동시킨 후 numpy 배열로 변환하여 리스트에 추가\n",
    "# 올바르게 예측된 샘플의 인덱스 계산\n",
    "# 잘못 예측된 샘플의 인덱스 계산\n",
    "# 정확도 계산 및 출력\n",
    "# 올바르게 예측된 샘플 수를 전체 예측 수로 나누어 정확도를 계산"
   ]
  },
  {
   "cell_type": "markdown",
   "id": "d762c7a9",
   "metadata": {
    "id": "WUeCcGgsPxG8"
   },
   "source": [
    "## Category 별 분류 성능 측정"
   ]
  },
  {
   "cell_type": "code",
   "execution_count": null,
   "id": "80a478bc",
   "metadata": {},
   "outputs": [],
   "source": []
  },
  {
   "cell_type": "markdown",
   "id": "6cadf54e",
   "metadata": {
    "id": "h4r4GpBxPxG-"
   },
   "source": [
    "## Sample Test 결과 시각화"
   ]
  },
  {
   "cell_type": "code",
   "execution_count": null,
   "id": "0f72e73c",
   "metadata": {},
   "outputs": [],
   "source": []
  },
  {
   "cell_type": "code",
   "execution_count": null,
   "id": "c123a655",
   "metadata": {},
   "outputs": [],
   "source": []
  }
 ],
 "metadata": {
  "accelerator": "GPU",
  "colab": {
   "gpuType": "T4",
   "provenance": []
  },
  "kernelspec": {
   "display_name": "Python 3 (ipykernel)",
   "language": "python",
   "name": "python3"
  },
  "language_info": {
   "codemirror_mode": {
    "name": "ipython",
    "version": 3
   },
   "file_extension": ".py",
   "mimetype": "text/x-python",
   "name": "python",
   "nbconvert_exporter": "python",
   "pygments_lexer": "ipython3",
   "version": "3.9.7"
  }
 },
 "nbformat": 4,
 "nbformat_minor": 5
}
