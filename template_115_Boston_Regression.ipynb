{
 "cells": [
  {
   "cell_type": "markdown",
   "id": "716a6e4f",
   "metadata": {
    "id": "tdAZuRz65DQe"
   },
   "source": [
    "# 115.Boston House Price Regression\n",
    "\n",
    "### 13 개의 독립변수와 1 개의 종속변수 (주택가격 중앙값) 으로 구성\n",
    "\n",
    "#### 독립변수 (13 개)\n",
    "CRIM 자치시(town) 별 1인당 범죄율  \n",
    "ZN 25,000 평방피트를 초과하는 거주지역의 비율  \n",
    "INDUS 비소매상업지역이 점유하고 있는 토지의 비율  \n",
    "CHAS 찰스강에 대한 더미변수(강의 경계에 위치한 경우는 1, 아니면 0)  \n",
    "NOX 10ppm 당 농축 일산화질소  \n",
    "RM 주택 1가구당 평균 방의 개수  \n",
    "AGE 1940년 이전에 건축된 소유주택의 비율  \n",
    "DIS 5개의 보스턴 직업센터까지의 접근성 지수  \n",
    "RAD 방사형 도로까지의 접근성 지수  \n",
    "TAX 10,000 달러 당 재산세율  \n",
    "PTRATIO 자치시(town)별 학생/교사 비율  \n",
    "B 1000(Bk-0.63)^2, 여기서 Bk는 자치시별 흑인의 비율을 말함  \n",
    "LSTAT 모집단의 하위계층의 비율(%)   \n",
    "\n",
    "#### 종속변수 (1 개)\n",
    "MEDV 본인 소유의 주택가격(중앙값) (단위: $1,000)  "
   ]
  },
  {
   "cell_type": "code",
   "execution_count": null,
   "id": "2c2a3a30",
   "metadata": {},
   "outputs": [],
   "source": []
  },
  {
   "cell_type": "code",
   "execution_count": null,
   "id": "87e851c1",
   "metadata": {},
   "outputs": [],
   "source": []
  },
  {
   "cell_type": "markdown",
   "id": "646d4322",
   "metadata": {
    "id": "RsrXVSl75DQk"
   },
   "source": [
    "Data Load"
   ]
  },
  {
   "cell_type": "code",
   "execution_count": null,
   "id": "ff39f2c5",
   "metadata": {},
   "outputs": [],
   "source": [
    "# \"boston_house.csv\" 파일을 읽어와 데이터프레임으로 저장\n",
    "# 첫 번째 열(index_col=0)을 인덱스로 사용\n",
    "# 'MEDV' 열을 제거하여 입력 데이터(boston) 생성\n",
    "# 'MEDV' 열을 분리하여 목표 변수(target)로 저장"
   ]
  },
  {
   "cell_type": "markdown",
   "id": "441b7e56",
   "metadata": {
    "id": "tyZmE_c_5DQl"
   },
   "source": [
    "Input / Target 지정"
   ]
  },
  {
   "cell_type": "code",
   "execution_count": null,
   "id": "d1eb4e9e",
   "metadata": {},
   "outputs": [],
   "source": [
    "# boston 데이터프레임의 값을 넘파이 배열로 변환하여 X에 저장 (입력 데이터)\n",
    "# target 데이터프레임의 값을 넘파이 배열로 변환하여 y에 저장 (목표 변수)\n",
    "# X와 y의 형태(차원)를 출력하여 데이터 크기 확인"
   ]
  },
  {
   "cell_type": "markdown",
   "id": "9949d096",
   "metadata": {
    "id": "mdfYzowl5DQl"
   },
   "source": [
    "Train/Test split"
   ]
  },
  {
   "cell_type": "code",
   "execution_count": null,
   "id": "a72ff565",
   "metadata": {},
   "outputs": [],
   "source": [
    "# 데이터를 학습용(train)과 테스트용(test)으로 분할\n",
    "# test_size=0.2 : 데이터의 20%를 테스트 세트로 사용\n",
    "# random_state=0 : 실행할 때마다 동일한 데이터 분할을 보장하기 위한 랜덤 시드 설정\n",
    "# 분할된 데이터셋의 크기(shape)를 출력하여 확인"
   ]
  },
  {
   "cell_type": "markdown",
   "id": "196da98b",
   "metadata": {
    "id": "8EjqAEHA5DQm"
   },
   "source": [
    "Feature Scaling"
   ]
  },
  {
   "cell_type": "code",
   "execution_count": null,
   "id": "6ebb5c7b",
   "metadata": {},
   "outputs": [],
   "source": [
    "# MinMaxScaler 객체 생성 (각 특성을 최소 0, 최대 1 범위로 스케일링)\n",
    "# 학습 데이터(X_train)에 대해 스케일링을 학습(fit)하고 변환(transform) 적용\n",
    "# 테스트 데이터(X_test)에 대해 동일한 변환(transform) 적용 (fit을 다시 하지 않음)"
   ]
  },
  {
   "cell_type": "markdown",
   "id": "3d9dc736",
   "metadata": {
    "id": "7bWVbEw75DQm"
   },
   "source": [
    "Numpy Data를 torch tensor 로 변환"
   ]
  },
  {
   "cell_type": "code",
   "execution_count": null,
   "id": "78801bfe",
   "metadata": {},
   "outputs": [],
   "source": [
    "# X_train과 X_test 데이터를 PyTorch의 tensor 형태로 변환 (데이터 타입: float32)\n",
    "# y_train과 y_test 데이터를 tensor로 변환하고, 2D 형태로 조정 (열 벡터로 변환)\n",
    "# 변환된 텐서들의 크기(shape) 출력"
   ]
  },
  {
   "cell_type": "markdown",
   "id": "a2800117",
   "metadata": {
    "id": "yTgmzHhY5DQm"
   },
   "source": [
    "### Linear Model build\n",
    "- hidden layer가 한개인 linear regression model"
   ]
  },
  {
   "cell_type": "code",
   "execution_count": null,
   "id": "49363b0c",
   "metadata": {},
   "outputs": [],
   "source": [
    "# 다층 퍼셉트론(MLP) 기반 선형 회귀 모델 정의\n",
    "class LinearReg(nn.Module):\n",
    "    def __init__(self, input_size, output_size):\n",
    "    def forward(self, x):"
   ]
  },
  {
   "cell_type": "markdown",
   "id": "a1a8b676",
   "metadata": {
    "id": "2JPWRyW75DQm"
   },
   "source": [
    "model instance 생성"
   ]
  },
  {
   "cell_type": "code",
   "execution_count": null,
   "id": "dc4ffd63",
   "metadata": {},
   "outputs": [],
   "source": [
    "# 입력 특성 개수(X_train의 열 개수)와 출력 크기(1)를 사용하여 모델 생성\n",
    "# 모델 구조 출력"
   ]
  },
  {
   "cell_type": "markdown",
   "id": "aa2c1c71",
   "metadata": {
    "id": "kvnNAUvy5DQn"
   },
   "source": [
    "손실함수/optimizer 정의"
   ]
  },
  {
   "cell_type": "code",
   "execution_count": null,
   "id": "684a6725",
   "metadata": {},
   "outputs": [],
   "source": [
    "# 손실 함수 설정 (MSELoss: 평균 제곱 오차 손실 함수)\n",
    "# 최적화 알고리즘 설정 (Adam 옵티마이저, 학습률 lr=0.001)"
   ]
  },
  {
   "cell_type": "markdown",
   "id": "15d54a62",
   "metadata": {
    "id": "lKhnIAdm5DQn"
   },
   "source": [
    "### Dataset Loader 생성\n",
    "\n",
    "- torch.utils.data.TensorDataset : Dataset wrapping tensors"
   ]
  },
  {
   "cell_type": "code",
   "execution_count": null,
   "id": "d94784d7",
   "metadata": {},
   "outputs": [],
   "source": [
    "# TensorDataset 생성 (X_train_ts: 입력 데이터, y_train_ts: 정답 레이블)\n",
    "# DataLoader 생성\n",
    "# - batch_size=32 : 한 번에 32개 샘플씩 미니배치를 구성\n",
    "# - shuffle=True : 데이터 순서를 섞어서 학습 성능 향상"
   ]
  },
  {
   "cell_type": "markdown",
   "id": "1585a113",
   "metadata": {
    "id": "XEqVSYgq5DQn"
   },
   "source": [
    "## The training process\n",
    "- Batch data Load\n",
    "- model 을 이용하여 batch data 예측  \n",
    "- loss value 계산\n",
    "- optimizer 에 저장된 grad value clear\n",
    "- loss value backpropagate\n",
    "- optimizer update  "
   ]
  },
  {
   "cell_type": "code",
   "execution_count": null,
   "id": "e1307464",
   "metadata": {},
   "outputs": [],
   "source": [
    "# 손실 값을 저장할 리스트 초기화\n",
    "# 학습 반복 횟수 설정\n",
    "# 학습 루프 시작\n",
    "    # 에포크마다 손실 값 출력\n",
    "    # 손실 값을 리스트에 저장"
   ]
  },
  {
   "cell_type": "markdown",
   "id": "82e191e0",
   "metadata": {
    "id": "BiIwVreg5DQn"
   },
   "source": [
    "Test set을 이용하여 model 평가"
   ]
  },
  {
   "cell_type": "code",
   "execution_count": null,
   "id": "56e00265",
   "metadata": {},
   "outputs": [],
   "source": [
    "# 테스트 데이터(X_test_ts)를 모델에 입력하여 예측값을 얻고, 손실(MSELoss) 계산\n",
    "# 테스트 데이터에 대한 최종 손실 출력"
   ]
  },
  {
   "cell_type": "markdown",
   "id": "d7377c62",
   "metadata": {
    "id": "DarpxnIQ5DQo"
   },
   "source": [
    "Loss 시각화"
   ]
  },
  {
   "cell_type": "code",
   "execution_count": null,
   "id": "8702f9c8",
   "metadata": {},
   "outputs": [],
   "source": []
  },
  {
   "cell_type": "markdown",
   "id": "64d6802c",
   "metadata": {
    "id": "gaahkLbf5DQo"
   },
   "source": [
    "Test set을 이용하여 예측"
   ]
  },
  {
   "cell_type": "code",
   "execution_count": null,
   "id": "e35cf811",
   "metadata": {},
   "outputs": [],
   "source": [
    "# 테스트 데이터(X_test_ts)를 모델에 입력하여 예측 수행 (디바이스에 맞게 변환)"
   ]
  },
  {
   "cell_type": "markdown",
   "id": "33175e25",
   "metadata": {
    "id": "fzCMwOS65DQo"
   },
   "source": [
    "MSE, R2 계산"
   ]
  },
  {
   "cell_type": "code",
   "execution_count": null,
   "id": "6a45389b",
   "metadata": {},
   "outputs": [],
   "source": [
    "# 평균 제곱 오차(MSE) 계산 및 출력\n",
    "# 결정 계수(R² Score) 계산 및 출력"
   ]
  },
  {
   "cell_type": "markdown",
   "id": "ef3c7187",
   "metadata": {
    "id": "Ohb9KfPC5DQo"
   },
   "source": [
    "True vs. Predicted 시각화"
   ]
  },
  {
   "cell_type": "code",
   "execution_count": null,
   "id": "008fd417",
   "metadata": {},
   "outputs": [],
   "source": [
    "# 실제값(y_test)과 예측값(y_pred)의 산점도 그리기\n",
    "# 완벽한 예측(예측값 = 실제값)을 나타내는 기준선 추가 (빨간색 선)\n",
    "# 그래프 레이블 및 제목 설정"
   ]
  },
  {
   "cell_type": "code",
   "execution_count": null,
   "id": "d0fd0407",
   "metadata": {},
   "outputs": [],
   "source": []
  }
 ],
 "metadata": {
  "colab": {
   "provenance": []
  },
  "kernelspec": {
   "display_name": "Python 3 (ipykernel)",
   "language": "python",
   "name": "python3"
  },
  "language_info": {
   "codemirror_mode": {
    "name": "ipython",
    "version": 3
   },
   "file_extension": ".py",
   "mimetype": "text/x-python",
   "name": "python",
   "nbconvert_exporter": "python",
   "pygments_lexer": "ipython3",
   "version": "3.9.21"
  }
 },
 "nbformat": 4,
 "nbformat_minor": 5
}
