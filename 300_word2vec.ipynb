{
 "cells": [
  {
   "cell_type": "markdown",
   "metadata": {
    "id": "8q7LM7qpaE2B"
   },
   "source": [
    "# word2vec 작성\n",
    "\n",
    "- skipgram, window size 2 의 simplified word2vec model 작성\n",
    "\n",
    "<img src=\"https://i.imgur.com/fr5B4on.jpeg\" width=500 />"
   ]
  },
  {
   "cell_type": "code",
   "execution_count": 1,
   "metadata": {
    "colab": {
     "base_uri": "https://localhost:8080/"
    },
    "id": "b8s0c3FqaE2C",
    "outputId": "554df85d-ff85-48b0-8792-99b40c5a6c38"
   },
   "outputs": [
    {
     "data": {
      "text/plain": [
       "device(type='cpu')"
      ]
     },
     "execution_count": 1,
     "metadata": {},
     "output_type": "execute_result"
    }
   ],
   "source": [
    "import torch\n",
    "import torch.nn as nn\n",
    "import torch.optim as optim\n",
    "import numpy as np\n",
    "import matplotlib.pyplot as plt\n",
    "import re\n",
    "\n",
    "device = torch.device(\"cuda\" if torch.cuda.is_available() else \"cpu\")\n",
    "device"
   ]
  },
  {
   "cell_type": "markdown",
   "metadata": {
    "id": "3gKCm5JkaE2C"
   },
   "source": [
    "### Toy 말뭉치"
   ]
  },
  {
   "cell_type": "code",
   "execution_count": 2,
   "metadata": {
    "id": "aXJo0CTGaE2D"
   },
   "outputs": [],
   "source": [
    "corpus = [\n",
    "    \"king is a very strong man\",\n",
    "    \"queen is a wise and pretty woman\",\n",
    "    \"boy is a young man\",\n",
    "    \"girl is a young and pretty woman\",\n",
    "    \"prince is young and will be a strong and wise king\",\n",
    "    \"princess is a young woman and will be a pretty and wise queen\",\n",
    "    \"man is strong\",\n",
    "    \"woman is pretty\",\n",
    "    \"prince is a boy and will be a king\",\n",
    "    \"princess is a girl and will be a queen\",\n",
    "    \"a king is powerful and strong\",\n",
    "    \"a queen is beautiful and intelligent\",\n",
    "    \"a boy is a youthful male\",\n",
    "    \"a girl is a youthful and lovely female\",\n",
    "    \"a prince is a young and smart future king\",\n",
    "    \"a princess is a young and graceful future queen\",\n",
    "    \"a king has power and strength\",\n",
    "    \"a queen has wisdom and charm\",\n",
    "    \"a prince will rule as a king one day\",\n",
    "    \"a princess will become a queen in the future\",\n",
    "    \"a king and a queen rule the kingdom\",\n",
    "    \"a prince and a princess are part of the royal family\",\n",
    "    \"a boy grows up to be a man\",\n",
    "    \"a girl grows up to be a woman\",\n",
    "    \"a strong man can become a king\",\n",
    "    \"a wise woman can become a queen\",\n",
    "    \"kings and queens live in castles\",\n",
    "    \"princes and princesses are members of the royal family\",\n",
    "    \"a man and a woman can both be leaders\",\n",
    "    \"a young boy dreams of becoming a king\",\n",
    "    \"a young girl dreams of becoming a queen\"\n",
    "]"
   ]
  },
  {
   "cell_type": "code",
   "execution_count": 3,
   "metadata": {
    "colab": {
     "base_uri": "https://localhost:8080/"
    },
    "id": "8T3K-m2E3yHY",
    "outputId": "a2d0432e-bd1a-4cdf-f7ab-828cd935dd3a"
   },
   "outputs": [
    {
     "data": {
      "text/plain": [
       "[['king', 'very', 'strong', 'man'],\n",
       " ['queen', 'wise', 'pretty', 'woman'],\n",
       " ['boy', 'young', 'man'],\n",
       " ['girl', 'young', 'pretty', 'woman'],\n",
       " ['prince', 'young', 'strong', 'wise', 'king'],\n",
       " ['princess', 'young', 'woman', 'pretty', 'wise', 'queen'],\n",
       " ['man', 'strong'],\n",
       " ['woman', 'pretty'],\n",
       " ['prince', 'boy', 'king'],\n",
       " ['princess', 'girl', 'queen'],\n",
       " ['king', 'powerful', 'strong'],\n",
       " ['queen', 'beautiful', 'intelligent'],\n",
       " ['boy', 'youthful', 'male'],\n",
       " ['girl', 'youthful', 'lovely', 'female'],\n",
       " ['prince', 'young', 'smart', 'future', 'king'],\n",
       " ['princess', 'young', 'graceful', 'future', 'queen'],\n",
       " ['king', 'power', 'strength'],\n",
       " ['queen', 'wisdom', 'charm'],\n",
       " ['prince', 'rule', 'king', 'one', 'day'],\n",
       " ['princess', 'become', 'queen', 'future'],\n",
       " ['king', 'queen', 'rule', 'kingdom'],\n",
       " ['prince', 'princess', 'part', 'royal', 'family'],\n",
       " ['boy', 'grows', 'man'],\n",
       " ['girl', 'grows', 'woman'],\n",
       " ['strong', 'man', 'become', 'king'],\n",
       " ['wise', 'woman', 'become', 'queen'],\n",
       " ['kings', 'queens', 'live', 'castles'],\n",
       " ['princes', 'princesses', 'members', 'royal', 'family'],\n",
       " ['man', 'woman', 'both', 'leaders'],\n",
       " ['young', 'boy', 'dreams', 'becoming', 'king'],\n",
       " ['young', 'girl', 'dreams', 'becoming', 'queen']]"
      ]
     },
     "execution_count": 3,
     "metadata": {},
     "output_type": "execute_result"
    }
   ],
   "source": [
    "# 텍스트 전처리\n",
    "\n",
    "# 불용어 리스트 (제거할 단어 목록)\n",
    "stop_words = ['is', 'a', 'will', 'be', 'and', 'are', 'to', 'as', 'the', 'in', 'has', 'up', 'can', 'of']\n",
    "\n",
    "# 전처리된 문장을 저장할 리스트\n",
    "cleaned_corpus = []\n",
    "\n",
    "# corpus에 있는 각 문장에 대해 반복\n",
    "for text in corpus:\n",
    "    text = re.sub(r'[^a-zA-Z ]', '', text).lower()    # 영문자와 공백을 제외한 문자 제거 후 소문자로 변환\n",
    "    words = [word for word in text.split() if word not in stop_words]  # 불용어 제거\n",
    "    cleaned_corpus.append(words)       # 전처리된 단어 리스트를 저장\n",
    "\n",
    "# 전처리된 텍스트 출력\n",
    "cleaned_corpus"
   ]
  },
  {
   "cell_type": "markdown",
   "metadata": {
    "id": "Kr6-FKwvaE2E"
   },
   "source": [
    "### vocaburary 모음 작성"
   ]
  },
  {
   "cell_type": "markdown",
   "metadata": {
    "id": "S_U0GGZhaE2E"
   },
   "source": [
    "### word-to-index, index-to-word 작성\n",
    "\n",
    "- word 를 index 로 변환  \n",
    "\n",
    "- sentence 를 word index 로 변환  \n",
    "\n",
    "- window size 에 따라 train data 생성"
   ]
  },
  {
   "cell_type": "code",
   "execution_count": 4,
   "metadata": {
    "colab": {
     "base_uri": "https://localhost:8080/"
    },
    "id": "IeH1rHkVaE2E",
    "outputId": "2dfb70c7-d9b9-4860-8474-55734a4682b6"
   },
   "outputs": [
    {
     "data": {
      "text/plain": [
       "47"
      ]
     },
     "execution_count": 4,
     "metadata": {},
     "output_type": "execute_result"
    }
   ],
   "source": [
    "# 단어 사전 만들기\n",
    "\n",
    "# `cleaned_corpus`에서 모든 단어를 집합(set)으로 저장하여 중복 제거\n",
    "vocab = set(word for sentence in cleaned_corpus for word in sentence)\n",
    "\n",
    "# 단어를 고유한 인덱스로 매핑 (word → index)\n",
    "word2index = {word: i for i, word in enumerate(vocab)}\n",
    "\n",
    "# 인덱스를 단어로 매핑 (index → word)\n",
    "index2word = {i: word for word, i in word2index.items()}\n",
    "\n",
    "# 전체 단어 사전의 크기\n",
    "vocab_size = len(vocab)\n",
    "vocab_size"
   ]
  },
  {
   "cell_type": "markdown",
   "metadata": {
    "id": "_rZqEidnaE2E"
   },
   "source": [
    "### skip-gram 으로 training data 생성"
   ]
  },
  {
   "cell_type": "code",
   "execution_count": 5,
   "metadata": {
    "colab": {
     "base_uri": "https://localhost:8080/"
    },
    "id": "0AzsPAvIaE2F",
    "outputId": "cd730707-d23f-4046-937a-d17f361fd0de"
   },
   "outputs": [
    {
     "name": "stdout",
     "output_type": "stream",
     "text": [
      "[(38, 39), (38, 34), (39, 38), (39, 34), (39, 2), (34, 38), (34, 39), (34, 2), (2, 39), (2, 34), (13, 43), (13, 6), (43, 13), (43, 6), (43, 11), (6, 13), (6, 43), (6, 11), (11, 43), (11, 6), (3, 15), (3, 2), (15, 3), (15, 2), (2, 3), (2, 15), (20, 15), (20, 6), (15, 20), (15, 6), (15, 11), (6, 20), (6, 15), (6, 11), (11, 15), (11, 6), (32, 15), (32, 34), (15, 32), (15, 34), (15, 43), (34, 32), (34, 15), (34, 43), (34, 38), (43, 15), (43, 34), (43, 38), (38, 34), (38, 43), (36, 15), (36, 11), (15, 36), (15, 11), (15, 6), (11, 36), (11, 15), (11, 6), (11, 43), (6, 15), (6, 11), (6, 43), (6, 13), (43, 11), (43, 6), (43, 13), (13, 6), (13, 43), (2, 34), (34, 2), (11, 6), (6, 11), (32, 3), (32, 38), (3, 32), (3, 38), (38, 32), (38, 3), (36, 20), (36, 13), (20, 36), (20, 13), (13, 36), (13, 20), (38, 31), (38, 34), (31, 38), (31, 34), (34, 38), (34, 31), (13, 19), (13, 22), (19, 13), (19, 22), (22, 13), (22, 19), (3, 4), (3, 18), (4, 3), (4, 18), (18, 3), (18, 4), (20, 4), (20, 23), (4, 20), (4, 23), (4, 24), (23, 20), (23, 4), (23, 24), (24, 4), (24, 23), (32, 15), (32, 1), (15, 32), (15, 1), (15, 5), (1, 32), (1, 15), (1, 5), (1, 38), (5, 15), (5, 1), (5, 38), (38, 1), (38, 5), (36, 15), (36, 25), (15, 36), (15, 25), (15, 5), (25, 36), (25, 15), (25, 5), (25, 13), (5, 15), (5, 25), (5, 13), (13, 25), (13, 5), (38, 10), (38, 14), (10, 38), (10, 14), (14, 38), (14, 10), (13, 12), (13, 7), (12, 13), (12, 7), (7, 13), (7, 12), (32, 37), (32, 38), (37, 32), (37, 38), (37, 9), (38, 32), (38, 37), (38, 9), (38, 0), (9, 37), (9, 38), (9, 0), (0, 38), (0, 9), (36, 44), (36, 13), (44, 36), (44, 13), (44, 5), (13, 36), (13, 44), (13, 5), (5, 44), (5, 13), (38, 13), (38, 37), (13, 38), (13, 37), (13, 28), (37, 38), (37, 13), (37, 28), (28, 13), (28, 37), (32, 36), (32, 40), (36, 32), (36, 40), (36, 46), (40, 32), (40, 36), (40, 46), (40, 41), (46, 36), (46, 40), (46, 41), (41, 40), (41, 46), (3, 27), (3, 2), (27, 3), (27, 2), (2, 3), (2, 27), (20, 27), (20, 11), (27, 20), (27, 11), (11, 20), (11, 27), (34, 2), (34, 44), (2, 34), (2, 44), (2, 38), (44, 34), (44, 2), (44, 38), (38, 2), (38, 44), (43, 11), (43, 44), (11, 43), (11, 44), (11, 13), (44, 43), (44, 11), (44, 13), (13, 11), (13, 44), (35, 30), (35, 26), (30, 35), (30, 26), (30, 17), (26, 35), (26, 30), (26, 17), (17, 30), (17, 26), (33, 45), (33, 42), (45, 33), (45, 42), (45, 46), (42, 33), (42, 45), (42, 46), (42, 41), (46, 45), (46, 42), (46, 41), (41, 42), (41, 46), (2, 11), (2, 8), (11, 2), (11, 8), (11, 29), (8, 2), (8, 11), (8, 29), (29, 11), (29, 8), (15, 3), (15, 16), (3, 15), (3, 16), (3, 21), (16, 15), (16, 3), (16, 21), (16, 38), (21, 3), (21, 16), (21, 38), (38, 16), (38, 21), (15, 20), (15, 16), (20, 15), (20, 16), (20, 21), (16, 15), (16, 20), (16, 21), (16, 13), (21, 20), (21, 16), (21, 13), (13, 16), (13, 21)]\n"
     ]
    }
   ],
   "source": [
    "# Skip-gram 데이터 생성\n",
    "\n",
    "WINDOW_SIZE = 2  # 주변 단어를 고려할 윈도우 크기\n",
    "data = []          # (중심 단어, 주변 단어) 쌍을 저장할 리스트\n",
    "\n",
    "# `cleaned_corpus`의 각 문장에 대해 반복\n",
    "for sentence in cleaned_corpus:\n",
    "    for idx, word in enumerate(sentence):  # 문장에서 각 단어의 인덱스를 순회\n",
    "        # 중심 단어를 기준으로 WINDOW_SIZE 내의 주변 단어들을 가져옴\n",
    "        for neighbor in sentence[max(idx - WINDOW_SIZE, 0): min(idx + WINDOW_SIZE + 1, len(sentence))]:\n",
    "            if word != neighbor:         # 중심 단어와 주변 단어가 같지 않을 경우에만 추가\n",
    "                data.append((word2index[word], word2index[neighbor]))   # (중심 단어, 주변 단어) 인덱스 저장\n",
    "\n",
    "print(data)"
   ]
  },
  {
   "cell_type": "code",
   "execution_count": 6,
   "metadata": {
    "colab": {
     "base_uri": "https://localhost:8080/"
    },
    "id": "K0DN_Q6uBp1T",
    "outputId": "dc4c230c-654a-43f8-b50a-66767527c7b1"
   },
   "outputs": [
    {
     "name": "stdout",
     "output_type": "stream",
     "text": [
      "('king', 'very')\n",
      "('king', 'strong')\n",
      "('very', 'king')\n",
      "('very', 'strong')\n",
      "('very', 'man')\n",
      "('strong', 'king')\n",
      "('strong', 'very')\n",
      "('strong', 'man')\n",
      "('man', 'very')\n",
      "('man', 'strong')\n"
     ]
    }
   ],
   "source": [
    "# Skip-gram 데이터 (인덱스 → 단어)로 변환하여 출력\n",
    "skip_gram_samples = [(index2word[center], index2word[context]) for center, context in data]\n",
    "\n",
    "# 결과 출력 (처음 10개만 확인)\n",
    "for sample in skip_gram_samples[:10]:\n",
    "    print(sample)"
   ]
  },
  {
   "cell_type": "code",
   "execution_count": 7,
   "metadata": {
    "id": "Jf5Vxrc-6lJw"
   },
   "outputs": [],
   "source": [
    "# PyTorch Tensor 데이터셋 변환\n",
    "\n",
    "# `data` 리스트에서 입력 단어(중심 단어)와 정답 단어(주변 단어)를 각각 분리\n",
    "inputs, labels = zip(*data)\n",
    "\n",
    "# 리스트를 PyTorch Tensor로 변환 (정수형 LongTensor)\n",
    "inputs = torch.tensor(inputs, dtype=torch.long).to(device)  # 입력 데이터 (중심 단어)\n",
    "labels = torch.tensor(labels, dtype=torch.long).to(device)  # 정답 데이터 (주변 단어)"
   ]
  },
  {
   "cell_type": "markdown",
   "metadata": {
    "id": "tCCrYjTRaE2G"
   },
   "source": [
    "**시각화를 위해 hidden layer 의 unit 을 2 로 제한**"
   ]
  },
  {
   "cell_type": "code",
   "execution_count": 8,
   "metadata": {
    "id": "VraMW-RgaE2G"
   },
   "outputs": [],
   "source": [
    "# Word2Vec 모델 정의 (Skip-gram 방식)\n",
    "class Word2Vec(nn.Module):\n",
    "    def __init__(self, vocab_size, embedding_dim):\n",
    "        super().__init__()\n",
    "        self.embedding = nn.Embedding(vocab_size, embedding_dim)  # 단어를 임베딩 벡터로 변환\n",
    "        self.fc = nn.Linear(embedding_dim, vocab_size)   # 임베딩 벡터를 단어 분포로 변환하는 출력층\n",
    "\n",
    "    def forward(self, x):\n",
    "        x = self.embedding(x)  # 입력 단어를 임베딩 벡터로 변환 (batch_size, embedding_dim)\n",
    "        x = self.fc(x)    # 임베딩 벡터를 vocabulary 크기의 출력 벡터로 변환 (batch_size, vocab_size)\n",
    "        return x\n",
    "\n",
    "# 모델 및 학습 설정\n",
    "embedding_dim = 2  # 시각화를 위해 2차원 벡터 사용\n",
    "model = Word2Vec(vocab_size, embedding_dim).to(device)\n",
    "\n",
    "criterion = nn.CrossEntropyLoss()           # 다중 클래스 분류를 위한 손실 함수 (Softmax 포함)\n",
    "optimizer = optim.Adam(model.parameters(), lr=0.01)    # Adam 옵티마이저 사용 (학습률 0.01)"
   ]
  },
  {
   "cell_type": "code",
   "execution_count": 9,
   "metadata": {
    "colab": {
     "base_uri": "https://localhost:8080/"
    },
    "id": "u2kWqQkFaE2G",
    "outputId": "9be4e2d4-7e81-4ac5-aa85-f0b9bd42c093",
    "scrolled": true
   },
   "outputs": [
    {
     "name": "stdout",
     "output_type": "stream",
     "text": [
      "Epoch 0, Loss: 391.0149\n",
      "Epoch 50, Loss: 270.9110\n",
      "Epoch 100, Loss: 262.6621\n",
      "Epoch 150, Loss: 260.5920\n",
      "Epoch 200, Loss: 260.7146\n",
      "Epoch 250, Loss: 260.8113\n",
      "Epoch 300, Loss: 260.0299\n",
      "Epoch 350, Loss: 259.5991\n",
      "Epoch 400, Loss: 259.4974\n",
      "Epoch 450, Loss: 260.5761\n"
     ]
    }
   ],
   "source": [
    "# 모델 학습\n",
    "\n",
    "epochs = 500  # 총 학습 반복 횟수\n",
    "batch_size = 3  # 미니배치 크기\n",
    "\n",
    "for epoch in range(epochs):\n",
    "    total_loss = 0  # 한 epoch 동안의 총 손실 초기화\n",
    "    indices = torch.randperm(len(inputs))  # 데이터 셔플링을 위한 랜덤 인덱스 생성\n",
    "\n",
    "    # 미니배치 단위로 학습 진행\n",
    "    for i in range(0, len(inputs), batch_size):\n",
    "        batch_idx = indices[i: i + batch_size]  # 현재 배치의 인덱스 선택\n",
    "        batch_inputs = inputs[batch_idx]  # 배치 입력 데이터 (중심 단어)\n",
    "        batch_labels = labels[batch_idx]  # 배치 정답 데이터 (주변 단어)\n",
    "\n",
    "        optimizer.zero_grad()  # 이전 미니배치의 그래디언트 초기화\n",
    "        output = model(batch_inputs)  # 모델 예측값 계산\n",
    "        loss = criterion(output, batch_labels)  # 손실 함수 (CrossEntropyLoss) 계산\n",
    "        loss.backward()  # 역전파를 통해 그래디언트 계산\n",
    "        optimizer.step()  # 옵티마이저를 이용해 가중치 업데이트\n",
    "\n",
    "        total_loss += loss.item()  # 총 손실 누적\n",
    "\n",
    "    # 일정 간격마다 손실 값 출력\n",
    "    if epoch % 50 == 0:\n",
    "        print(f\"Epoch {epoch}, Loss: {total_loss:.4f}\")"
   ]
  },
  {
   "cell_type": "code",
   "execution_count": 11,
   "metadata": {
    "colab": {
     "base_uri": "https://localhost:8080/",
     "height": 206
    },
    "id": "YTe-OC2LaE2G",
    "outputId": "457cacf7-b412-4985-c2f1-39594391dd1a"
   },
   "outputs": [
    {
     "data": {
      "text/html": [
       "<div>\n",
       "<style scoped>\n",
       "    .dataframe tbody tr th:only-of-type {\n",
       "        vertical-align: middle;\n",
       "    }\n",
       "\n",
       "    .dataframe tbody tr th {\n",
       "        vertical-align: top;\n",
       "    }\n",
       "\n",
       "    .dataframe thead th {\n",
       "        text-align: right;\n",
       "    }\n",
       "</style>\n",
       "<table border=\"1\" class=\"dataframe\">\n",
       "  <thead>\n",
       "    <tr style=\"text-align: right;\">\n",
       "      <th></th>\n",
       "      <th>x1</th>\n",
       "      <th>x2</th>\n",
       "      <th>word</th>\n",
       "    </tr>\n",
       "  </thead>\n",
       "  <tbody>\n",
       "    <tr>\n",
       "      <th>0</th>\n",
       "      <td>9.007575</td>\n",
       "      <td>-6.059137</td>\n",
       "      <td>day</td>\n",
       "    </tr>\n",
       "    <tr>\n",
       "      <th>1</th>\n",
       "      <td>1.762615</td>\n",
       "      <td>-1.081899</td>\n",
       "      <td>smart</td>\n",
       "    </tr>\n",
       "    <tr>\n",
       "      <th>2</th>\n",
       "      <td>1.114211</td>\n",
       "      <td>0.523733</td>\n",
       "      <td>man</td>\n",
       "    </tr>\n",
       "    <tr>\n",
       "      <th>3</th>\n",
       "      <td>1.201074</td>\n",
       "      <td>0.464064</td>\n",
       "      <td>boy</td>\n",
       "    </tr>\n",
       "    <tr>\n",
       "      <th>4</th>\n",
       "      <td>0.666399</td>\n",
       "      <td>5.518816</td>\n",
       "      <td>youthful</td>\n",
       "    </tr>\n",
       "  </tbody>\n",
       "</table>\n",
       "</div>"
      ],
      "text/plain": [
       "         x1        x2      word\n",
       "0  9.007575 -6.059137       day\n",
       "1  1.762615 -1.081899     smart\n",
       "2  1.114211  0.523733       man\n",
       "3  1.201074  0.464064       boy\n",
       "4  0.666399  5.518816  youthful"
      ]
     },
     "execution_count": 11,
     "metadata": {},
     "output_type": "execute_result"
    }
   ],
   "source": [
    "import pandas as pd\n",
    "\n",
    "# 학습된 단어 벡터 추출\n",
    "# 모델의 임베딩 층에서 학습된 단어 벡터 가져오기\n",
    "word_vectors = model.embedding.weight.detach().cpu().numpy()\n",
    "\n",
    "# 단어 벡터를 DataFrame 형태로 변환 (각 단어를 2차원 좌표로 저장)\n",
    "w2v_df = pd.DataFrame(word_vectors, columns=['x1', 'x2'])\n",
    "\n",
    "# 각 벡터에 해당하는 단어 추가\n",
    "w2v_df['word'] = [index2word[i] for i in range(vocab_size)]\n",
    "w2v_df.head()"
   ]
  },
  {
   "cell_type": "code",
   "execution_count": 12,
   "metadata": {
    "colab": {
     "base_uri": "https://localhost:8080/",
     "height": 1000
    },
    "id": "8zAWNi2TaE2G",
    "outputId": "bafa0fbc-655f-4907-d360-deb88fe88241"
   },
   "outputs": [
    {
     "data": {
      "image/png": "[encoded data removed]",
      "text/plain": [
       "<Figure size 1800x1600 with 1 Axes>"
      ]
     },
     "metadata": {},
     "output_type": "display_data"
    }
   ],
   "source": [
    "# 벡터 시각화\n",
    "fig, ax = plt.subplots(figsize=(18, 16))\n",
    "\n",
    "# 각 단어를 그래프에 표시\n",
    "for word, x1, x2 in zip(w2v_df['word'], w2v_df['x1'], w2v_df['x2']):\n",
    "    ax.scatter(x1, x2)  # 단어 벡터의 위치에 점(산점도) 표시\n",
    "    ax.annotate(word, (x1, x2), textcoords=\"offset points\", xytext=(5, 2), ha='right')\n",
    "    # 단어 이름을 점 옆에 표시 (오른쪽 정렬)\n",
    "\n",
    "# 그래프 라벨 및 제목 추가\n",
    "plt.xlabel(\"x1\")\n",
    "plt.ylabel(\"x2\")\n",
    "plt.title(\"Word2Vec Embeddings (Skip-gram)\")  # 그래프 제목\n",
    "\n",
    "plt.show()"
   ]
  },
  {
   "cell_type": "code",
   "execution_count": null,
   "metadata": {
    "id": "hBy01H05aE2H"
   },
   "outputs": [],
   "source": []
  }
 ],
 "metadata": {
  "colab": {
   "provenance": []
  },
  "kernelspec": {
   "display_name": "Python 3 (ipykernel)",
   "language": "python",
   "name": "python3"
  },
  "language_info": {
   "codemirror_mode": {
    "name": "ipython",
    "version": 3
   },
   "file_extension": ".py",
   "mimetype": "text/x-python",
   "name": "python",
   "nbconvert_exporter": "python",
   "pygments_lexer": "ipython3",
   "version": "3.11.13"
  }
 },
 "nbformat": 4,
 "nbformat_minor": 4
}
