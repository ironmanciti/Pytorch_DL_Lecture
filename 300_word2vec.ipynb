{
 "cells": [
  {
   "cell_type": "markdown",
   "metadata": {
    "id": "8q7LM7qpaE2B"
   },
   "source": [
    "# word2vec 작성\n",
    "\n",
    "- skipgram, window size 2 의 simplified word2vec model 작성\n",
    "\n",
    "<img src=\"https://i.imgur.com/fr5B4on.jpeg\" width=500 />"
   ]
  },
  {
   "cell_type": "code",
   "execution_count": 1,
   "metadata": {
    "colab": {
     "base_uri": "https://localhost:8080/"
    },
    "id": "b8s0c3FqaE2C",
    "outputId": "554df85d-ff85-48b0-8792-99b40c5a6c38"
   },
   "outputs": [
    {
     "data": {
      "text/plain": [
       "device(type='cpu')"
      ]
     },
     "execution_count": 1,
     "metadata": {},
     "output_type": "execute_result"
    }
   ],
   "source": [
    "import torch\n",
    "import torch.nn as nn\n",
    "import torch.optim as optim\n",
    "import numpy as np\n",
    "import matplotlib.pyplot as plt\n",
    "import re\n",
    "\n",
    "device = torch.device(\"cuda\" if torch.cuda.is_available() else \"cpu\")\n",
    "device"
   ]
  },
  {
   "cell_type": "markdown",
   "metadata": {
    "id": "3gKCm5JkaE2C"
   },
   "source": [
    "### Toy 말뭉치"
   ]
  },
  {
   "cell_type": "code",
   "execution_count": 2,
   "metadata": {
    "id": "aXJo0CTGaE2D"
   },
   "outputs": [],
   "source": [
    "corpus = [\n",
    "    \"king is a very strong man\",\n",
    "    \"queen is a wise and pretty woman\",\n",
    "    \"boy is a young man\",\n",
    "    \"girl is a young and pretty woman\",\n",
    "    \"prince is young and will be a strong and wise king\",\n",
    "    \"princess is a young woman and will be a pretty and wise queen\",\n",
    "    \"man is strong\",\n",
    "    \"woman is pretty\",\n",
    "    \"prince is a boy and will be a king\",\n",
    "    \"princess is a girl and will be a queen\",\n",
    "    \"a king is powerful and strong\",\n",
    "    \"a queen is beautiful and intelligent\",\n",
    "    \"a boy is a youthful male\",\n",
    "    \"a girl is a youthful and lovely female\",\n",
    "    \"a prince is a young and smart future king\",\n",
    "    \"a princess is a young and graceful future queen\",\n",
    "    \"a king has power and strength\",\n",
    "    \"a queen has wisdom and charm\",\n",
    "    \"a prince will rule as a king one day\",\n",
    "    \"a princess will become a queen in the future\",\n",
    "    \"a king and a queen rule the kingdom\",\n",
    "    \"a prince and a princess are part of the royal family\",\n",
    "    \"a boy grows up to be a man\",\n",
    "    \"a girl grows up to be a woman\",\n",
    "    \"a strong man can become a king\",\n",
    "    \"a wise woman can become a queen\",\n",
    "    \"kings and queens live in castles\",\n",
    "    \"princes and princesses are members of the royal family\",\n",
    "    \"a man and a woman can both be leaders\",\n",
    "    \"a young boy dreams of becoming a king\",\n",
    "    \"a young girl dreams of becoming a queen\"\n",
    "]"
   ]
  },
  {
   "cell_type": "code",
   "execution_count": 3,
   "metadata": {
    "colab": {
     "base_uri": "https://localhost:8080/"
    },
    "id": "8T3K-m2E3yHY",
    "outputId": "a2d0432e-bd1a-4cdf-f7ab-828cd935dd3a"
   },
   "outputs": [
    {
     "data": {
      "text/plain": [
       "[['king', 'very', 'strong', 'man'],\n",
       " ['queen', 'wise', 'pretty', 'woman'],\n",
       " ['boy', 'young', 'man'],\n",
       " ['girl', 'young', 'pretty', 'woman'],\n",
       " ['prince', 'young', 'strong', 'wise', 'king'],\n",
       " ['princess', 'young', 'woman', 'pretty', 'wise', 'queen'],\n",
       " ['man', 'strong'],\n",
       " ['woman', 'pretty'],\n",
       " ['prince', 'boy', 'king'],\n",
       " ['princess', 'girl', 'queen'],\n",
       " ['king', 'powerful', 'strong'],\n",
       " ['queen', 'beautiful', 'intelligent'],\n",
       " ['boy', 'youthful', 'male'],\n",
       " ['girl', 'youthful', 'lovely', 'female'],\n",
       " ['prince', 'young', 'smart', 'future', 'king'],\n",
       " ['princess', 'young', 'graceful', 'future', 'queen'],\n",
       " ['king', 'power', 'strength'],\n",
       " ['queen', 'wisdom', 'charm'],\n",
       " ['prince', 'rule', 'king', 'one', 'day'],\n",
       " ['princess', 'become', 'queen', 'future'],\n",
       " ['king', 'queen', 'rule', 'kingdom'],\n",
       " ['prince', 'princess', 'part', 'royal', 'family'],\n",
       " ['boy', 'grows', 'man'],\n",
       " ['girl', 'grows', 'woman'],\n",
       " ['strong', 'man', 'become', 'king'],\n",
       " ['wise', 'woman', 'become', 'queen'],\n",
       " ['kings', 'queens', 'live', 'castles'],\n",
       " ['princes', 'princesses', 'members', 'royal', 'family'],\n",
       " ['man', 'woman', 'both', 'leaders'],\n",
       " ['young', 'boy', 'dreams', 'becoming', 'king'],\n",
       " ['young', 'girl', 'dreams', 'becoming', 'queen']]"
      ]
     },
     "execution_count": 3,
     "metadata": {},
     "output_type": "execute_result"
    }
   ],
   "source": [
    "# 텍스트 전처리\n",
    "\n",
    "# 불용어 리스트 (제거할 단어 목록)\n",
    "stop_words = ['is', 'a', 'will', 'be', 'and', 'are', 'to', 'as', 'the', 'in', 'has', 'up', 'can', 'of']\n",
    "\n",
    "# 전처리된 문장을 저장할 리스트\n",
    "cleaned_corpus = []\n",
    "\n",
    "# corpus에 있는 각 문장에 대해 반복\n",
    "for text in corpus:\n",
    "    text = re.sub(r'[^a-zA-Z ]', '', text).lower()    # 영문자와 공백을 제외한 문자 제거 후 소문자로 변환\n",
    "    words = [word for word in text.split() if word not in stop_words]  # 불용어 제거\n",
    "    cleaned_corpus.append(words)       # 전처리된 단어 리스트를 저장\n",
    "\n",
    "# 전처리된 텍스트 출력\n",
    "cleaned_corpus"
   ]
  },
  {
   "cell_type": "markdown",
   "metadata": {
    "id": "Kr6-FKwvaE2E"
   },
   "source": [
    "### vocaburary 모음 작성"
   ]
  },
  {
   "cell_type": "markdown",
   "metadata": {
    "id": "S_U0GGZhaE2E"
   },
   "source": [
    "### word-to-index, index-to-word 작성\n",
    "\n",
    "- word 를 index 로 변환  \n",
    "\n",
    "- sentence 를 word index 로 변환  \n",
    "\n",
    "- window size 에 따라 train data 생성"
   ]
  },
  {
   "cell_type": "code",
   "execution_count": 4,
   "metadata": {
    "colab": {
     "base_uri": "https://localhost:8080/"
    },
    "id": "IeH1rHkVaE2E",
    "outputId": "2dfb70c7-d9b9-4860-8474-55734a4682b6"
   },
   "outputs": [
    {
     "data": {
      "text/plain": [
       "47"
      ]
     },
     "execution_count": 4,
     "metadata": {},
     "output_type": "execute_result"
    }
   ],
   "source": [
    "# 단어 사전 만들기\n",
    "\n",
    "# `cleaned_corpus`에서 모든 단어를 집합(set)으로 저장하여 중복 제거\n",
    "vocab = set(word for sentence in cleaned_corpus for word in sentence)\n",
    "\n",
    "# 단어를 고유한 인덱스로 매핑 (word → index)\n",
    "word2index = {word: i for i, word in enumerate(vocab)}\n",
    "\n",
    "# 인덱스를 단어로 매핑 (index → word)\n",
    "index2word = {i: word for word, i in word2index.items()}\n",
    "\n",
    "# 전체 단어 사전의 크기\n",
    "vocab_size = len(vocab)\n",
    "vocab_size"
   ]
  },
  {
   "cell_type": "markdown",
   "metadata": {
    "id": "_rZqEidnaE2E"
   },
   "source": [
    "### skip-gram 으로 training data 생성"
   ]
  },
  {
   "cell_type": "code",
   "execution_count": 5,
   "metadata": {
    "colab": {
     "base_uri": "https://localhost:8080/"
    },
    "id": "0AzsPAvIaE2F",
    "outputId": "cd730707-d23f-4046-937a-d17f361fd0de"
   },
   "outputs": [
    {
     "name": "stdout",
     "output_type": "stream",
     "text": [
      "[(43, 15), (43, 29), (15, 43), (15, 29), (15, 34), (29, 43), (29, 15), (29, 34), (34, 15), (34, 29), (44, 41), (44, 17), (41, 44), (41, 17), (41, 2), (17, 44), (17, 41), (17, 2), (2, 41), (2, 17), (32, 7), (32, 34), (7, 32), (7, 34), (34, 32), (34, 7), (6, 7), (6, 17), (7, 6), (7, 17), (7, 2), (17, 6), (17, 7), (17, 2), (2, 7), (2, 17), (27, 7), (27, 29), (7, 27), (7, 29), (7, 41), (29, 27), (29, 7), (29, 41), (29, 43), (41, 7), (41, 29), (41, 43), (43, 29), (43, 41), (5, 7), (5, 2), (7, 5), (7, 2), (7, 17), (2, 5), (2, 7), (2, 17), (2, 41), (17, 7), (17, 2), (17, 41), (17, 44), (41, 2), (41, 17), (41, 44), (44, 17), (44, 41), (34, 29), (29, 34), (2, 17), (17, 2), (27, 32), (27, 43), (32, 27), (32, 43), (43, 27), (43, 32), (5, 6), (5, 44), (6, 5), (6, 44), (44, 5), (44, 6), (43, 40), (43, 29), (40, 43), (40, 29), (29, 43), (29, 40), (44, 18), (44, 3), (18, 44), (18, 3), (3, 44), (3, 18), (32, 0), (32, 4), (0, 32), (0, 4), (4, 32), (4, 0), (6, 0), (6, 37), (0, 6), (0, 37), (0, 24), (37, 6), (37, 0), (37, 24), (24, 0), (24, 37), (27, 7), (27, 46), (7, 27), (7, 46), (7, 23), (46, 27), (46, 7), (46, 23), (46, 43), (23, 7), (23, 46), (23, 43), (43, 46), (43, 23), (5, 7), (5, 12), (7, 5), (7, 12), (7, 23), (12, 5), (12, 7), (12, 23), (12, 44), (23, 7), (23, 12), (23, 44), (44, 12), (44, 23), (43, 36), (43, 13), (36, 43), (36, 13), (13, 43), (13, 36), (44, 22), (44, 1), (22, 44), (22, 1), (1, 44), (1, 22), (27, 14), (27, 43), (14, 27), (14, 43), (14, 45), (43, 27), (43, 14), (43, 45), (43, 33), (45, 14), (45, 43), (45, 33), (33, 43), (33, 45), (5, 19), (5, 44), (19, 5), (19, 44), (19, 23), (44, 5), (44, 19), (44, 23), (23, 19), (23, 44), (43, 44), (43, 14), (44, 43), (44, 14), (44, 28), (14, 43), (14, 44), (14, 28), (28, 44), (28, 14), (27, 5), (27, 11), (5, 27), (5, 11), (5, 35), (11, 27), (11, 5), (11, 35), (11, 26), (35, 5), (35, 11), (35, 26), (26, 11), (26, 35), (32, 10), (32, 34), (10, 32), (10, 34), (34, 32), (34, 10), (6, 10), (6, 2), (10, 6), (10, 2), (2, 6), (2, 10), (29, 34), (29, 19), (34, 29), (34, 19), (34, 43), (19, 29), (19, 34), (19, 43), (43, 34), (43, 19), (41, 2), (41, 19), (2, 41), (2, 19), (2, 44), (19, 41), (19, 2), (19, 44), (44, 2), (44, 19), (25, 20), (25, 31), (20, 25), (20, 31), (20, 38), (31, 25), (31, 20), (31, 38), (38, 20), (38, 31), (8, 21), (8, 42), (21, 8), (21, 42), (21, 35), (42, 8), (42, 21), (42, 35), (42, 26), (35, 21), (35, 42), (35, 26), (26, 42), (26, 35), (34, 2), (34, 30), (2, 34), (2, 30), (2, 39), (30, 34), (30, 2), (30, 39), (39, 2), (39, 30), (7, 32), (7, 9), (32, 7), (32, 9), (32, 16), (9, 7), (9, 32), (9, 16), (9, 43), (16, 32), (16, 9), (16, 43), (43, 9), (43, 16), (7, 6), (7, 9), (6, 7), (6, 9), (6, 16), (9, 7), (9, 6), (9, 16), (9, 44), (16, 6), (16, 9), (16, 44), (44, 9), (44, 16)]\n"
     ]
    }
   ],
   "source": [
    "# Skip-gram 데이터 생성\n",
    "\n",
    "WINDOW_SIZE = 2  # 주변 단어를 고려할 윈도우 크기\n",
    "data = []          # (중심 단어, 주변 단어) 쌍을 저장할 리스트\n",
    "\n",
    "# `cleaned_corpus`의 각 문장에 대해 반복\n",
    "for sentence in cleaned_corpus:\n",
    "    for idx, word in enumerate(sentence):  # 문장에서 각 단어의 인덱스를 순회\n",
    "        # 중심 단어를 기준으로 WINDOW_SIZE 내의 주변 단어들을 가져옴\n",
    "        for neighbor in sentence[max(idx - WINDOW_SIZE, 0): min(idx + WINDOW_SIZE + 1, len(sentence))]:\n",
    "            if word != neighbor:         # 중심 단어와 주변 단어가 같지 않을 경우에만 추가\n",
    "                data.append((word2index[word], word2index[neighbor]))   # (중심 단어, 주변 단어) 인덱스 저장\n",
    "\n",
    "print(data)"
   ]
  },
  {
   "cell_type": "code",
   "execution_count": 6,
   "metadata": {
    "colab": {
     "base_uri": "https://localhost:8080/"
    },
    "id": "K0DN_Q6uBp1T",
    "outputId": "dc4c230c-654a-43f8-b50a-66767527c7b1"
   },
   "outputs": [
    {
     "name": "stdout",
     "output_type": "stream",
     "text": [
      "('king', 'very')\n",
      "('king', 'strong')\n",
      "('very', 'king')\n",
      "('very', 'strong')\n",
      "('very', 'man')\n",
      "('strong', 'king')\n",
      "('strong', 'very')\n",
      "('strong', 'man')\n",
      "('man', 'very')\n",
      "('man', 'strong')\n"
     ]
    }
   ],
   "source": [
    "# Skip-gram 데이터 (인덱스 → 단어)로 변환하여 출력\n",
    "skip_gram_samples = [(index2word[center], index2word[context]) for center, context in data]\n",
    "\n",
    "# 결과 출력 (처음 10개만 확인)\n",
    "for sample in skip_gram_samples[:10]:\n",
    "    print(sample)"
   ]
  },
  {
   "cell_type": "code",
   "execution_count": 7,
   "metadata": {
    "id": "Jf5Vxrc-6lJw"
   },
   "outputs": [],
   "source": [
    "# PyTorch Tensor 데이터셋 변환\n",
    "\n",
    "# `data` 리스트에서 입력 단어(중심 단어)와 정답 단어(주변 단어)를 각각 분리\n",
    "inputs, labels = zip(*data)\n",
    "\n",
    "# 리스트를 PyTorch Tensor로 변환 (정수형 LongTensor)\n",
    "inputs = torch.tensor(inputs, dtype=torch.long).to(device)  # 입력 데이터 (중심 단어)\n",
    "labels = torch.tensor(labels, dtype=torch.long).to(device)  # 정답 데이터 (주변 단어)"
   ]
  },
  {
   "cell_type": "markdown",
   "metadata": {
    "id": "tCCrYjTRaE2G"
   },
   "source": [
    "**시각화를 위해 hidden layer 의 unit 을 2 로 제한**"
   ]
  },
  {
   "cell_type": "code",
   "execution_count": 8,
   "metadata": {
    "id": "VraMW-RgaE2G"
   },
   "outputs": [],
   "source": [
    "# Word2Vec 모델 정의 (Skip-gram 방식)\n",
    "class Word2Vec(nn.Module):\n",
    "    def __init__(self, vocab_size, embedding_dim):\n",
    "        super().__init__()\n",
    "        self.embedding = nn.Embedding(vocab_size, embedding_dim)  # 단어를 임베딩 벡터로 변환\n",
    "        self.fc = nn.Linear(embedding_dim, vocab_size)   # 임베딩 벡터를 단어 분포로 변환하는 출력층\n",
    "\n",
    "    def forward(self, x):\n",
    "        x = self.embedding(x)  # 입력 단어를 임베딩 벡터로 변환 (batch_size, embedding_dim)\n",
    "        x = self.fc(x)    # 임베딩 벡터를 vocabulary 크기의 출력 벡터로 변환 (batch_size, vocab_size)\n",
    "        return x\n",
    "\n",
    "# 모델 및 학습 설정\n",
    "embedding_dim = 2  # 시각화를 위해 2차원 벡터 사용\n",
    "model = Word2Vec(vocab_size, embedding_dim).to(device)\n",
    "\n",
    "criterion = nn.CrossEntropyLoss()           # 다중 클래스 분류를 위한 손실 함수 (Softmax 포함)\n",
    "optimizer = optim.Adam(model.parameters(), lr=0.01)    # Adam 옵티마이저 사용 (학습률 0.01)"
   ]
  },
  {
   "cell_type": "code",
   "execution_count": 9,
   "metadata": {
    "colab": {
     "base_uri": "https://localhost:8080/"
    },
    "id": "u2kWqQkFaE2G",
    "outputId": "9be4e2d4-7e81-4ac5-aa85-f0b9bd42c093",
    "scrolled": true
   },
   "outputs": [
    {
     "name": "stdout",
     "output_type": "stream",
     "text": [
      "Epoch 0, Loss: 380.9603\n",
      "Epoch 50, Loss: 269.0914\n",
      "Epoch 100, Loss: 265.1821\n",
      "Epoch 150, Loss: 264.3295\n",
      "Epoch 200, Loss: 263.3954\n",
      "Epoch 250, Loss: 262.8081\n",
      "Epoch 300, Loss: 261.9545\n",
      "Epoch 350, Loss: 262.2235\n",
      "Epoch 400, Loss: 261.5165\n",
      "Epoch 450, Loss: 260.6996\n"
     ]
    }
   ],
   "source": [
    "# 모델 학습\n",
    "\n",
    "epochs = 500  # 총 학습 반복 횟수\n",
    "batch_size = 3  # 미니배치 크기\n",
    "\n",
    "for epoch in range(epochs):\n",
    "    total_loss = 0  # 한 epoch 동안의 총 손실 초기화\n",
    "    indices = torch.randperm(len(inputs))  # 데이터 셔플링을 위한 랜덤 인덱스 생성\n",
    "\n",
    "    # 미니배치 단위로 학습 진행\n",
    "    for i in range(0, len(inputs), batch_size):\n",
    "        batch_idx = indices[i: i + batch_size]  # 현재 배치의 인덱스 선택\n",
    "        batch_inputs = inputs[batch_idx]  # 배치 입력 데이터 (중심 단어)\n",
    "        batch_labels = labels[batch_idx]  # 배치 정답 데이터 (주변 단어)\n",
    "\n",
    "        optimizer.zero_grad()  # 이전 미니배치의 그래디언트 초기화\n",
    "        output = model(batch_inputs)  # 모델 예측값 계산\n",
    "        loss = criterion(output, batch_labels)  # 손실 함수 (CrossEntropyLoss) 계산\n",
    "        loss.backward()  # 역전파를 통해 그래디언트 계산\n",
    "        optimizer.step()  # 옵티마이저를 이용해 가중치 업데이트\n",
    "\n",
    "        total_loss += loss.item()  # 총 손실 누적\n",
    "\n",
    "    # 일정 간격마다 손실 값 출력\n",
    "    if epoch % 50 == 0:\n",
    "        print(f\"Epoch {epoch}, Loss: {total_loss:.4f}\")"
   ]
  },
  {
   "cell_type": "code",
   "execution_count": 10,
   "metadata": {
    "colab": {
     "base_uri": "https://localhost:8080/",
     "height": 206
    },
    "id": "YTe-OC2LaE2G",
    "outputId": "457cacf7-b412-4985-c2f1-39594391dd1a"
   },
   "outputs": [
    {
     "data": {
      "application/vnd.google.colaboratory.intrinsic+json": {
       "summary": "{\n  \"name\": \"w2v_df\",\n  \"rows\": 47,\n  \"fields\": [\n    {\n      \"column\": \"x1\",\n      \"properties\": {\n        \"dtype\": \"float32\",\n        \"num_unique_values\": 47,\n        \"samples\": [\n          -0.39512380957603455,\n          1.139438509941101,\n          3.3735735416412354\n        ],\n        \"semantic_type\": \"\",\n        \"description\": \"\"\n      }\n    },\n    {\n      \"column\": \"x2\",\n      \"properties\": {\n        \"dtype\": \"float32\",\n        \"num_unique_values\": 47,\n        \"samples\": [\n          0.1665971577167511,\n          0.030054794624447823,\n          2.746690511703491\n        ],\n        \"semantic_type\": \"\",\n        \"description\": \"\"\n      }\n    },\n    {\n      \"column\": \"word\",\n      \"properties\": {\n        \"dtype\": \"string\",\n        \"num_unique_values\": 47,\n        \"samples\": [\n          \"prince\",\n          \"leaders\",\n          \"family\"\n        ],\n        \"semantic_type\": \"\",\n        \"description\": \"\"\n      }\n    }\n  ]\n}",
       "type": "dataframe",
       "variable_name": "w2v_df"
      },
      "text/html": [
       "\n",
       "  <div id=\"df-a09961f1-4677-4a48-b763-aec3b9728049\" class=\"colab-df-container\">\n",
       "    <div>\n",
       "<style scoped>\n",
       "    .dataframe tbody tr th:only-of-type {\n",
       "        vertical-align: middle;\n",
       "    }\n",
       "\n",
       "    .dataframe tbody tr th {\n",
       "        vertical-align: top;\n",
       "    }\n",
       "\n",
       "    .dataframe thead th {\n",
       "        text-align: right;\n",
       "    }\n",
       "</style>\n",
       "<table border=\"1\" class=\"dataframe\">\n",
       "  <thead>\n",
       "    <tr style=\"text-align: right;\">\n",
       "      <th></th>\n",
       "      <th>x1</th>\n",
       "      <th>x2</th>\n",
       "      <th>word</th>\n",
       "    </tr>\n",
       "  </thead>\n",
       "  <tbody>\n",
       "    <tr>\n",
       "      <th>0</th>\n",
       "      <td>3.855509</td>\n",
       "      <td>-0.811314</td>\n",
       "      <td>youthful</td>\n",
       "    </tr>\n",
       "    <tr>\n",
       "      <th>1</th>\n",
       "      <td>-2.654520</td>\n",
       "      <td>3.463970</td>\n",
       "      <td>charm</td>\n",
       "    </tr>\n",
       "    <tr>\n",
       "      <th>2</th>\n",
       "      <td>0.080902</td>\n",
       "      <td>0.523394</td>\n",
       "      <td>woman</td>\n",
       "    </tr>\n",
       "    <tr>\n",
       "      <th>3</th>\n",
       "      <td>-4.879683</td>\n",
       "      <td>3.759420</td>\n",
       "      <td>intelligent</td>\n",
       "    </tr>\n",
       "    <tr>\n",
       "      <th>4</th>\n",
       "      <td>2.002213</td>\n",
       "      <td>-2.797275</td>\n",
       "      <td>male</td>\n",
       "    </tr>\n",
       "  </tbody>\n",
       "</table>\n",
       "</div>\n",
       "    <div class=\"colab-df-buttons\">\n",
       "\n",
       "  <div class=\"colab-df-container\">\n",
       "    <button class=\"colab-df-convert\" onclick=\"convertToInteractive('df-a09961f1-4677-4a48-b763-aec3b9728049')\"\n",
       "            title=\"Convert this dataframe to an interactive table.\"\n",
       "            style=\"display:none;\">\n",
       "\n",
       "  <svg xmlns=\"http://www.w3.org/2000/svg\" height=\"24px\" viewBox=\"0 -960 960 960\">\n",
       "    <path d=\"M120-120v-720h720v720H120Zm60-500h600v-160H180v160Zm220 220h160v-160H400v160Zm0 220h160v-160H400v160ZM180-400h160v-160H180v160Zm440 0h160v-160H620v160ZM180-180h160v-160H180v160Zm440 0h160v-160H620v160Z\"/>\n",
       "  </svg>\n",
       "    </button>\n",
       "\n",
       "  <style>\n",
       "    .colab-df-container {\n",
       "      display:flex;\n",
       "      gap: 12px;\n",
       "    }\n",
       "\n",
       "    .colab-df-convert {\n",
       "      background-color: #E8F0FE;\n",
       "      border: none;\n",
       "      border-radius: 50%;\n",
       "      cursor: pointer;\n",
       "      display: none;\n",
       "      fill: #1967D2;\n",
       "      height: 32px;\n",
       "      padding: 0 0 0 0;\n",
       "      width: 32px;\n",
       "    }\n",
       "\n",
       "    .colab-df-convert:hover {\n",
       "      background-color: #E2EBFA;\n",
       "      box-shadow: 0px 1px 2px rgba(60, 64, 67, 0.3), 0px 1px 3px 1px rgba(60, 64, 67, 0.15);\n",
       "      fill: #174EA6;\n",
       "    }\n",
       "\n",
       "    .colab-df-buttons div {\n",
       "      margin-bottom: 4px;\n",
       "    }\n",
       "\n",
       "    [theme=dark] .colab-df-convert {\n",
       "      background-color: #3B4455;\n",
       "      fill: #D2E3FC;\n",
       "    }\n",
       "\n",
       "    [theme=dark] .colab-df-convert:hover {\n",
       "      background-color: #434B5C;\n",
       "      box-shadow: 0px 1px 3px 1px rgba(0, 0, 0, 0.15);\n",
       "      filter: drop-shadow(0px 1px 2px rgba(0, 0, 0, 0.3));\n",
       "      fill: #FFFFFF;\n",
       "    }\n",
       "  </style>\n",
       "\n",
       "    <script>\n",
       "      const buttonEl =\n",
       "        document.querySelector('#df-a09961f1-4677-4a48-b763-aec3b9728049 button.colab-df-convert');\n",
       "      buttonEl.style.display =\n",
       "        google.colab.kernel.accessAllowed ? 'block' : 'none';\n",
       "\n",
       "      async function convertToInteractive(key) {\n",
       "        const element = document.querySelector('#df-a09961f1-4677-4a48-b763-aec3b9728049');\n",
       "        const dataTable =\n",
       "          await google.colab.kernel.invokeFunction('convertToInteractive',\n",
       "                                                    [key], {});\n",
       "        if (!dataTable) return;\n",
       "\n",
       "        const docLinkHtml = 'Like what you see? Visit the ' +\n",
       "          '<a target=\"_blank\" href=https://colab.research.google.com/notebooks/data_table.ipynb>data table notebook</a>'\n",
       "          + ' to learn more about interactive tables.';\n",
       "        element.innerHTML = '';\n",
       "        dataTable['output_type'] = 'display_data';\n",
       "        await google.colab.output.renderOutput(dataTable, element);\n",
       "        const docLink = document.createElement('div');\n",
       "        docLink.innerHTML = docLinkHtml;\n",
       "        element.appendChild(docLink);\n",
       "      }\n",
       "    </script>\n",
       "  </div>\n",
       "\n",
       "\n",
       "<div id=\"df-7317ab59-e7d7-4972-b2c6-a55b80b0c792\">\n",
       "  <button class=\"colab-df-quickchart\" onclick=\"quickchart('df-7317ab59-e7d7-4972-b2c6-a55b80b0c792')\"\n",
       "            title=\"Suggest charts\"\n",
       "            style=\"display:none;\">\n",
       "\n",
       "<svg xmlns=\"http://www.w3.org/2000/svg\" height=\"24px\"viewBox=\"0 0 24 24\"\n",
       "     width=\"24px\">\n",
       "    <g>\n",
       "        <path d=\"M19 3H5c-1.1 0-2 .9-2 2v14c0 1.1.9 2 2 2h14c1.1 0 2-.9 2-2V5c0-1.1-.9-2-2-2zM9 17H7v-7h2v7zm4 0h-2V7h2v10zm4 0h-2v-4h2v4z\"/>\n",
       "    </g>\n",
       "</svg>\n",
       "  </button>\n",
       "\n",
       "<style>\n",
       "  .colab-df-quickchart {\n",
       "      --bg-color: #E8F0FE;\n",
       "      --fill-color: #1967D2;\n",
       "      --hover-bg-color: #E2EBFA;\n",
       "      --hover-fill-color: #174EA6;\n",
       "      --disabled-fill-color: #AAA;\n",
       "      --disabled-bg-color: #DDD;\n",
       "  }\n",
       "\n",
       "  [theme=dark] .colab-df-quickchart {\n",
       "      --bg-color: #3B4455;\n",
       "      --fill-color: #D2E3FC;\n",
       "      --hover-bg-color: #434B5C;\n",
       "      --hover-fill-color: #FFFFFF;\n",
       "      --disabled-bg-color: #3B4455;\n",
       "      --disabled-fill-color: #666;\n",
       "  }\n",
       "\n",
       "  .colab-df-quickchart {\n",
       "    background-color: var(--bg-color);\n",
       "    border: none;\n",
       "    border-radius: 50%;\n",
       "    cursor: pointer;\n",
       "    display: none;\n",
       "    fill: var(--fill-color);\n",
       "    height: 32px;\n",
       "    padding: 0;\n",
       "    width: 32px;\n",
       "  }\n",
       "\n",
       "  .colab-df-quickchart:hover {\n",
       "    background-color: var(--hover-bg-color);\n",
       "    box-shadow: 0 1px 2px rgba(60, 64, 67, 0.3), 0 1px 3px 1px rgba(60, 64, 67, 0.15);\n",
       "    fill: var(--button-hover-fill-color);\n",
       "  }\n",
       "\n",
       "  .colab-df-quickchart-complete:disabled,\n",
       "  .colab-df-quickchart-complete:disabled:hover {\n",
       "    background-color: var(--disabled-bg-color);\n",
       "    fill: var(--disabled-fill-color);\n",
       "    box-shadow: none;\n",
       "  }\n",
       "\n",
       "  .colab-df-spinner {\n",
       "    border: 2px solid var(--fill-color);\n",
       "    border-color: transparent;\n",
       "    border-bottom-color: var(--fill-color);\n",
       "    animation:\n",
       "      spin 1s steps(1) infinite;\n",
       "  }\n",
       "\n",
       "  @keyframes spin {\n",
       "    0% {\n",
       "      border-color: transparent;\n",
       "      border-bottom-color: var(--fill-color);\n",
       "      border-left-color: var(--fill-color);\n",
       "    }\n",
       "    20% {\n",
       "      border-color: transparent;\n",
       "      border-left-color: var(--fill-color);\n",
       "      border-top-color: var(--fill-color);\n",
       "    }\n",
       "    30% {\n",
       "      border-color: transparent;\n",
       "      border-left-color: var(--fill-color);\n",
       "      border-top-color: var(--fill-color);\n",
       "      border-right-color: var(--fill-color);\n",
       "    }\n",
       "    40% {\n",
       "      border-color: transparent;\n",
       "      border-right-color: var(--fill-color);\n",
       "      border-top-color: var(--fill-color);\n",
       "    }\n",
       "    60% {\n",
       "      border-color: transparent;\n",
       "      border-right-color: var(--fill-color);\n",
       "    }\n",
       "    80% {\n",
       "      border-color: transparent;\n",
       "      border-right-color: var(--fill-color);\n",
       "      border-bottom-color: var(--fill-color);\n",
       "    }\n",
       "    90% {\n",
       "      border-color: transparent;\n",
       "      border-bottom-color: var(--fill-color);\n",
       "    }\n",
       "  }\n",
       "</style>\n",
       "\n",
       "  <script>\n",
       "    async function quickchart(key) {\n",
       "      const quickchartButtonEl =\n",
       "        document.querySelector('#' + key + ' button');\n",
       "      quickchartButtonEl.disabled = true;  // To prevent multiple clicks.\n",
       "      quickchartButtonEl.classList.add('colab-df-spinner');\n",
       "      try {\n",
       "        const charts = await google.colab.kernel.invokeFunction(\n",
       "            'suggestCharts', [key], {});\n",
       "      } catch (error) {\n",
       "        console.error('Error during call to suggestCharts:', error);\n",
       "      }\n",
       "      quickchartButtonEl.classList.remove('colab-df-spinner');\n",
       "      quickchartButtonEl.classList.add('colab-df-quickchart-complete');\n",
       "    }\n",
       "    (() => {\n",
       "      let quickchartButtonEl =\n",
       "        document.querySelector('#df-7317ab59-e7d7-4972-b2c6-a55b80b0c792 button');\n",
       "      quickchartButtonEl.style.display =\n",
       "        google.colab.kernel.accessAllowed ? 'block' : 'none';\n",
       "    })();\n",
       "  </script>\n",
       "</div>\n",
       "\n",
       "    </div>\n",
       "  </div>\n"
      ],
      "text/plain": [
       "         x1        x2         word\n",
       "0  3.855509 -0.811314     youthful\n",
       "1 -2.654520  3.463970        charm\n",
       "2  0.080902  0.523394        woman\n",
       "3 -4.879683  3.759420  intelligent\n",
       "4  2.002213 -2.797275         male"
      ]
     },
     "execution_count": 10,
     "metadata": {},
     "output_type": "execute_result"
    }
   ],
   "source": [
    "import pandas as pd\n",
    "\n",
    "# 학습된 단어 벡터 추출\n",
    "# 모델의 임베딩 층에서 학습된 단어 벡터 가져오기\n",
    "word_vectors = model.embedding.weight.detach().cpu().numpy()\n",
    "\n",
    "# 단어 벡터를 DataFrame 형태로 변환 (각 단어를 2차원 좌표로 저장)\n",
    "w2v_df = pd.DataFrame(word_vectors, columns=['x1', 'x2'])\n",
    "\n",
    "# 각 벡터에 해당하는 단어 추가\n",
    "w2v_df['word'] = [index2word[i] for i in range(vocab_size)]\n",
    "w2v_df.head()"
   ]
  },
  {
   "cell_type": "code",
   "execution_count": 11,
   "metadata": {
    "colab": {
     "base_uri": "https://localhost:8080/",
     "height": 1000
    },
    "id": "8zAWNi2TaE2G",
    "outputId": "bafa0fbc-655f-4907-d360-deb88fe88241"
   },
   "outputs": [
    {
     "data": {
      "image/png": "[encoded data removed]",
      "text/plain": [
       "<Figure size 1800x1600 with 1 Axes>"
      ]
     },
     "metadata": {},
     "output_type": "display_data"
    }
   ],
   "source": [
    "# 벡터 시각화\n",
    "fig, ax = plt.subplots(figsize=(18, 16))\n",
    "\n",
    "# 각 단어를 그래프에 표시\n",
    "for word, x1, x2 in zip(w2v_df['word'], w2v_df['x1'], w2v_df['x2']):\n",
    "    ax.scatter(x1, x2)  # 단어 벡터의 위치에 점(산점도) 표시\n",
    "    ax.annotate(word, (x1, x2), textcoords=\"offset points\", xytext=(5, 2), ha='right')\n",
    "    # 단어 이름을 점 옆에 표시 (오른쪽 정렬)\n",
    "\n",
    "# 그래프 라벨 및 제목 추가\n",
    "plt.xlabel(\"x1\")\n",
    "plt.ylabel(\"x2\")\n",
    "plt.title(\"Word2Vec Embeddings (Skip-gram)\")  # 그래프 제목\n",
    "\n",
    "plt.show()"
   ]
  },
  {
   "cell_type": "code",
   "execution_count": 11,
   "metadata": {
    "id": "hBy01H05aE2H"
   },
   "outputs": [],
   "source": []
  }
 ],
 "metadata": {
  "colab": {
   "provenance": []
  },
  "kernelspec": {
   "display_name": "Python 3 (ipykernel)",
   "language": "python",
   "name": "python3"
  },
  "language_info": {
   "codemirror_mode": {
    "name": "ipython",
    "version": 3
   },
   "file_extension": ".py",
   "mimetype": "text/x-python",
   "name": "python",
   "nbconvert_exporter": "python",
   "pygments_lexer": "ipython3",
   "version": "3.9.21"
  }
 },
 "nbformat": 4,
 "nbformat_minor": 4
}
