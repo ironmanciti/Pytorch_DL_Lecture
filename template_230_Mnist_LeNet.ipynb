{
 "cells": [
  {
   "cell_type": "markdown",
   "id": "3bd54920",
   "metadata": {
    "id": "PoGXBuf9bs5t"
   },
   "source": [
    "# 230. mnist dataset 손글씨 인식 - LeNet\n",
    "\n",
    "- CNN 을 이용한 mnist dataset 손글씨 인식  \n",
    "- Yan LeCunn 이 1998 년 발표한 LeNet-5 을 Pytorch 로 customize 하여 재현"
   ]
  },
  {
   "cell_type": "code",
   "execution_count": null,
   "id": "d5ca84d2",
   "metadata": {},
   "outputs": [],
   "source": []
  },
  {
   "cell_type": "code",
   "execution_count": null,
   "id": "6313858c",
   "metadata": {},
   "outputs": [],
   "source": []
  },
  {
   "cell_type": "markdown",
   "id": "ff39948d",
   "metadata": {
    "id": "vhNn9XFuPMwa"
   },
   "source": [
    "transforms.ToTensor()의 주요 특징:\n",
    "\n",
    "1) 데이터 타입 변환: PIL 이미지나 NumPy ndarray를 torch.FloatTensor로 변환  \n",
    "2) 스케일링: 이미지의 픽셀 값 범위를 [0, 255]에서 [0.0, 1.0]으로 스케일링  \n",
    "3) 차원 재배열: PyTorch에서는 이미지 데이터를 [C, H, W] 형식(채널, 높이, 너비)으로 처리하므로 입력 이미지 데이터의 차원을 이 형식으로 자동으로 재배열"
   ]
  },
  {
   "cell_type": "code",
   "execution_count": null,
   "id": "cecaac0b",
   "metadata": {},
   "outputs": [],
   "source": [
    "# transforms.Compose는 여러 변환(transform)을 함께 결합할 때 사용됩니다.\n",
    "    # 정규화를 수행합니다. 평균(mean)은 0.1, 표준편차(std)는 0.3으로 설정\n",
    "    # 이 경우는 단일 채널(예: 흑백 이미지)의 이미지를 가정"
   ]
  },
  {
   "cell_type": "code",
   "execution_count": null,
   "id": "072e47ae",
   "metadata": {},
   "outputs": [],
   "source": [
    "# torchvision.datasets 모듈을 활용하여 MNIST 데이터셋을 불러옵니다.\n",
    "# MNIST 데이터셋: 손글씨 숫자(0~9) 이미지로 구성된 데이터셋\n",
    "# 학습 데이터(train) 로드\n",
    "# 테스트 데이터(test) 로드"
   ]
  },
  {
   "cell_type": "code",
   "execution_count": null,
   "id": "1795bd7d",
   "metadata": {},
   "outputs": [],
   "source": [
    "# train_data 객체 출력\n",
    "# test_data 객체 출력"
   ]
  },
  {
   "cell_type": "markdown",
   "id": "a45c2b1b",
   "metadata": {
    "id": "LVq2yIVrdv9j"
   },
   "source": [
    "- Data 시각화"
   ]
  },
  {
   "cell_type": "code",
   "execution_count": null,
   "id": "d05b6766",
   "metadata": {},
   "outputs": [],
   "source": [
    "# 테스트 데이터에서 20개의 이미지 출력\n",
    "    # 서브플롯 생성 (2행 10열 배치, 현재 i번째 위치)\n",
    "    # 이미지를 28x28 크기로 변환하여 출력 (MNIST 데이터는 28x28 크기의 흑백 이미지)\n",
    "    # 이미지 제목 설정 (해당 숫자 클래스 표시)\n",
    "    # x축, y축 눈금 제거 (불필요한 좌표 값 숨김)"
   ]
  },
  {
   "cell_type": "markdown",
   "id": "a9c6122d",
   "metadata": {
    "id": "Va0vYqSXbs55"
   },
   "source": [
    "### Dataset Loader 생성\n",
    "- Train dataset 을 train, validation, test dataset 으로 3 분할"
   ]
  },
  {
   "cell_type": "code",
   "execution_count": null,
   "id": "127dcb36",
   "metadata": {},
   "outputs": [],
   "source": [
    "# 전체 훈련 데이터의 20%를 검증(validation) 데이터로 설정\n",
    "# 배치 크기(batch size) 설정\n",
    "# PyTorch의 random_split()을 사용하여 훈련 데이터(train)와 검증 데이터(validation)로 분할\n",
    "# train_data를 train과 validation으로 랜덤하게 분할\n",
    "# DataLoader를 사용하여 미니배치 단위로 데이터 로딩"
   ]
  },
  {
   "cell_type": "markdown",
   "id": "cc438172",
   "metadata": {
    "id": "mRMQpq7abs57"
   },
   "source": [
    "## Model build\n",
    "\n",
    "<img src=\"https://d2l.ai/_images/lenet.svg\" width=\"800\" />"
   ]
  },
  {
   "cell_type": "code",
   "execution_count": null,
   "id": "59e7175d",
   "metadata": {},
   "outputs": [],
   "source": [
    "# LeNet 모델 정의 (CNN 기반 신경망)\n",
    "class LeNet(nn.Module):\n",
    "    def __init__(self):\n",
    "        # 첫 번째 합성곱 계층 (입력 채널: 1, 출력 채널: 6, 커널 크기: 5, 패딩: 2)\n",
    "        # 두 번째 합성곱 계층 (입력 채널: 6, 출력 채널: 16, 커널 크기: 5)\n",
    "        # 첫 번째 완전 연결층 (입력 크기: 16 * 5 * 5, 출력 크기: 120)\n",
    "        # 두 번째 완전 연결층 (입력 크기: 120, 출력 크기: 84)\n",
    "        # 세 번째 완전 연결층 (입력 크기: 84, 출력 크기: 10) → 10개의 클래스 (0~9)\n",
    "        # 풀링 계층 (최대 풀링, 커널 크기: 2)\n",
    "        # 활성화 함수 (ReLU)\n",
    "        # Dropout 추가 (과적합 방지)\n",
    "    # 순전파(Forward) 연산 정의\n",
    "    def forward(self, x):\n",
    "        # 출력을 1차원으로 평탄화 (Flatten)"
   ]
  },
  {
   "cell_type": "code",
   "execution_count": null,
   "id": "0c69d14c",
   "metadata": {},
   "outputs": [],
   "source": [
    "# LeNet 모델 객체 생성\n",
    "# 모델 구조 출력"
   ]
  },
  {
   "cell_type": "code",
   "execution_count": null,
   "id": "1f9fd82a",
   "metadata": {},
   "outputs": [],
   "source": [
    "# train_loader에서 첫 번째 배치의 데이터(특성) 가져오기\n",
    "# 출력 형태 확인 [배치 크기, 채널 수, 높이, 너비]"
   ]
  },
  {
   "cell_type": "code",
   "execution_count": null,
   "id": "1ec07794",
   "metadata": {},
   "outputs": [],
   "source": [
    "# 첫 번째 배치 데이터를 모델에 전달하여 순전파 수행"
   ]
  },
  {
   "cell_type": "markdown",
   "id": "589c550a",
   "metadata": {
    "id": "EFsqOK7zfGyn"
   },
   "source": [
    "### Model Summary"
   ]
  },
  {
   "cell_type": "code",
   "execution_count": null,
   "id": "44b74648",
   "metadata": {},
   "outputs": [],
   "source": [
    "# 모델의 상태 딕셔너리(state_dict)에서 각 가중치 텐서의 이름과 파라미터 수 출력\n",
    "# 모델의 전체 파라미터 수 출력"
   ]
  },
  {
   "cell_type": "markdown",
   "id": "483951c6",
   "metadata": {
    "id": "aObbLMxnbs5-"
   },
   "source": [
    "### Loss Function"
   ]
  },
  {
   "cell_type": "code",
   "execution_count": null,
   "id": "37b9e711",
   "metadata": {},
   "outputs": [],
   "source": [
    "# 손실 함수 정의 (CrossEntropyLoss: 분류 문제에서 사용)\n",
    "# 모델을 지정한 장치(GPU 또는 CPU)로 이동\n",
    "# PyTorch 2.0에서 권장하는 `torch.compile()` 적용"
   ]
  },
  {
   "cell_type": "code",
   "execution_count": null,
   "id": "73cf0ded",
   "metadata": {},
   "outputs": [],
   "source": [
    "# 학습률 설정\n",
    "# SGD(확률적 경사 하강법) 옵티마이저 정의\n",
    "# 학습률 스케줄러 (5 에포크마다 학습률을 0.5배 감소)"
   ]
  },
  {
   "cell_type": "code",
   "execution_count": null,
   "id": "ab86dc3f",
   "metadata": {},
   "outputs": [],
   "source": [
    "    # 학습률 업데이트\n",
    "    # 에폭별 훈련 및 검증 결과 출력"
   ]
  },
  {
   "cell_type": "code",
   "execution_count": null,
   "id": "71cf4e55",
   "metadata": {},
   "outputs": [],
   "source": [
    "# 훈련 손실과 검증 손실 그래프\n",
    "# 훈련 정확도와 검증 정확도 그래프"
   ]
  },
  {
   "cell_type": "markdown",
   "id": "419ff119",
   "metadata": {
    "id": "SRPlwCgebs5_"
   },
   "source": [
    "## Model 평가 - Test set 사용"
   ]
  },
  {
   "cell_type": "code",
   "execution_count": null,
   "id": "0c248b18",
   "metadata": {},
   "outputs": [],
   "source": [
    "# 테스트 로더를 통해 테스트 데이터셋의 배치를 순회\n",
    "        # 예측 결과와 실제 레이블을 CPU로 이동 후 numpy 배열로 변환하여 리스트에 추가\n",
    "# 예측값과 실제 레이블이 일치하는 인덱스 추출\n",
    "# 예측값과 실제 레이블이 일치하지 않는 인덱스 추출\n",
    "# 정확도 계산: 정확한 예측의 수를 전체 예측의 수로 나눈 후 백분율로 변환"
   ]
  },
  {
   "cell_type": "markdown",
   "id": "60ad20ce",
   "metadata": {
    "id": "FVUpUTXVipQI"
   },
   "source": [
    "## Category 별 분류 성능 측정"
   ]
  },
  {
   "cell_type": "code",
   "execution_count": null,
   "id": "fbe66b6b",
   "metadata": {},
   "outputs": [],
   "source": [
    "# 혼동 행렬 계산\n",
    "# 혼동 행렬 시각화\n",
    "# 클래스별 정확도 출력"
   ]
  },
  {
   "cell_type": "markdown",
   "id": "4ddbacc3",
   "metadata": {
    "id": "6JOCwrdBbs6C"
   },
   "source": [
    "# 실습 : fashion MNIST 를 이용하여 위와 동일한 작업\n",
    "\n",
    "Label\tClass\n",
    "\n",
    "0\tT-shirt/top  \n",
    "1\tTrouser  \n",
    "2\tPullover  \n",
    "3\tDress  \n",
    "4\tCoat  \n",
    "5\tSandal  \n",
    "6\tShirt  \n",
    "7\tSneaker  \n",
    "8\tBag  \n",
    "9\tAnkle boot"
   ]
  },
  {
   "cell_type": "code",
   "execution_count": null,
   "id": "a54f777c",
   "metadata": {},
   "outputs": [],
   "source": []
  },
  {
   "cell_type": "code",
   "execution_count": null,
   "id": "e000870b",
   "metadata": {},
   "outputs": [],
   "source": [
    "# load mnist data"
   ]
  },
  {
   "cell_type": "code",
   "execution_count": null,
   "id": "f7992da1",
   "metadata": {},
   "outputs": [],
   "source": []
  },
  {
   "cell_type": "code",
   "execution_count": null,
   "id": "1afa9900",
   "metadata": {},
   "outputs": [],
   "source": []
  },
  {
   "cell_type": "code",
   "execution_count": null,
   "id": "b9ad5a07",
   "metadata": {},
   "outputs": [],
   "source": [
    "# Your code here"
   ]
  },
  {
   "cell_type": "code",
   "execution_count": null,
   "id": "55003266",
   "metadata": {},
   "outputs": [],
   "source": []
  }
 ],
 "metadata": {
  "accelerator": "GPU",
  "colab": {
   "gpuType": "T4",
   "provenance": []
  },
  "kernelspec": {
   "display_name": "Python 3 (ipykernel)",
   "language": "python",
   "name": "python3"
  },
  "language_info": {
   "codemirror_mode": {
    "name": "ipython",
    "version": 3
   },
   "file_extension": ".py",
   "mimetype": "text/x-python",
   "name": "python",
   "nbconvert_exporter": "python",
   "pygments_lexer": "ipython3",
   "version": "3.9.21"
  }
 },
 "nbformat": 4,
 "nbformat_minor": 5
}
