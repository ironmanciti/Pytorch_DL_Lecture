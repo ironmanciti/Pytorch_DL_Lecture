{
 "cells": [
  {
   "cell_type": "markdown",
   "id": "c387e7ef",
   "metadata": {},
   "source": [
    "#  문장 내의 단어들을 임베딩\n",
    "- Huggingface 무료 모델 사용"
   ]
  },
  {
   "cell_type": "code",
   "execution_count": 3,
   "id": "04172a19-428f-4b36-b051-45f27b6bd7b2",
   "metadata": {},
   "outputs": [],
   "source": [
    "# !pip install sentence_transformers"
   ]
  },
  {
   "cell_type": "code",
   "execution_count": 4,
   "id": "8056b154-4ce0-428c-8ce5-dd4189c8e886",
   "metadata": {},
   "outputs": [],
   "source": [
    "from sentence_transformers import SentenceTransformer\n",
    "\n",
    "# Download from the 🤗 Hub\n",
    "model = SentenceTransformer(\"nlpai-lab/KURE-v1\")"
   ]
  },
  {
   "cell_type": "code",
   "execution_count": 5,
   "id": "5bb85f7c-1391-4fcc-b9f2-72120ea085b2",
   "metadata": {},
   "outputs": [
    {
     "name": "stdout",
     "output_type": "stream",
     "text": [
      "(3, 1024)\n"
     ]
    }
   ],
   "source": [
    "# 샘플 데이터: 간단한 문장들의 모음\n",
    "sentences = [\n",
    "    '나는 인공지능 공부를 좋아한다.',\n",
    "    '인공지능은 매우 흥미롭다.',\n",
    "    '오늘 날씨가 흐리고 비가 온다.'\n",
    "]\n",
    "\n",
    "embeddings = model.encode(sentences)\n",
    "print(embeddings.shape)"
   ]
  },
  {
   "cell_type": "code",
   "execution_count": 6,
   "id": "1c004a7e-2eff-413c-bcec-3a5c4a75b1b1",
   "metadata": {},
   "outputs": [
    {
     "name": "stdout",
     "output_type": "stream",
     "text": [
      "첫 번째 문장의 임베딩 벡터 (처음 10개 값):\n",
      "[-0.04133051 -0.00886621 -0.01965642  0.00259992 -0.01420297 -0.00173233\n",
      "  0.00808731 -0.02382693  0.03474921  0.01797117]\n"
     ]
    }
   ],
   "source": [
    "# 임베딩 결과 확인\n",
    "print('첫 번째 문장의 임베딩 벡터 (처음 10개 값):')\n",
    "print(embeddings[0][:10])"
   ]
  },
  {
   "cell_type": "code",
   "execution_count": 7,
   "id": "b06381f8-38f0-454a-b599-eefcbd045634",
   "metadata": {},
   "outputs": [
    {
     "name": "stdout",
     "output_type": "stream",
     "text": [
      "                       0         1         2         3         4         5     \\\n",
      "나는 인공지능 공부를 좋아한다. -0.041331 -0.008866 -0.019656  0.002600 -0.014203 -0.001732   \n",
      "인공지능은 매우 흥미롭다.    -0.031890  0.007180 -0.015229  0.003641 -0.032137 -0.021120   \n",
      "오늘 날씨가 흐리고 비가 온다. -0.027240  0.072480 -0.033453 -0.013671 -0.020261 -0.046810   \n",
      "\n",
      "                       6         7         8         9     ...      1014  \\\n",
      "나는 인공지능 공부를 좋아한다.  0.008087 -0.023827  0.034749  0.017971  ...  0.009031   \n",
      "인공지능은 매우 흥미롭다.     0.033232 -0.034247  0.014975  0.013564  ...  0.015914   \n",
      "오늘 날씨가 흐리고 비가 온다. -0.030745  0.014778 -0.006895 -0.017057  ... -0.018110   \n",
      "\n",
      "                       1015      1016      1017      1018      1019      1020  \\\n",
      "나는 인공지능 공부를 좋아한다. -0.015729  0.076318  0.038932 -0.020271 -0.014609  0.006914   \n",
      "인공지능은 매우 흥미롭다.    -0.002616  0.036231  0.045488 -0.049278 -0.017388 -0.012169   \n",
      "오늘 날씨가 흐리고 비가 온다.  0.025783  0.003339  0.059365 -0.023501 -0.008735 -0.011778   \n",
      "\n",
      "                       1021      1022      1023  \n",
      "나는 인공지능 공부를 좋아한다. -0.028604 -0.012694  0.034665  \n",
      "인공지능은 매우 흥미롭다.     0.001171 -0.010355  0.023216  \n",
      "오늘 날씨가 흐리고 비가 온다.  0.030877 -0.033672 -0.020130  \n",
      "\n",
      "[3 rows x 1024 columns]\n"
     ]
    }
   ],
   "source": [
    "import pandas as pd\n",
    "\n",
    "# 임베딩 결과를 DataFrame으로 변환하여 시각화\n",
    "embedding_df = pd.DataFrame(embeddings, index=sentences)\n",
    "print(embedding_df.head())"
   ]
  },
  {
   "cell_type": "code",
   "execution_count": 8,
   "id": "2b2bd4fd-4995-4969-92ea-272588414fa5",
   "metadata": {},
   "outputs": [
    {
     "name": "stdout",
     "output_type": "stream",
     "text": [
      "tensor([[1.0000, 0.7380, 0.4107],\n",
      "        [0.7380, 1.0000, 0.4417],\n",
      "        [0.4107, 0.4417, 1.0000]])\n"
     ]
    }
   ],
   "source": [
    "# Get the similarity scores for the embeddings\n",
    "similarity_matrix = model.similarity(embeddings, embeddings)\n",
    "print(similarity_matrix)"
   ]
  },
  {
   "cell_type": "code",
   "execution_count": 9,
   "id": "e5d2874d-7898-4abd-b4ff-ba2db0a917f6",
   "metadata": {},
   "outputs": [
    {
     "name": "stdout",
     "output_type": "stream",
     "text": [
      "\n",
      "문장 간 코사인 유사도:\n",
      "나는 인공지능 공부를 좋아한다. vs 인공지능은 매우 흥미롭다.: 0.7380\n",
      "나는 인공지능 공부를 좋아한다. vs 오늘 날씨가 흐리고 비가 온다.: 0.4107\n",
      "인공지능은 매우 흥미롭다. vs 오늘 날씨가 흐리고 비가 온다.: 0.4417\n"
     ]
    }
   ],
   "source": [
    "print('\\n문장 간 코사인 유사도:')\n",
    "for i in range(len(sentences)):\n",
    "    for j in range(i+1, len(sentences)):\n",
    "        similarity = similarity_matrix[i][j]\n",
    "        print(f'{sentences[i]} vs {sentences[j]}: {similarity:.4f}') "
   ]
  },
  {
   "cell_type": "code",
   "execution_count": null,
   "id": "17bef885-706e-4345-8ac2-9139d43eefec",
   "metadata": {},
   "outputs": [],
   "source": []
  }
 ],
 "metadata": {
  "kernelspec": {
   "display_name": "Python 3 (ipykernel)",
   "language": "python",
   "name": "python3"
  },
  "language_info": {
   "codemirror_mode": {
    "name": "ipython",
    "version": 3
   },
   "file_extension": ".py",
   "mimetype": "text/x-python",
   "name": "python",
   "nbconvert_exporter": "python",
   "pygments_lexer": "ipython3",
   "version": "3.11.13"
  }
 },
 "nbformat": 4,
 "nbformat_minor": 5
}
