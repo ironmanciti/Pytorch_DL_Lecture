{
 "cells": [
  {
   "cell_type": "markdown",
   "id": "c387e7ef",
   "metadata": {},
   "source": [
    "#  문장 내의 단어들을 임베딩\n",
    "- Huggingface 무료 모델 사용"
   ]
  },
  {
   "cell_type": "code",
   "execution_count": null,
   "id": "c76a191c",
   "metadata": {},
   "outputs": [],
   "source": [
    "# !pip install sentence_transformers"
   ]
  },
  {
   "cell_type": "code",
   "execution_count": null,
   "id": "a1d1291a",
   "metadata": {},
   "outputs": [],
   "source": [
    "# Download from the 🤗 Hub"
   ]
  },
  {
   "cell_type": "code",
   "execution_count": null,
   "id": "f0610299",
   "metadata": {},
   "outputs": [],
   "source": [
    "# 샘플 데이터: 간단한 문장들의 모음"
   ]
  },
  {
   "cell_type": "code",
   "execution_count": null,
   "id": "61ee8934",
   "metadata": {},
   "outputs": [],
   "source": [
    "# 임베딩 결과 확인"
   ]
  },
  {
   "cell_type": "code",
   "execution_count": null,
   "id": "592ed1c3",
   "metadata": {},
   "outputs": [],
   "source": [
    "# 임베딩 결과를 DataFrame으로 변환하여 시각화"
   ]
  },
  {
   "cell_type": "code",
   "execution_count": null,
   "id": "a202a8cd",
   "metadata": {},
   "outputs": [],
   "source": [
    "# Get the similarity scores for the embeddings"
   ]
  },
  {
   "cell_type": "code",
   "execution_count": null,
   "id": "29c4be55",
   "metadata": {},
   "outputs": [],
   "source": []
  },
  {
   "cell_type": "code",
   "execution_count": null,
   "id": "09ab83bb",
   "metadata": {},
   "outputs": [],
   "source": []
  }
 ],
 "metadata": {
  "kernelspec": {
   "display_name": "Python 3 (ipykernel)",
   "language": "python",
   "name": "python3"
  },
  "language_info": {
   "codemirror_mode": {
    "name": "ipython",
    "version": 3
   },
   "file_extension": ".py",
   "mimetype": "text/x-python",
   "name": "python",
   "nbconvert_exporter": "python",
   "pygments_lexer": "ipython3",
   "version": "3.11.13"
  }
 },
 "nbformat": 4,
 "nbformat_minor": 5
}
