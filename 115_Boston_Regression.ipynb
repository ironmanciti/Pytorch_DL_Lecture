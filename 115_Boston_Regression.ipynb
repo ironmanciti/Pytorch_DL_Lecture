{
 "cells": [
  {
   "cell_type": "markdown",
   "metadata": {
    "id": "tdAZuRz65DQe"
   },
   "source": [
    "# 115.Boston House Price Regression\n",
    "\n",
    "### 13 개의 독립변수와 1 개의 종속변수 (주택가격 중앙값) 으로 구성\n",
    "\n",
    "#### 독립변수 (13 개)\n",
    "CRIM 자치시(town) 별 1인당 범죄율  \n",
    "ZN 25,000 평방피트를 초과하는 거주지역의 비율  \n",
    "INDUS 비소매상업지역이 점유하고 있는 토지의 비율  \n",
    "CHAS 찰스강에 대한 더미변수(강의 경계에 위치한 경우는 1, 아니면 0)  \n",
    "NOX 10ppm 당 농축 일산화질소  \n",
    "RM 주택 1가구당 평균 방의 개수  \n",
    "AGE 1940년 이전에 건축된 소유주택의 비율  \n",
    "DIS 5개의 보스턴 직업센터까지의 접근성 지수  \n",
    "RAD 방사형 도로까지의 접근성 지수  \n",
    "TAX 10,000 달러 당 재산세율  \n",
    "PTRATIO 자치시(town)별 학생/교사 비율  \n",
    "B 1000(Bk-0.63)^2, 여기서 Bk는 자치시별 흑인의 비율을 말함  \n",
    "LSTAT 모집단의 하위계층의 비율(%)   \n",
    "\n",
    "#### 종속변수 (1 개)\n",
    "MEDV 본인 소유의 주택가격(중앙값) (단위: $1,000)  "
   ]
  },
  {
   "cell_type": "code",
   "execution_count": null,
   "metadata": {
    "colab": {
     "base_uri": "https://localhost:8080/"
    },
    "id": "Z-dlOgvw5DQi",
    "outputId": "3b2102a7-09b4-4bb7-9e39-9ade892602ae"
   },
   "outputs": [
    {
     "data": {
      "text/plain": [
       "<torch._C.Generator at 0x7c5aa8d55bd0>"
      ]
     },
     "execution_count": 2,
     "metadata": {},
     "output_type": "execute_result"
    }
   ],
   "source": [
    "from sklearn.model_selection import train_test_split\n",
    "from sklearn.preprocessing import MinMaxScaler\n",
    "import pandas as pd\n",
    "import matplotlib.pyplot as plt\n",
    "import torch\n",
    "import torch.nn as nn\n",
    "import torch.optim as optim\n",
    "import warnings\n",
    "warnings.filterwarnings('ignore')\n",
    "\n",
    "torch.manual_seed(100)"
   ]
  },
  {
   "cell_type": "code",
   "execution_count": null,
   "metadata": {
    "colab": {
     "base_uri": "https://localhost:8080/"
    },
    "id": "6P2wH-Y15DQk",
    "outputId": "a6e2d499-85de-4f78-d683-f3b459355ab0"
   },
   "outputs": [
    {
     "data": {
      "text/plain": [
       "device(type='cpu')"
      ]
     },
     "execution_count": 3,
     "metadata": {},
     "output_type": "execute_result"
    }
   ],
   "source": [
    "device = torch.device(\"cuda:0\" if torch.cuda.is_available() else \"cpu\")\n",
    "device"
   ]
  },
  {
   "cell_type": "markdown",
   "metadata": {
    "id": "RsrXVSl75DQk"
   },
   "source": [
    "Data Load"
   ]
  },
  {
   "cell_type": "code",
   "execution_count": null,
   "metadata": {
    "id": "D7jJwDmc5DQl"
   },
   "outputs": [],
   "source": [
    "# \"boston_house.csv\" 파일을 읽어와 데이터프레임으로 저장\n",
    "# 첫 번째 열(index_col=0)을 인덱스로 사용\n",
    "df_boston = pd.read_csv(\"boston_house.csv\", index_col=0)\n",
    "\n",
    "# 'MEDV' 열을 제거하여 입력 데이터(boston) 생성\n",
    "boston = df_boston.drop('MEDV', axis=1)\n",
    "\n",
    "# 'MEDV' 열을 분리하여 목표 변수(target)로 저장\n",
    "target = df_boston.pop('MEDV')"
   ]
  },
  {
   "cell_type": "markdown",
   "metadata": {
    "id": "tyZmE_c_5DQl"
   },
   "source": [
    "Input / Target 지정"
   ]
  },
  {
   "cell_type": "code",
   "execution_count": null,
   "metadata": {
    "colab": {
     "base_uri": "https://localhost:8080/"
    },
    "id": "1fwRLufm5DQl",
    "outputId": "4141e085-ef4f-4b4a-841d-b6f60bbe1a28"
   },
   "outputs": [
    {
     "data": {
      "text/plain": [
       "((506, 13), (506,))"
      ]
     },
     "execution_count": 5,
     "metadata": {},
     "output_type": "execute_result"
    }
   ],
   "source": [
    "# boston 데이터프레임의 값을 넘파이 배열로 변환하여 X에 저장 (입력 데이터)\n",
    "X = boston.values\n",
    "\n",
    "# target 데이터프레임의 값을 넘파이 배열로 변환하여 y에 저장 (목표 변수)\n",
    "y = target.values\n",
    "\n",
    "# X와 y의 형태(차원)를 출력하여 데이터 크기 확인\n",
    "X.shape, y.shape"
   ]
  },
  {
   "cell_type": "markdown",
   "metadata": {
    "id": "mdfYzowl5DQl"
   },
   "source": [
    "Train/Test split"
   ]
  },
  {
   "cell_type": "code",
   "execution_count": null,
   "metadata": {
    "colab": {
     "base_uri": "https://localhost:8080/"
    },
    "id": "BYzkl1GJ5DQl",
    "outputId": "c8a40707-2abb-4348-acb8-5abddbe86d92"
   },
   "outputs": [
    {
     "name": "stdout",
     "output_type": "stream",
     "text": [
      "(404, 13) (102, 13) (404,) (102,)\n"
     ]
    }
   ],
   "source": [
    "# 데이터를 학습용(train)과 테스트용(test)으로 분할\n",
    "# test_size=0.2 : 데이터의 20%를 테스트 세트로 사용\n",
    "# random_state=0 : 실행할 때마다 동일한 데이터 분할을 보장하기 위한 랜덤 시드 설정\n",
    "X_train, X_test, y_train, y_test = train_test_split(X, y, test_size=0.2, random_state=0)\n",
    "\n",
    "# 분할된 데이터셋의 크기(shape)를 출력하여 확인\n",
    "print(X_train.shape, X_test.shape, y_train.shape, y_test.shape)"
   ]
  },
  {
   "cell_type": "markdown",
   "metadata": {
    "id": "8EjqAEHA5DQm"
   },
   "source": [
    "Feature Scaling"
   ]
  },
  {
   "cell_type": "code",
   "execution_count": null,
   "metadata": {
    "id": "24TS2Cil5DQm"
   },
   "outputs": [],
   "source": [
    "# MinMaxScaler 객체 생성 (각 특성을 최소 0, 최대 1 범위로 스케일링)\n",
    "sc = MinMaxScaler()\n",
    "\n",
    "# 학습 데이터(X_train)에 대해 스케일링을 학습(fit)하고 변환(transform) 적용\n",
    "X_train = sc.fit_transform(X_train)\n",
    "\n",
    "# 테스트 데이터(X_test)에 대해 동일한 변환(transform) 적용 (fit을 다시 하지 않음)\n",
    "X_test = sc.transform(X_test)"
   ]
  },
  {
   "cell_type": "markdown",
   "metadata": {
    "id": "7bWVbEw75DQm"
   },
   "source": [
    "Numpy Data를 torch tensor 로 변환"
   ]
  },
  {
   "cell_type": "code",
   "execution_count": null,
   "metadata": {
    "colab": {
     "base_uri": "https://localhost:8080/"
    },
    "id": "nQ9j5XG15DQm",
    "outputId": "7d9586d2-c616-46fc-f2f3-8454e12114f8"
   },
   "outputs": [
    {
     "data": {
      "text/plain": [
       "(torch.Size([404, 13]),\n",
       " torch.Size([102, 13]),\n",
       " torch.Size([404, 1]),\n",
       " torch.Size([102, 1]))"
      ]
     },
     "execution_count": 8,
     "metadata": {},
     "output_type": "execute_result"
    }
   ],
   "source": [
    "import torch  # PyTorch 라이브러리 임포트\n",
    "\n",
    "# X_train과 X_test 데이터를 PyTorch의 tensor 형태로 변환 (데이터 타입: float32)\n",
    "X_train_ts = torch.tensor(X_train, dtype=torch.float32)\n",
    "X_test_ts = torch.tensor(X_test, dtype=torch.float32)\n",
    "\n",
    "# y_train과 y_test 데이터를 tensor로 변환하고, 2D 형태로 조정 (열 벡터로 변환)\n",
    "y_train_ts = torch.tensor(y_train, dtype=torch.float32).view(-1, 1)\n",
    "y_test_ts = torch.tensor(y_test, dtype=torch.float32).view(-1, 1)\n",
    "\n",
    "# 변환된 텐서들의 크기(shape) 출력\n",
    "X_train_ts.size(), X_test_ts.size(), y_train_ts.size(), y_test_ts.size()"
   ]
  },
  {
   "cell_type": "markdown",
   "metadata": {
    "id": "yTgmzHhY5DQm"
   },
   "source": [
    "### Linear Model build\n",
    "- hidden layer가 한개인 linear regression model"
   ]
  },
  {
   "cell_type": "code",
   "execution_count": null,
   "metadata": {
    "id": "d2fQmGns5DQm"
   },
   "outputs": [],
   "source": [
    "# 다층 퍼셉트론(MLP) 기반 선형 회귀 모델 정의\n",
    "class LinearReg(nn.Module):\n",
    "    def __init__(self, input_size, output_size):\n",
    "        super().__init__()\n",
    "        self.fc1 = nn.Linear(input_size, 64)  # 첫 번째 완전연결층 (input → 64개 뉴런)\n",
    "        self.fc2 = nn.Linear(64, 32)         # 두 번째 완전연결층 (64 → 32개 뉴런)\n",
    "        self.fc3 = nn.Linear(32, output_size)  # 세 번째 완전연결층 (32 → output 크기)\n",
    "        self.relu = nn.ReLU()                   # 활성화 함수로 ReLU 사용\n",
    "\n",
    "    def forward(self, x):\n",
    "        x = self.relu(self.fc1(x))      # 첫 번째 층을 통과한 후 ReLU 활성화 적용\n",
    "        x = self.relu(self.fc2(x))      # 두 번째 층을 통과한 후 ReLU 활성화 적용\n",
    "        output = self.fc3(x)            # 최종 출력층 (활성화 함수 없음, 회귀 문제이므로)\n",
    "        return output                      # 모델의 예측값 반환"
   ]
  },
  {
   "cell_type": "markdown",
   "metadata": {
    "id": "2JPWRyW75DQm"
   },
   "source": [
    "model instance 생성"
   ]
  },
  {
   "cell_type": "code",
   "execution_count": null,
   "metadata": {
    "colab": {
     "base_uri": "https://localhost:8080/"
    },
    "id": "lNaCBZlj5DQn",
    "outputId": "25d9bfc2-8937-4bf4-a402-c55e90fc9c03"
   },
   "outputs": [
    {
     "data": {
      "text/plain": [
       "LinearReg(\n",
       "  (fc1): Linear(in_features=13, out_features=64, bias=True)\n",
       "  (fc2): Linear(in_features=64, out_features=32, bias=True)\n",
       "  (fc3): Linear(in_features=32, out_features=1, bias=True)\n",
       "  (relu): ReLU()\n",
       ")"
      ]
     },
     "execution_count": 12,
     "metadata": {},
     "output_type": "execute_result"
    }
   ],
   "source": [
    "# 입력 특성 개수(X_train의 열 개수)와 출력 크기(1)를 사용하여 모델 생성\n",
    "model = LinearReg(X_train.shape[1], 1).to(device)\n",
    "\n",
    "# 모델 구조 출력\n",
    "model"
   ]
  },
  {
   "cell_type": "markdown",
   "metadata": {
    "id": "kvnNAUvy5DQn"
   },
   "source": [
    "손실함수/optimizer 정의"
   ]
  },
  {
   "cell_type": "code",
   "execution_count": null,
   "metadata": {
    "id": "7iwQ-wpS5DQn"
   },
   "outputs": [],
   "source": [
    "# 손실 함수 설정 (MSELoss: 평균 제곱 오차 손실 함수)\n",
    "criterion = nn.MSELoss()\n",
    "\n",
    "# 최적화 알고리즘 설정 (Adam 옵티마이저, 학습률 lr=0.001)\n",
    "optimizer = optim.Adam(model.parameters(), lr=0.001)"
   ]
  },
  {
   "cell_type": "markdown",
   "metadata": {
    "id": "lKhnIAdm5DQn"
   },
   "source": [
    "### Dataset Loader 생성\n",
    "\n",
    "- torch.utils.data.TensorDataset : Dataset wrapping tensors"
   ]
  },
  {
   "cell_type": "code",
   "execution_count": null,
   "metadata": {
    "id": "9O0XjV-e5DQn"
   },
   "outputs": [],
   "source": [
    "# TensorDataset 생성 (X_train_ts: 입력 데이터, y_train_ts: 정답 레이블)\n",
    "train_ds = torch.utils.data.TensorDataset(X_train_ts, y_train_ts)\n",
    "\n",
    "# DataLoader 생성\n",
    "# - batch_size=32 : 한 번에 32개 샘플씩 미니배치를 구성\n",
    "# - shuffle=True : 데이터 순서를 섞어서 학습 성능 향상\n",
    "train_loader = torch.utils.data.DataLoader(train_ds, batch_size=32, shuffle=True)"
   ]
  },
  {
   "cell_type": "markdown",
   "metadata": {
    "id": "XEqVSYgq5DQn"
   },
   "source": [
    "## The training process\n",
    "- Batch data Load\n",
    "- model 을 이용하여 batch data 예측  \n",
    "- loss value 계산\n",
    "- optimizer 에 저장된 grad value clear\n",
    "- loss value backpropagate\n",
    "- optimizer update  "
   ]
  },
  {
   "cell_type": "code",
   "execution_count": null,
   "metadata": {
    "colab": {
     "base_uri": "https://localhost:8080/"
    },
    "id": "4cIWX4IV5DQn",
    "outputId": "bc30bb63-7c8d-4939-a483-72a0fb6fe355",
    "scrolled": true
   },
   "outputs": [
    {
     "name": "stdout",
     "output_type": "stream",
     "text": [
      "epoch 1 loss: 440.6200\n",
      "epoch 2 loss: 694.9658\n",
      "epoch 3 loss: 652.7293\n",
      "epoch 4 loss: 387.0433\n",
      "epoch 5 loss: 489.7895\n",
      "epoch 6 loss: 432.7303\n",
      "epoch 7 loss: 240.5988\n",
      "epoch 8 loss: 251.2094\n",
      "epoch 9 loss: 71.9873\n",
      "epoch 10 loss: 153.0879\n",
      "epoch 11 loss: 76.3069\n",
      "epoch 12 loss: 155.3728\n",
      "epoch 13 loss: 198.9257\n",
      "epoch 14 loss: 86.9207\n",
      "epoch 15 loss: 90.4766\n",
      "epoch 16 loss: 66.0260\n",
      "epoch 17 loss: 56.9644\n",
      "epoch 18 loss: 32.2802\n",
      "epoch 19 loss: 41.8191\n",
      "epoch 20 loss: 38.4908\n",
      "epoch 21 loss: 42.5038\n",
      "epoch 22 loss: 59.8073\n",
      "epoch 23 loss: 61.0882\n",
      "epoch 24 loss: 94.4386\n",
      "epoch 25 loss: 35.6982\n",
      "epoch 26 loss: 93.2575\n",
      "epoch 27 loss: 28.0918\n",
      "epoch 28 loss: 14.3334\n",
      "epoch 29 loss: 41.8580\n",
      "epoch 30 loss: 28.1005\n",
      "epoch 31 loss: 16.7047\n",
      "epoch 32 loss: 27.8898\n",
      "epoch 33 loss: 41.2377\n",
      "epoch 34 loss: 19.5429\n",
      "epoch 35 loss: 43.3464\n",
      "epoch 36 loss: 29.0404\n",
      "epoch 37 loss: 76.7764\n",
      "epoch 38 loss: 69.4749\n",
      "epoch 39 loss: 15.5383\n",
      "epoch 40 loss: 30.6256\n",
      "epoch 41 loss: 20.9034\n",
      "epoch 42 loss: 39.3337\n",
      "epoch 43 loss: 43.9369\n",
      "epoch 44 loss: 14.1152\n",
      "epoch 45 loss: 13.7455\n",
      "epoch 46 loss: 22.9406\n",
      "epoch 47 loss: 41.6959\n",
      "epoch 48 loss: 26.4390\n",
      "epoch 49 loss: 10.0400\n",
      "epoch 50 loss: 10.6292\n",
      "epoch 51 loss: 23.4494\n",
      "epoch 52 loss: 28.7683\n",
      "epoch 53 loss: 8.1438\n",
      "epoch 54 loss: 15.4468\n",
      "epoch 55 loss: 41.4841\n",
      "epoch 56 loss: 12.7374\n",
      "epoch 57 loss: 15.1956\n",
      "epoch 58 loss: 19.1926\n",
      "epoch 59 loss: 35.2479\n",
      "epoch 60 loss: 12.8583\n",
      "epoch 61 loss: 8.7393\n",
      "epoch 62 loss: 22.6554\n",
      "epoch 63 loss: 27.2343\n",
      "epoch 64 loss: 10.9894\n",
      "epoch 65 loss: 34.6571\n",
      "epoch 66 loss: 12.8348\n",
      "epoch 67 loss: 16.3026\n",
      "epoch 68 loss: 18.0302\n",
      "epoch 69 loss: 16.5240\n",
      "epoch 70 loss: 11.7761\n",
      "epoch 71 loss: 35.0883\n",
      "epoch 72 loss: 12.9913\n",
      "epoch 73 loss: 12.7179\n",
      "epoch 74 loss: 23.4594\n",
      "epoch 75 loss: 10.2413\n",
      "epoch 76 loss: 24.2654\n",
      "epoch 77 loss: 12.1148\n",
      "epoch 78 loss: 27.3410\n",
      "epoch 79 loss: 12.7764\n",
      "epoch 80 loss: 42.3458\n",
      "epoch 81 loss: 32.1261\n",
      "epoch 82 loss: 9.8269\n",
      "epoch 83 loss: 11.4380\n",
      "epoch 84 loss: 10.2383\n",
      "epoch 85 loss: 18.7537\n",
      "epoch 86 loss: 8.1462\n",
      "epoch 87 loss: 25.0227\n",
      "epoch 88 loss: 22.2757\n",
      "epoch 89 loss: 19.6075\n",
      "epoch 90 loss: 16.5510\n",
      "epoch 91 loss: 9.8311\n",
      "epoch 92 loss: 8.5119\n",
      "epoch 93 loss: 17.3131\n",
      "epoch 94 loss: 13.2797\n",
      "epoch 95 loss: 8.1640\n",
      "epoch 96 loss: 59.4402\n",
      "epoch 97 loss: 50.4881\n",
      "epoch 98 loss: 18.1464\n",
      "epoch 99 loss: 10.3869\n",
      "epoch 100 loss: 27.3529\n"
     ]
    }
   ],
   "source": [
    "# 손실 값을 저장할 리스트 초기화\n",
    "Loss = []\n",
    "# 학습 반복 횟수 설정\n",
    "num_epochs = 100\n",
    "\n",
    "# 학습 루프 시작\n",
    "for epoch in range(num_epochs):\n",
    "\n",
    "    for x, y in train_loader:      # 미니배치 단위로 데이터 로드\n",
    "        x, y = x.to(device), y.to(device)  # 데이터를 GPU 또는 CPU로 이동\n",
    "        yhat = model(x)                # 모델의 예측값 계산\n",
    "        loss = criterion(yhat, y)     # 손실 값 계산\n",
    "\n",
    "        optimizer.zero_grad()       # 기존 그래디언트 초기화\n",
    "        loss.backward()               # 역전파 수행 (그래디언트 계산)\n",
    "        optimizer.step()               # 가중치 업데이트\n",
    "\n",
    "    # 에포크마다 손실 값 출력\n",
    "    print(\"epoch {} loss: {:.4f}\".format(epoch + 1, loss.item()))\n",
    "\n",
    "    # 손실 값을 리스트에 저장\n",
    "    Loss.append(loss.item())"
   ]
  },
  {
   "cell_type": "markdown",
   "metadata": {
    "id": "BiIwVreg5DQn"
   },
   "source": [
    "Test set을 이용하여 model 평가"
   ]
  },
  {
   "cell_type": "code",
   "execution_count": null,
   "metadata": {
    "colab": {
     "base_uri": "https://localhost:8080/"
    },
    "id": "U8pTj1Go5DQn",
    "outputId": "1070b482-88f4-49b5-9a9e-bb20dafe50f5"
   },
   "outputs": [
    {
     "name": "stdout",
     "output_type": "stream",
     "text": [
      "32.5216064453125\n"
     ]
    }
   ],
   "source": [
    "# 테스트 데이터(X_test_ts)를 모델에 입력하여 예측값을 얻고, 손실(MSELoss) 계산\n",
    "test_loss = criterion(model(X_test_ts.to(device)), y_test_ts.to(device)).item()\n",
    "\n",
    "# 테스트 데이터에 대한 최종 손실 출력\n",
    "print(test_loss)"
   ]
  },
  {
   "cell_type": "markdown",
   "metadata": {
    "id": "DarpxnIQ5DQo"
   },
   "source": [
    "Loss 시각화"
   ]
  },
  {
   "cell_type": "code",
   "execution_count": null,
   "metadata": {
    "colab": {
     "base_uri": "https://localhost:8080/",
     "height": 448
    },
    "id": "UOrQjdIV5DQo",
    "outputId": "0778ecdf-ce8e-4e2f-9c41-30f2df58a6c6"
   },
   "outputs": [
    {
     "data": {
      "text/plain": [
       "[<matplotlib.lines.Line2D at 0x7c5a303deed0>]"
      ]
     },
     "execution_count": 17,
     "metadata": {},
     "output_type": "execute_result"
    },
    {
     "data": {
      "image/png": "[encoded data removed]",
      "text/plain": [
       "<Figure size 640x480 with 1 Axes>"
      ]
     },
     "metadata": {},
     "output_type": "display_data"
    }
   ],
   "source": [
    "plt.plot(Loss)"
   ]
  },
  {
   "cell_type": "markdown",
   "metadata": {
    "id": "gaahkLbf5DQo"
   },
   "source": [
    "Test set을 이용하여 예측"
   ]
  },
  {
   "cell_type": "code",
   "execution_count": null,
   "metadata": {
    "colab": {
     "base_uri": "https://localhost:8080/"
    },
    "id": "7yHPB6dW5DQo",
    "outputId": "6ebc3394-142f-423f-84cc-cd89e14211ab"
   },
   "outputs": [
    {
     "data": {
      "text/plain": [
       "(102, 1)"
      ]
     },
     "execution_count": 18,
     "metadata": {},
     "output_type": "execute_result"
    }
   ],
   "source": [
    "# 테스트 데이터(X_test_ts)를 모델에 입력하여 예측 수행 (디바이스에 맞게 변환)\n",
    "y_pred = model(X_test_ts.to(device)).numpy(force=True)\n",
    "y_pred.shape"
   ]
  },
  {
   "cell_type": "markdown",
   "metadata": {
    "id": "fzCMwOS65DQo"
   },
   "source": [
    "MSE, R2 계산"
   ]
  },
  {
   "cell_type": "code",
   "execution_count": null,
   "metadata": {
    "colab": {
     "base_uri": "https://localhost:8080/"
    },
    "id": "_m0HtnZt5DQo",
    "outputId": "ee52854c-825d-459f-a594-e13675bba64a"
   },
   "outputs": [
    {
     "name": "stdout",
     "output_type": "stream",
     "text": [
      "32.52160907221527\n",
      "0.6006111691826317\n"
     ]
    }
   ],
   "source": [
    "from sklearn.metrics import mean_squared_error, r2_score  # 성능 평가 지표 임포트\n",
    "\n",
    "# 평균 제곱 오차(MSE) 계산 및 출력\n",
    "print(mean_squared_error(y_test, y_pred))\n",
    "\n",
    "# 결정 계수(R² Score) 계산 및 출력\n",
    "print(r2_score(y_test, y_pred))"
   ]
  },
  {
   "cell_type": "markdown",
   "metadata": {
    "id": "Ohb9KfPC5DQo"
   },
   "source": [
    "True vs. Predicted 시각화"
   ]
  },
  {
   "cell_type": "code",
   "execution_count": null,
   "metadata": {
    "colab": {
     "base_uri": "https://localhost:8080/",
     "height": 472
    },
    "id": "syISrdCK5DQp",
    "outputId": "401c0fba-3049-4175-d4cd-e1d67c1bcc3f"
   },
   "outputs": [
    {
     "data": {
      "image/png": "[encoded data removed]",
      "text/plain": [
       "<Figure size 640x480 with 1 Axes>"
      ]
     },
     "metadata": {},
     "output_type": "display_data"
    }
   ],
   "source": [
    "# 실제값(y_test)과 예측값(y_pred)의 산점도 그리기\n",
    "plt.scatter(y_test, y_pred, alpha=0.5)  # 투명도(alpha) 조정으로 시각적 가독성 향상\n",
    "\n",
    "# 완벽한 예측(예측값 = 실제값)을 나타내는 기준선 추가 (빨간색 선)\n",
    "plt.plot(y_test, y_test, 'r')\n",
    "\n",
    "# 그래프 레이블 및 제목 설정\n",
    "plt.xlabel('Actual Prices (y_test)')          # x축: 실제 주택 가격\n",
    "plt.ylabel('Predicted Prices (y_pred)')    # y축: 예측된 주택 가격\n",
    "plt.title('Boston House Price Prediction ($1,000)')\n",
    "\n",
    "plt.show()"
   ]
  },
  {
   "cell_type": "markdown",
   "metadata": {
    "id": "FqjiLw7ZKFiS"
   },
   "source": [
    "### - Boston Dataset 실습을 바탕으로 다른 회귀 문제에도 동일한 MLP 구조를 적용해보세요.\n"
   ]
  },
  {
   "cell_type": "code",
   "execution_count": 3,
   "metadata": {
    "colab": {
     "base_uri": "https://localhost:8080/"
    },
    "id": "5LnR6YD45DQu",
    "outputId": "75f23459-55d7-4f8c-8734-a597a8931fbd"
   },
   "outputs": [
    {
     "data": {
      "text/plain": [
       "((20640, 8), (20640,))"
      ]
     },
     "execution_count": 3,
     "metadata": {},
     "output_type": "execute_result"
    }
   ],
   "source": [
    "from sklearn.datasets import fetch_california_housing\n",
    "\n",
    "california = fetch_california_housing(as_frame=True)\n",
    "X = california.data\n",
    "y = california.target\n",
    "X.shape, y.shape"
   ]
  },
  {
   "cell_type": "code",
   "execution_count": 4,
   "metadata": {
    "colab": {
     "base_uri": "https://localhost:8080/",
     "height": 206
    },
    "id": "2Zb-EAr_KVI6",
    "outputId": "45fe785e-4cbd-4718-d6de-3647388f4e7e"
   },
   "outputs": [
    {
     "data": {
      "application/vnd.google.colaboratory.intrinsic+json": {
       "summary": "{\n  \"name\": \"X\",\n  \"rows\": 20640,\n  \"fields\": [\n    {\n      \"column\": \"MedInc\",\n      \"properties\": {\n        \"dtype\": \"number\",\n        \"std\": 1.8998217179452732,\n        \"min\": 0.4999,\n        \"max\": 15.0001,\n        \"num_unique_values\": 12928,\n        \"samples\": [\n          5.0286,\n          2.0433,\n          6.1228\n        ],\n        \"semantic_type\": \"\",\n        \"description\": \"\"\n      }\n    },\n    {\n      \"column\": \"HouseAge\",\n      \"properties\": {\n        \"dtype\": \"number\",\n        \"std\": 12.585557612111637,\n        \"min\": 1.0,\n        \"max\": 52.0,\n        \"num_unique_values\": 52,\n        \"samples\": [\n          35.0,\n          25.0,\n          7.0\n        ],\n        \"semantic_type\": \"\",\n        \"description\": \"\"\n      }\n    },\n    {\n      \"column\": \"AveRooms\",\n      \"properties\": {\n        \"dtype\": \"number\",\n        \"std\": 2.4741731394243205,\n        \"min\": 0.8461538461538461,\n        \"max\": 141.9090909090909,\n        \"num_unique_values\": 19392,\n        \"samples\": [\n          6.111269614835948,\n          5.912820512820513,\n          5.7924528301886795\n        ],\n        \"semantic_type\": \"\",\n        \"description\": \"\"\n      }\n    },\n    {\n      \"column\": \"AveBedrms\",\n      \"properties\": {\n        \"dtype\": \"number\",\n        \"std\": 0.47391085679546435,\n        \"min\": 0.3333333333333333,\n        \"max\": 34.06666666666667,\n        \"num_unique_values\": 14233,\n        \"samples\": [\n          0.9906542056074766,\n          1.112099644128114,\n          1.0398230088495575\n        ],\n        \"semantic_type\": \"\",\n        \"description\": \"\"\n      }\n    },\n    {\n      \"column\": \"Population\",\n      \"properties\": {\n        \"dtype\": \"number\",\n        \"std\": 1132.4621217653375,\n        \"min\": 3.0,\n        \"max\": 35682.0,\n        \"num_unique_values\": 3888,\n        \"samples\": [\n          4169.0,\n          636.0,\n          3367.0\n        ],\n        \"semantic_type\": \"\",\n        \"description\": \"\"\n      }\n    },\n    {\n      \"column\": \"AveOccup\",\n      \"properties\": {\n        \"dtype\": \"number\",\n        \"std\": 10.386049562213591,\n        \"min\": 0.6923076923076923,\n        \"max\": 1243.3333333333333,\n        \"num_unique_values\": 18841,\n        \"samples\": [\n          2.6939799331103678,\n          3.559375,\n          3.297082228116711\n        ],\n        \"semantic_type\": \"\",\n        \"description\": \"\"\n      }\n    },\n    {\n      \"column\": \"Latitude\",\n      \"properties\": {\n        \"dtype\": \"number\",\n        \"std\": 2.1359523974571117,\n        \"min\": 32.54,\n        \"max\": 41.95,\n        \"num_unique_values\": 862,\n        \"samples\": [\n          33.7,\n          34.41,\n          38.24\n        ],\n        \"semantic_type\": \"\",\n        \"description\": \"\"\n      }\n    },\n    {\n      \"column\": \"Longitude\",\n      \"properties\": {\n        \"dtype\": \"number\",\n        \"std\": 2.003531723502581,\n        \"min\": -124.35,\n        \"max\": -114.31,\n        \"num_unique_values\": 844,\n        \"samples\": [\n          -118.63,\n          -119.86,\n          -121.26\n        ],\n        \"semantic_type\": \"\",\n        \"description\": \"\"\n      }\n    }\n  ]\n}",
       "type": "dataframe",
       "variable_name": "X"
      },
      "text/html": [
       "\n",
       "  <div id=\"df-b129eb0c-e49c-433b-b269-fb229b4550ca\" class=\"colab-df-container\">\n",
       "    <div>\n",
       "<style scoped>\n",
       "    .dataframe tbody tr th:only-of-type {\n",
       "        vertical-align: middle;\n",
       "    }\n",
       "\n",
       "    .dataframe tbody tr th {\n",
       "        vertical-align: top;\n",
       "    }\n",
       "\n",
       "    .dataframe thead th {\n",
       "        text-align: right;\n",
       "    }\n",
       "</style>\n",
       "<table border=\"1\" class=\"dataframe\">\n",
       "  <thead>\n",
       "    <tr style=\"text-align: right;\">\n",
       "      <th></th>\n",
       "      <th>MedInc</th>\n",
       "      <th>HouseAge</th>\n",
       "      <th>AveRooms</th>\n",
       "      <th>AveBedrms</th>\n",
       "      <th>Population</th>\n",
       "      <th>AveOccup</th>\n",
       "      <th>Latitude</th>\n",
       "      <th>Longitude</th>\n",
       "    </tr>\n",
       "  </thead>\n",
       "  <tbody>\n",
       "    <tr>\n",
       "      <th>0</th>\n",
       "      <td>8.3252</td>\n",
       "      <td>41.0</td>\n",
       "      <td>6.984127</td>\n",
       "      <td>1.023810</td>\n",
       "      <td>322.0</td>\n",
       "      <td>2.555556</td>\n",
       "      <td>37.88</td>\n",
       "      <td>-122.23</td>\n",
       "    </tr>\n",
       "    <tr>\n",
       "      <th>1</th>\n",
       "      <td>8.3014</td>\n",
       "      <td>21.0</td>\n",
       "      <td>6.238137</td>\n",
       "      <td>0.971880</td>\n",
       "      <td>2401.0</td>\n",
       "      <td>2.109842</td>\n",
       "      <td>37.86</td>\n",
       "      <td>-122.22</td>\n",
       "    </tr>\n",
       "    <tr>\n",
       "      <th>2</th>\n",
       "      <td>7.2574</td>\n",
       "      <td>52.0</td>\n",
       "      <td>8.288136</td>\n",
       "      <td>1.073446</td>\n",
       "      <td>496.0</td>\n",
       "      <td>2.802260</td>\n",
       "      <td>37.85</td>\n",
       "      <td>-122.24</td>\n",
       "    </tr>\n",
       "    <tr>\n",
       "      <th>3</th>\n",
       "      <td>5.6431</td>\n",
       "      <td>52.0</td>\n",
       "      <td>5.817352</td>\n",
       "      <td>1.073059</td>\n",
       "      <td>558.0</td>\n",
       "      <td>2.547945</td>\n",
       "      <td>37.85</td>\n",
       "      <td>-122.25</td>\n",
       "    </tr>\n",
       "    <tr>\n",
       "      <th>4</th>\n",
       "      <td>3.8462</td>\n",
       "      <td>52.0</td>\n",
       "      <td>6.281853</td>\n",
       "      <td>1.081081</td>\n",
       "      <td>565.0</td>\n",
       "      <td>2.181467</td>\n",
       "      <td>37.85</td>\n",
       "      <td>-122.25</td>\n",
       "    </tr>\n",
       "  </tbody>\n",
       "</table>\n",
       "</div>\n",
       "    <div class=\"colab-df-buttons\">\n",
       "\n",
       "  <div class=\"colab-df-container\">\n",
       "    <button class=\"colab-df-convert\" onclick=\"convertToInteractive('df-b129eb0c-e49c-433b-b269-fb229b4550ca')\"\n",
       "            title=\"Convert this dataframe to an interactive table.\"\n",
       "            style=\"display:none;\">\n",
       "\n",
       "  <svg xmlns=\"http://www.w3.org/2000/svg\" height=\"24px\" viewBox=\"0 -960 960 960\">\n",
       "    <path d=\"M120-120v-720h720v720H120Zm60-500h600v-160H180v160Zm220 220h160v-160H400v160Zm0 220h160v-160H400v160ZM180-400h160v-160H180v160Zm440 0h160v-160H620v160ZM180-180h160v-160H180v160Zm440 0h160v-160H620v160Z\"/>\n",
       "  </svg>\n",
       "    </button>\n",
       "\n",
       "  <style>\n",
       "    .colab-df-container {\n",
       "      display:flex;\n",
       "      gap: 12px;\n",
       "    }\n",
       "\n",
       "    .colab-df-convert {\n",
       "      background-color: #E8F0FE;\n",
       "      border: none;\n",
       "      border-radius: 50%;\n",
       "      cursor: pointer;\n",
       "      display: none;\n",
       "      fill: #1967D2;\n",
       "      height: 32px;\n",
       "      padding: 0 0 0 0;\n",
       "      width: 32px;\n",
       "    }\n",
       "\n",
       "    .colab-df-convert:hover {\n",
       "      background-color: #E2EBFA;\n",
       "      box-shadow: 0px 1px 2px rgba(60, 64, 67, 0.3), 0px 1px 3px 1px rgba(60, 64, 67, 0.15);\n",
       "      fill: #174EA6;\n",
       "    }\n",
       "\n",
       "    .colab-df-buttons div {\n",
       "      margin-bottom: 4px;\n",
       "    }\n",
       "\n",
       "    [theme=dark] .colab-df-convert {\n",
       "      background-color: #3B4455;\n",
       "      fill: #D2E3FC;\n",
       "    }\n",
       "\n",
       "    [theme=dark] .colab-df-convert:hover {\n",
       "      background-color: #434B5C;\n",
       "      box-shadow: 0px 1px 3px 1px rgba(0, 0, 0, 0.15);\n",
       "      filter: drop-shadow(0px 1px 2px rgba(0, 0, 0, 0.3));\n",
       "      fill: #FFFFFF;\n",
       "    }\n",
       "  </style>\n",
       "\n",
       "    <script>\n",
       "      const buttonEl =\n",
       "        document.querySelector('#df-b129eb0c-e49c-433b-b269-fb229b4550ca button.colab-df-convert');\n",
       "      buttonEl.style.display =\n",
       "        google.colab.kernel.accessAllowed ? 'block' : 'none';\n",
       "\n",
       "      async function convertToInteractive(key) {\n",
       "        const element = document.querySelector('#df-b129eb0c-e49c-433b-b269-fb229b4550ca');\n",
       "        const dataTable =\n",
       "          await google.colab.kernel.invokeFunction('convertToInteractive',\n",
       "                                                    [key], {});\n",
       "        if (!dataTable) return;\n",
       "\n",
       "        const docLinkHtml = 'Like what you see? Visit the ' +\n",
       "          '<a target=\"_blank\" href=https://colab.research.google.com/notebooks/data_table.ipynb>data table notebook</a>'\n",
       "          + ' to learn more about interactive tables.';\n",
       "        element.innerHTML = '';\n",
       "        dataTable['output_type'] = 'display_data';\n",
       "        await google.colab.output.renderOutput(dataTable, element);\n",
       "        const docLink = document.createElement('div');\n",
       "        docLink.innerHTML = docLinkHtml;\n",
       "        element.appendChild(docLink);\n",
       "      }\n",
       "    </script>\n",
       "  </div>\n",
       "\n",
       "\n",
       "    <div id=\"df-8ce72a7e-2709-4d33-867f-91b41d05c43e\">\n",
       "      <button class=\"colab-df-quickchart\" onclick=\"quickchart('df-8ce72a7e-2709-4d33-867f-91b41d05c43e')\"\n",
       "                title=\"Suggest charts\"\n",
       "                style=\"display:none;\">\n",
       "\n",
       "<svg xmlns=\"http://www.w3.org/2000/svg\" height=\"24px\"viewBox=\"0 0 24 24\"\n",
       "     width=\"24px\">\n",
       "    <g>\n",
       "        <path d=\"M19 3H5c-1.1 0-2 .9-2 2v14c0 1.1.9 2 2 2h14c1.1 0 2-.9 2-2V5c0-1.1-.9-2-2-2zM9 17H7v-7h2v7zm4 0h-2V7h2v10zm4 0h-2v-4h2v4z\"/>\n",
       "    </g>\n",
       "</svg>\n",
       "      </button>\n",
       "\n",
       "<style>\n",
       "  .colab-df-quickchart {\n",
       "      --bg-color: #E8F0FE;\n",
       "      --fill-color: #1967D2;\n",
       "      --hover-bg-color: #E2EBFA;\n",
       "      --hover-fill-color: #174EA6;\n",
       "      --disabled-fill-color: #AAA;\n",
       "      --disabled-bg-color: #DDD;\n",
       "  }\n",
       "\n",
       "  [theme=dark] .colab-df-quickchart {\n",
       "      --bg-color: #3B4455;\n",
       "      --fill-color: #D2E3FC;\n",
       "      --hover-bg-color: #434B5C;\n",
       "      --hover-fill-color: #FFFFFF;\n",
       "      --disabled-bg-color: #3B4455;\n",
       "      --disabled-fill-color: #666;\n",
       "  }\n",
       "\n",
       "  .colab-df-quickchart {\n",
       "    background-color: var(--bg-color);\n",
       "    border: none;\n",
       "    border-radius: 50%;\n",
       "    cursor: pointer;\n",
       "    display: none;\n",
       "    fill: var(--fill-color);\n",
       "    height: 32px;\n",
       "    padding: 0;\n",
       "    width: 32px;\n",
       "  }\n",
       "\n",
       "  .colab-df-quickchart:hover {\n",
       "    background-color: var(--hover-bg-color);\n",
       "    box-shadow: 0 1px 2px rgba(60, 64, 67, 0.3), 0 1px 3px 1px rgba(60, 64, 67, 0.15);\n",
       "    fill: var(--button-hover-fill-color);\n",
       "  }\n",
       "\n",
       "  .colab-df-quickchart-complete:disabled,\n",
       "  .colab-df-quickchart-complete:disabled:hover {\n",
       "    background-color: var(--disabled-bg-color);\n",
       "    fill: var(--disabled-fill-color);\n",
       "    box-shadow: none;\n",
       "  }\n",
       "\n",
       "  .colab-df-spinner {\n",
       "    border: 2px solid var(--fill-color);\n",
       "    border-color: transparent;\n",
       "    border-bottom-color: var(--fill-color);\n",
       "    animation:\n",
       "      spin 1s steps(1) infinite;\n",
       "  }\n",
       "\n",
       "  @keyframes spin {\n",
       "    0% {\n",
       "      border-color: transparent;\n",
       "      border-bottom-color: var(--fill-color);\n",
       "      border-left-color: var(--fill-color);\n",
       "    }\n",
       "    20% {\n",
       "      border-color: transparent;\n",
       "      border-left-color: var(--fill-color);\n",
       "      border-top-color: var(--fill-color);\n",
       "    }\n",
       "    30% {\n",
       "      border-color: transparent;\n",
       "      border-left-color: var(--fill-color);\n",
       "      border-top-color: var(--fill-color);\n",
       "      border-right-color: var(--fill-color);\n",
       "    }\n",
       "    40% {\n",
       "      border-color: transparent;\n",
       "      border-right-color: var(--fill-color);\n",
       "      border-top-color: var(--fill-color);\n",
       "    }\n",
       "    60% {\n",
       "      border-color: transparent;\n",
       "      border-right-color: var(--fill-color);\n",
       "    }\n",
       "    80% {\n",
       "      border-color: transparent;\n",
       "      border-right-color: var(--fill-color);\n",
       "      border-bottom-color: var(--fill-color);\n",
       "    }\n",
       "    90% {\n",
       "      border-color: transparent;\n",
       "      border-bottom-color: var(--fill-color);\n",
       "    }\n",
       "  }\n",
       "</style>\n",
       "\n",
       "      <script>\n",
       "        async function quickchart(key) {\n",
       "          const quickchartButtonEl =\n",
       "            document.querySelector('#' + key + ' button');\n",
       "          quickchartButtonEl.disabled = true;  // To prevent multiple clicks.\n",
       "          quickchartButtonEl.classList.add('colab-df-spinner');\n",
       "          try {\n",
       "            const charts = await google.colab.kernel.invokeFunction(\n",
       "                'suggestCharts', [key], {});\n",
       "          } catch (error) {\n",
       "            console.error('Error during call to suggestCharts:', error);\n",
       "          }\n",
       "          quickchartButtonEl.classList.remove('colab-df-spinner');\n",
       "          quickchartButtonEl.classList.add('colab-df-quickchart-complete');\n",
       "        }\n",
       "        (() => {\n",
       "          let quickchartButtonEl =\n",
       "            document.querySelector('#df-8ce72a7e-2709-4d33-867f-91b41d05c43e button');\n",
       "          quickchartButtonEl.style.display =\n",
       "            google.colab.kernel.accessAllowed ? 'block' : 'none';\n",
       "        })();\n",
       "      </script>\n",
       "    </div>\n",
       "\n",
       "    </div>\n",
       "  </div>\n"
      ],
      "text/plain": [
       "   MedInc  HouseAge  AveRooms  AveBedrms  Population  AveOccup  Latitude  \\\n",
       "0  8.3252      41.0  6.984127   1.023810       322.0  2.555556     37.88   \n",
       "1  8.3014      21.0  6.238137   0.971880      2401.0  2.109842     37.86   \n",
       "2  7.2574      52.0  8.288136   1.073446       496.0  2.802260     37.85   \n",
       "3  5.6431      52.0  5.817352   1.073059       558.0  2.547945     37.85   \n",
       "4  3.8462      52.0  6.281853   1.081081       565.0  2.181467     37.85   \n",
       "\n",
       "   Longitude  \n",
       "0    -122.23  \n",
       "1    -122.22  \n",
       "2    -122.24  \n",
       "3    -122.25  \n",
       "4    -122.25  "
      ]
     },
     "execution_count": 4,
     "metadata": {},
     "output_type": "execute_result"
    }
   ],
   "source": [
    "X.head()"
   ]
  },
  {
   "cell_type": "code",
   "execution_count": 7,
   "metadata": {
    "colab": {
     "base_uri": "https://localhost:8080/",
     "height": 241
    },
    "id": "vTfot53QKYKM",
    "outputId": "fa8272c1-f929-4b77-c1b6-fd5d5c20c65e"
   },
   "outputs": [
    {
     "data": {
      "text/html": [
       "<div>\n",
       "<style scoped>\n",
       "    .dataframe tbody tr th:only-of-type {\n",
       "        vertical-align: middle;\n",
       "    }\n",
       "\n",
       "    .dataframe tbody tr th {\n",
       "        vertical-align: top;\n",
       "    }\n",
       "\n",
       "    .dataframe thead th {\n",
       "        text-align: right;\n",
       "    }\n",
       "</style>\n",
       "<table border=\"1\" class=\"dataframe\">\n",
       "  <thead>\n",
       "    <tr style=\"text-align: right;\">\n",
       "      <th></th>\n",
       "      <th>MedHouseVal</th>\n",
       "    </tr>\n",
       "  </thead>\n",
       "  <tbody>\n",
       "    <tr>\n",
       "      <th>0</th>\n",
       "      <td>4.526</td>\n",
       "    </tr>\n",
       "    <tr>\n",
       "      <th>1</th>\n",
       "      <td>3.585</td>\n",
       "    </tr>\n",
       "    <tr>\n",
       "      <th>2</th>\n",
       "      <td>3.521</td>\n",
       "    </tr>\n",
       "    <tr>\n",
       "      <th>3</th>\n",
       "      <td>3.413</td>\n",
       "    </tr>\n",
       "    <tr>\n",
       "      <th>4</th>\n",
       "      <td>3.422</td>\n",
       "    </tr>\n",
       "  </tbody>\n",
       "</table>\n",
       "</div><br><label><b>dtype:</b> float64</label>"
      ],
      "text/plain": [
       "0    4.526\n",
       "1    3.585\n",
       "2    3.521\n",
       "3    3.413\n",
       "4    3.422\n",
       "Name: MedHouseVal, dtype: float64"
      ]
     },
     "execution_count": 7,
     "metadata": {},
     "output_type": "execute_result"
    }
   ],
   "source": [
    "y.head()"
   ]
  }
 ],
 "metadata": {
  "colab": {
   "provenance": []
  },
  "kernelspec": {
   "display_name": "Python 3 (ipykernel)",
   "language": "python",
   "name": "python3"
  },
  "language_info": {
   "codemirror_mode": {
    "name": "ipython",
    "version": 3
   },
   "file_extension": ".py",
   "mimetype": "text/x-python",
   "name": "python",
   "nbconvert_exporter": "python",
   "pygments_lexer": "ipython3",
   "version": "3.11.13"
  }
 },
 "nbformat": 4,
 "nbformat_minor": 4
}
