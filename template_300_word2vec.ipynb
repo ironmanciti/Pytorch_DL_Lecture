{
 "cells": [
  {
   "cell_type": "markdown",
   "id": "3ca67883",
   "metadata": {
    "id": "8q7LM7qpaE2B"
   },
   "source": [
    "# word2vec 작성\n",
    "\n",
    "- skipgram, window size 2 의 simplified word2vec model 작성\n",
    "\n",
    "<img src=\"https://i.imgur.com/fr5B4on.jpeg\" width=500 />"
   ]
  },
  {
   "cell_type": "code",
   "execution_count": null,
   "id": "46179d6b",
   "metadata": {},
   "outputs": [],
   "source": []
  },
  {
   "cell_type": "markdown",
   "id": "0fd1f617",
   "metadata": {
    "id": "3gKCm5JkaE2C"
   },
   "source": [
    "### Toy 말뭉치"
   ]
  },
  {
   "cell_type": "code",
   "execution_count": null,
   "id": "71a79819",
   "metadata": {},
   "outputs": [],
   "source": []
  },
  {
   "cell_type": "code",
   "execution_count": null,
   "id": "a6b7957b",
   "metadata": {},
   "outputs": [],
   "source": [
    "# 텍스트 전처리\n",
    "# 불용어 리스트 (제거할 단어 목록)\n",
    "# 전처리된 문장을 저장할 리스트\n",
    "# corpus에 있는 각 문장에 대해 반복\n",
    "# 전처리된 텍스트 출력"
   ]
  },
  {
   "cell_type": "markdown",
   "id": "b5218360",
   "metadata": {
    "id": "Kr6-FKwvaE2E"
   },
   "source": [
    "### vocaburary 모음 작성"
   ]
  },
  {
   "cell_type": "markdown",
   "id": "025f9f89",
   "metadata": {
    "id": "S_U0GGZhaE2E"
   },
   "source": [
    "### word-to-index, index-to-word 작성\n",
    "\n",
    "- word 를 index 로 변환  \n",
    "\n",
    "- sentence 를 word index 로 변환  \n",
    "\n",
    "- window size 에 따라 train data 생성"
   ]
  },
  {
   "cell_type": "code",
   "execution_count": null,
   "id": "a023e955",
   "metadata": {},
   "outputs": [],
   "source": [
    "# 단어 사전 만들기\n",
    "# `cleaned_corpus`에서 모든 단어를 집합(set)으로 저장하여 중복 제거\n",
    "# 단어를 고유한 인덱스로 매핑 (word → index)\n",
    "# 인덱스를 단어로 매핑 (index → word)\n",
    "# 전체 단어 사전의 크기"
   ]
  },
  {
   "cell_type": "markdown",
   "id": "a9a009d9",
   "metadata": {
    "id": "_rZqEidnaE2E"
   },
   "source": [
    "### skip-gram 으로 training data 생성"
   ]
  },
  {
   "cell_type": "code",
   "execution_count": null,
   "id": "e83d1277",
   "metadata": {},
   "outputs": [],
   "source": [
    "# Skip-gram 데이터 생성\n",
    "# `cleaned_corpus`의 각 문장에 대해 반복\n",
    "        # 중심 단어를 기준으로 WINDOW_SIZE 내의 주변 단어들을 가져옴"
   ]
  },
  {
   "cell_type": "code",
   "execution_count": null,
   "id": "41b3910a",
   "metadata": {},
   "outputs": [],
   "source": [
    "# Skip-gram 데이터 (인덱스 → 단어)로 변환하여 출력\n",
    "# 결과 출력 (처음 10개만 확인)"
   ]
  },
  {
   "cell_type": "code",
   "execution_count": null,
   "id": "864cb88f",
   "metadata": {},
   "outputs": [],
   "source": [
    "# PyTorch Tensor 데이터셋 변환\n",
    "# `data` 리스트에서 입력 단어(중심 단어)와 정답 단어(주변 단어)를 각각 분리\n",
    "# 리스트를 PyTorch Tensor로 변환 (정수형 LongTensor)"
   ]
  },
  {
   "cell_type": "markdown",
   "id": "9ea80d57",
   "metadata": {
    "id": "tCCrYjTRaE2G"
   },
   "source": [
    "**시각화를 위해 hidden layer 의 unit 을 2 로 제한**"
   ]
  },
  {
   "cell_type": "code",
   "execution_count": null,
   "id": "53383e03",
   "metadata": {},
   "outputs": [],
   "source": [
    "# Word2Vec 모델 정의 (Skip-gram 방식)\n",
    "class Word2Vec(nn.Module):\n",
    "    def __init__(self, vocab_size, embedding_dim):\n",
    "    def forward(self, x):\n",
    "# 모델 및 학습 설정"
   ]
  },
  {
   "cell_type": "code",
   "execution_count": null,
   "id": "fdbc2aee",
   "metadata": {},
   "outputs": [],
   "source": [
    "# 모델 학습\n",
    "    # 미니배치 단위로 학습 진행\n",
    "    # 일정 간격마다 손실 값 출력"
   ]
  },
  {
   "cell_type": "code",
   "execution_count": null,
   "id": "ea9d6417",
   "metadata": {},
   "outputs": [],
   "source": [
    "# 학습된 단어 벡터 추출\n",
    "# 모델의 임베딩 층에서 학습된 단어 벡터 가져오기\n",
    "# 단어 벡터를 DataFrame 형태로 변환 (각 단어를 2차원 좌표로 저장)\n",
    "# 각 벡터에 해당하는 단어 추가"
   ]
  },
  {
   "cell_type": "code",
   "execution_count": null,
   "id": "7881f758",
   "metadata": {},
   "outputs": [],
   "source": [
    "# 벡터 시각화\n",
    "# 각 단어를 그래프에 표시\n",
    "    # 단어 이름을 점 옆에 표시 (오른쪽 정렬)\n",
    "# 그래프 라벨 및 제목 추가"
   ]
  },
  {
   "cell_type": "code",
   "execution_count": null,
   "id": "601bf782",
   "metadata": {},
   "outputs": [],
   "source": []
  }
 ],
 "metadata": {
  "colab": {
   "provenance": []
  },
  "kernelspec": {
   "display_name": "Python 3 (ipykernel)",
   "language": "python",
   "name": "python3"
  },
  "language_info": {
   "codemirror_mode": {
    "name": "ipython",
    "version": 3
   },
   "file_extension": ".py",
   "mimetype": "text/x-python",
   "name": "python",
   "nbconvert_exporter": "python",
   "pygments_lexer": "ipython3",
   "version": "3.9.21"
  }
 },
 "nbformat": 4,
 "nbformat_minor": 5
}
