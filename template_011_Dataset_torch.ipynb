{
 "cells": [
  {
   "cell_type": "markdown",
   "id": "1b088072",
   "metadata": {
    "id": "oUA64IUYOhHl"
   },
   "source": [
    "# 011. PyTorch Dataset\n",
    "\n",
    "### Dataset 클래스\n",
    "\n",
    " - PyTorch는 두 개의 데이터 관련 클라스를 제공하여 pre-loaded datasets 및 custom dataset 을 사용할 수 있도록 한다.\n",
    "\n",
    "     - torch.utils.data.Dataset - 샘플 및 해당 레이블을 제공\n",
    "     - torch.utils.data.DataLoader - 샘플에 쉽게 액세스 할 수 있도록 Dataset의 iterable 을 wrapping\n",
    "     \n",
    "\n",
    "- PyTorch domain library (Image, Text, Audio dataset) 들은 torch.utils.data.Dataset 을 상속 받은 pre-loaded dataset (ex. FashionMNIST)과 관련 함수 제공\n",
    "\n",
    "\n",
    "- torch.utils.data.Dataset 은 데이터셋을 나타내는 추상클래스이다.\n",
    "\n",
    "\n",
    "- custom 데이터셋은 Dataset 을 상속하고 아래와 같이 Dataset method 를 오버라이드 하여 작성\n",
    "\n",
    "\n",
    "    - 생성자 __init__ 은 dataset 의 전처리를 해주는 부분\n",
    "    - len(dataset) 에서 호출되는 __len__ 은 데이터셋의 크기를 리턴\n",
    "    - dataset[i] 에서 호출되는 __getitem__ 은 𝑖 번째 샘플을 찾는데 사용"
   ]
  },
  {
   "cell_type": "code",
   "execution_count": null,
   "id": "6e0acc74",
   "metadata": {},
   "outputs": [],
   "source": []
  },
  {
   "cell_type": "markdown",
   "id": "a8bc0382",
   "metadata": {
    "id": "ImddWZXJOhHw"
   },
   "source": [
    "## 사용자 정의 Dataset 작성\n",
    "\n",
    "- 특정 길이의 data를 생성하는 사용자 정의 Dataset class  \n",
    "- transform object를 전달 받으면 data 변환을 하여 반환  \n",
    "- iterable형태로 사용"
   ]
  },
  {
   "cell_type": "code",
   "execution_count": null,
   "id": "ceed4870",
   "metadata": {},
   "outputs": [],
   "source": [
    "# 사용자 정의 데이터셋 클래스 정의\n",
    "class toy_set(Dataset):\n",
    "    def __init__(self, length=10, transform=None):\n",
    "        # 재현성을 위해 랜덤 시드 고정\n",
    "        # 데이터 생성 (모든 입력값을 10으로 설정, 출력값을 1로 설정)\n",
    "    def __getitem__(self, idx):\n",
    "        # 주어진 인덱스(idx)에 해당하는 샘플(입력, 출력)을 가져오는 함수\n",
    "        # 변환(transform)이 설정된 경우, 샘플에 적용\n",
    "    def __len__(self):\n",
    "        # 데이터셋의 총 샘플 수 반환"
   ]
  },
  {
   "cell_type": "markdown",
   "id": "ddb54629",
   "metadata": {
    "id": "ZmFtIvrxOhHy"
   },
   "source": [
    "### iterable 형태로 사용\n",
    "- len(dataset)  \n",
    "- dataset[ i ]"
   ]
  },
  {
   "cell_type": "code",
   "execution_count": null,
   "id": "09a07318",
   "metadata": {},
   "outputs": [],
   "source": [
    "# toy_set 인스턴스 생성 (기본 길이 10)\n",
    "# 데이터셋의 총 샘플 개수 출력"
   ]
  },
  {
   "cell_type": "code",
   "execution_count": null,
   "id": "3b615a3b",
   "metadata": {},
   "outputs": [],
   "source": [
    "# 데이터셋에서 처음 3개의 샘플을 가져와 출력"
   ]
  },
  {
   "cell_type": "code",
   "execution_count": null,
   "id": "9cac47ed",
   "metadata": {},
   "outputs": [],
   "source": [
    "# 데이터셋을 순회하면서 첫 번째 샘플만 출력하고 반복 종료"
   ]
  },
  {
   "cell_type": "code",
   "execution_count": null,
   "id": "257ae46d",
   "metadata": {},
   "outputs": [],
   "source": [
    "# 데이터셋을 이터레이터로 변환하고 첫 번째 샘플을 가져오기"
   ]
  },
  {
   "cell_type": "markdown",
   "id": "636aa9c2",
   "metadata": {
    "id": "29t0psPgOhH1"
   },
   "source": [
    "## Transform 적용\n",
    "\n",
    "- 사용자 정의 transform module 을 Custom Dataset 에 적용"
   ]
  },
  {
   "cell_type": "markdown",
   "id": "b21d03d4",
   "metadata": {
    "id": "y5B50dQMOhH2"
   },
   "source": [
    "### Transform 함수 적용 예 : scaling"
   ]
  },
  {
   "cell_type": "code",
   "execution_count": null,
   "id": "cac74d67",
   "metadata": {},
   "outputs": [],
   "source": [
    "# 데이터 샘플을 스케일링하는 함수 정의\n",
    "def scaling(sample):"
   ]
  },
  {
   "cell_type": "code",
   "execution_count": null,
   "id": "3cfca331",
   "metadata": {},
   "outputs": [],
   "source": [
    "# transform을 적용한 toy_set 데이터셋 생성\n",
    "# 마지막 샘플 가져오기"
   ]
  },
  {
   "cell_type": "markdown",
   "id": "cc407db5",
   "metadata": {
    "id": "TlxGcH6hOhH3"
   },
   "source": [
    "### transform class 적용 예"
   ]
  },
  {
   "cell_type": "code",
   "execution_count": null,
   "id": "eff2233a",
   "metadata": {},
   "outputs": [],
   "source": [
    "# 샘플의 x와 y 값에 특정 값을 더하는 변환(transform) 클래스 정의\n",
    "class add_ones:\n",
    "    def __init__(self, added=1):\n",
    "    def __call__(self, sample):"
   ]
  },
  {
   "cell_type": "code",
   "execution_count": null,
   "id": "f523e300",
   "metadata": {},
   "outputs": [],
   "source": [
    "# add_ones 변환 객체 생성 (기본적으로 1을 더함)\n",
    "# transform에 add_ones 적용하여 toy_set 데이터셋 생성\n",
    "# 마지막 샘플 가져오기"
   ]
  },
  {
   "cell_type": "markdown",
   "id": "835850fb",
   "metadata": {
    "id": "BFisAyhnOhH5"
   },
   "source": [
    "### Transform 을 동시에 여러개 적용 : transform.Compose"
   ]
  },
  {
   "cell_type": "code",
   "execution_count": null,
   "id": "6c3fca7e",
   "metadata": {},
   "outputs": [],
   "source": [
    "# 여러 변환을 연속적으로 적용할 수 있도록 Compose 사용"
   ]
  },
  {
   "cell_type": "code",
   "execution_count": null,
   "id": "6ab2b9e3",
   "metadata": {},
   "outputs": [],
   "source": [
    "# transform 없이 toy_set 데이터셋 생성 (샘플 5개)\n",
    "# 첫 번째 샘플 가져오기 (이터레이터 사용)"
   ]
  },
  {
   "cell_type": "code",
   "execution_count": null,
   "id": "160a8f89",
   "metadata": {},
   "outputs": [],
   "source": [
    "# data_transforms(scaling & add_ones) 변환을 적용한 toy_set 생성 (샘플 5개)\n",
    "# 첫 번째 샘플 가져오기 (이터레이터 사용)"
   ]
  },
  {
   "cell_type": "markdown",
   "id": "29f6fcd6",
   "metadata": {
    "id": "xWID8_6yOhH7"
   },
   "source": [
    "<h1>pre-built Datasets and Transforms</h1>"
   ]
  },
  {
   "cell_type": "code",
   "execution_count": null,
   "id": "91fa6ae0",
   "metadata": {},
   "outputs": [],
   "source": []
  },
  {
   "cell_type": "code",
   "execution_count": null,
   "id": "12626cc8",
   "metadata": {},
   "outputs": [],
   "source": [
    "# 이미지 변환을 위한 Compose 파이프라인 정의 (20x20 중앙 크롭 + 텐서 변환)\n",
    "# MNIST 학습 데이터셋 다운로드 및 변환 적용\n",
    "# MNIST 테스트 데이터셋 다운로드 및 변환 적용"
   ]
  },
  {
   "cell_type": "code",
   "execution_count": null,
   "id": "0500a7ea",
   "metadata": {},
   "outputs": [],
   "source": [
    "# training_data의 첫 번째 샘플에서 이미지 텐서의 크기 출력"
   ]
  },
  {
   "cell_type": "code",
   "execution_count": null,
   "id": "4f47f797",
   "metadata": {},
   "outputs": [],
   "source": [
    "# 첫 번째 샘플의 이미지 데이터 가져오기\n",
    "# 이미지 시각화"
   ]
  },
  {
   "cell_type": "markdown",
   "id": "3731e5f3",
   "metadata": {
    "id": "4HAG7FNTOhH-"
   },
   "source": [
    "## DataLoader를 사용하여 training 데이터 준비\n",
    "\n",
    "Dataset은 `한 번에 한 개씩 샘플`의 feature 와 label 을 retreive 합니다. 모델을 훈련하는 동안 일반적으로 `minibatch`로 샘플을 전달하고, 매 epoch 마다 데이터를 reshuffle 하여 overfitting을 줄이며, Python의 multiprocessing을 사용하여 읽는 속도를 높입니다.\n",
    "\n",
    "DataLoader는 쉬운 API로 이러한 복잡성 내용을 추상화한 반복자(iterable) 입니다."
   ]
  },
  {
   "cell_type": "code",
   "execution_count": null,
   "id": "0d022159",
   "metadata": {},
   "outputs": [],
   "source": [
    "# 학습 데이터 로더 생성\n",
    "# 테스트 데이터 로더 생성"
   ]
  },
  {
   "cell_type": "markdown",
   "id": "42248d24",
   "metadata": {
    "id": "gLacMc-IOhH_"
   },
   "source": [
    "## DataLoader를 통해 반복\n",
    "해당 데이터 세트를 ``Dataloader``에 로드 했으며 반복할 수 있습니다. 아래의 각 반복은`` train_features`` 및 ``train_labels`` ( batch_size=64 의 feature 및 label) 의 배치를 반환합니다.  ``shuffle=True``를 지정했기 때문에 모든 배치를 반복한 후에 데이터가 섞입니다."
   ]
  },
  {
   "cell_type": "code",
   "execution_count": null,
   "id": "7cb75297",
   "metadata": {},
   "outputs": [],
   "source": [
    "# train_dataloader에서 첫 번째 배치를 가져오기\n",
    "# 배치 데이터의 크기 출력"
   ]
  },
  {
   "cell_type": "code",
   "execution_count": null,
   "id": "086771e1",
   "metadata": {},
   "outputs": [],
   "source": [
    "# 첫 번째 이미지 가져오기 (채널 차원 제거)\n",
    "# 첫 번째 이미지의 라벨 가져오기\n",
    "# 이미지 시각화\n",
    "# 해당 이미지의 레이블 출력"
   ]
  },
  {
   "cell_type": "markdown",
   "id": "14341326",
   "metadata": {
    "id": "12wfH6alOhH_"
   },
   "source": [
    "## TensorDataset\n",
    "- PyTorch의 TensorDataset은 tensor를 감싸는 Dataset입니다.\n",
    "- TensorDataset은 Dataset을 상속한 클래스로 학습 데이터 X와 레이블 Y를 묶어 놓는 컨테이너입니다.\n",
    "- TensorDataset을 DataLoader에 전달하면 for 루프에서 데이터의 일부분만 간단히 추출할 수 있게 됩니다.  \n",
    "- TensorDataset에는 텐서만 전달할 수 있으며, Variable은 전달할 수 없으니 주의\n",
    "- Dataset은 직접 작성할 수도 있어서 대량의 이미지 파일을 한 번에 메모리에 저장하지 않고 필요할 때마다 읽어서 학습하는 등 다양하게 활용 가능"
   ]
  },
  {
   "cell_type": "code",
   "execution_count": null,
   "id": "d03c5cc5",
   "metadata": {},
   "outputs": [],
   "source": [
    "# 5x4 크기의 난수 행렬 생성 (정규 분포)\n",
    "# 0 또는 1 값을 가지는 정수 배열 생성 (크기 5)\n",
    "# NumPy 배열을 PyTorch 텐서로 변환\n",
    "# 변환된 텐서 출력"
   ]
  },
  {
   "cell_type": "code",
   "execution_count": null,
   "id": "51bdf8c0",
   "metadata": {},
   "outputs": [],
   "source": [
    "# X_train(입력 데이터)와 y_train(레이블)을 하나의 데이터셋으로 묶기\n",
    "# 생성된 TensorDataset 출력"
   ]
  },
  {
   "cell_type": "code",
   "execution_count": null,
   "id": "8c754f04",
   "metadata": {},
   "outputs": [],
   "source": [
    "# DataLoader 생성\n",
    "# 생성된 DataLoader 출력"
   ]
  },
  {
   "cell_type": "code",
   "execution_count": null,
   "id": "6d841718",
   "metadata": {},
   "outputs": [],
   "source": [
    "# DataLoader에서 첫 번째 배치 가져오기\n",
    "# 배치 데이터 출력"
   ]
  },
  {
   "cell_type": "code",
   "execution_count": null,
   "id": "f9580930",
   "metadata": {},
   "outputs": [],
   "source": []
  }
 ],
 "metadata": {
  "colab": {
   "provenance": []
  },
  "kernelspec": {
   "display_name": "Python 3 (ipykernel)",
   "language": "python",
   "name": "python3"
  },
  "language_info": {
   "codemirror_mode": {
    "name": "ipython",
    "version": 3
   },
   "file_extension": ".py",
   "mimetype": "text/x-python",
   "name": "python",
   "nbconvert_exporter": "python",
   "pygments_lexer": "ipython3",
   "version": "3.9.21"
  }
 },
 "nbformat": 4,
 "nbformat_minor": 5
}
