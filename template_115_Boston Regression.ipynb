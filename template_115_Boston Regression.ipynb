{
 "cells": [
  {
   "cell_type": "markdown",
   "id": "eb63a915",
   "metadata": {},
   "source": [
    "# 115.Boston House Price Regression\n",
    "\n",
    "### 13 개의 독립변수와 1 개의 종속변수 (주택가격 중앙값) 으로 구성\n",
    "\n",
    "#### 독립변수 (13 개)\n",
    "CRIM 자치시(town) 별 1인당 범죄율  \n",
    "ZN 25,000 평방피트를 초과하는 거주지역의 비율  \n",
    "INDUS 비소매상업지역이 점유하고 있는 토지의 비율  \n",
    "CHAS 찰스강에 대한 더미변수(강의 경계에 위치한 경우는 1, 아니면 0)  \n",
    "NOX 10ppm 당 농축 일산화질소  \n",
    "RM 주택 1가구당 평균 방의 개수  \n",
    "AGE 1940년 이전에 건축된 소유주택의 비율  \n",
    "DIS 5개의 보스턴 직업센터까지의 접근성 지수  \n",
    "RAD 방사형 도로까지의 접근성 지수  \n",
    "TAX 10,000 달러 당 재산세율  \n",
    "PTRATIO 자치시(town)별 학생/교사 비율  \n",
    "B 1000(Bk-0.63)^2, 여기서 Bk는 자치시별 흑인의 비율을 말함  \n",
    "LSTAT 모집단의 하위계층의 비율(%)   \n",
    "\n",
    "#### 종속변수 (1 개)\n",
    "MEDV 본인 소유의 주택가격(중앙값) (단위: $1,000)  "
   ]
  },
  {
   "cell_type": "code",
   "execution_count": null,
   "id": "4785e0cc",
   "metadata": {},
   "outputs": [],
   "source": []
  },
  {
   "cell_type": "code",
   "execution_count": null,
   "id": "6285650f",
   "metadata": {},
   "outputs": [],
   "source": []
  },
  {
   "cell_type": "markdown",
   "id": "3dbed36f",
   "metadata": {},
   "source": [
    "Data Load"
   ]
  },
  {
   "cell_type": "code",
   "execution_count": null,
   "id": "98ed4a4d",
   "metadata": {},
   "outputs": [],
   "source": []
  },
  {
   "cell_type": "markdown",
   "id": "1d9aa521",
   "metadata": {},
   "source": [
    "Input / Target 지정"
   ]
  },
  {
   "cell_type": "code",
   "execution_count": null,
   "id": "242b0249",
   "metadata": {},
   "outputs": [],
   "source": []
  },
  {
   "cell_type": "markdown",
   "id": "8c8bdae9",
   "metadata": {},
   "source": [
    "Train/Test split"
   ]
  },
  {
   "cell_type": "code",
   "execution_count": null,
   "id": "5d4b6a7d",
   "metadata": {},
   "outputs": [],
   "source": []
  },
  {
   "cell_type": "markdown",
   "id": "fdf89a16",
   "metadata": {},
   "source": [
    "Feature Scaling"
   ]
  },
  {
   "cell_type": "code",
   "execution_count": null,
   "id": "1df7556d",
   "metadata": {},
   "outputs": [],
   "source": []
  },
  {
   "cell_type": "markdown",
   "id": "2d7c2cae",
   "metadata": {},
   "source": [
    "Numpy Data를 torch tensor 로 변환"
   ]
  },
  {
   "cell_type": "code",
   "execution_count": null,
   "id": "93590701",
   "metadata": {},
   "outputs": [],
   "source": []
  },
  {
   "cell_type": "markdown",
   "id": "1e37bce9",
   "metadata": {},
   "source": [
    "### Linear Model build\n",
    "- hidden layer가 한개인 linear regression model "
   ]
  },
  {
   "cell_type": "code",
   "execution_count": null,
   "id": "54fd45d4",
   "metadata": {},
   "outputs": [],
   "source": [
    "class LinearReg(nn.Module):\n",
    "    def __init__(self, input_size, output_size):\n",
    "    def forward(self, x):"
   ]
  },
  {
   "cell_type": "markdown",
   "id": "4aa90896",
   "metadata": {},
   "source": [
    "model instance 생성"
   ]
  },
  {
   "cell_type": "code",
   "execution_count": null,
   "id": "ca52699b",
   "metadata": {},
   "outputs": [],
   "source": []
  },
  {
   "cell_type": "markdown",
   "id": "a17b208b",
   "metadata": {},
   "source": [
    "손실함수/optimizer 정의"
   ]
  },
  {
   "cell_type": "code",
   "execution_count": null,
   "id": "9958641e",
   "metadata": {},
   "outputs": [],
   "source": []
  },
  {
   "cell_type": "markdown",
   "id": "d9bc9fd3",
   "metadata": {},
   "source": [
    "### Dataset Loader 생성\n",
    "\n",
    "- torch.utils.data.TensorDataset : Dataset wrapping tensors"
   ]
  },
  {
   "cell_type": "code",
   "execution_count": null,
   "id": "85ed8e9a",
   "metadata": {},
   "outputs": [],
   "source": []
  },
  {
   "cell_type": "markdown",
   "id": "cae7b5c6",
   "metadata": {},
   "source": [
    "## The training process \n",
    "- Batch data Load \n",
    "- model 을 이용하여 batch data 예측  \n",
    "- loss value 계산 \n",
    "- optimizer 에 저장된 grad value clear\n",
    "- loss value backpropagate \n",
    "- optimizer update  "
   ]
  },
  {
   "cell_type": "code",
   "execution_count": null,
   "id": "1c4a9d34",
   "metadata": {},
   "outputs": [],
   "source": []
  },
  {
   "cell_type": "markdown",
   "id": "cf69aee3",
   "metadata": {},
   "source": [
    "Test set을 이용하여 model 평가"
   ]
  },
  {
   "cell_type": "code",
   "execution_count": null,
   "id": "4607110a",
   "metadata": {},
   "outputs": [],
   "source": []
  },
  {
   "cell_type": "markdown",
   "id": "688348fd",
   "metadata": {},
   "source": [
    "Loss 시각화"
   ]
  },
  {
   "cell_type": "code",
   "execution_count": null,
   "id": "2e8d05fe",
   "metadata": {},
   "outputs": [],
   "source": []
  },
  {
   "cell_type": "markdown",
   "id": "b033c095",
   "metadata": {},
   "source": [
    "Test set을 이용하여 예측"
   ]
  },
  {
   "cell_type": "code",
   "execution_count": null,
   "id": "1f9cc07a",
   "metadata": {},
   "outputs": [],
   "source": []
  },
  {
   "cell_type": "markdown",
   "id": "7c7eb769",
   "metadata": {},
   "source": [
    "MSE, R2 계산"
   ]
  },
  {
   "cell_type": "code",
   "execution_count": null,
   "id": "f595f4ea",
   "metadata": {},
   "outputs": [],
   "source": []
  },
  {
   "cell_type": "markdown",
   "id": "c8aad8ec",
   "metadata": {},
   "source": [
    "True vs. Predicted 시각화"
   ]
  },
  {
   "cell_type": "code",
   "execution_count": null,
   "id": "63518acc",
   "metadata": {},
   "outputs": [],
   "source": []
  },
  {
   "cell_type": "markdown",
   "id": "5482f326",
   "metadata": {},
   "source": [
    "## 실습\n",
    "\n",
    "### UCI Machine Learning Repository 의 Auto MPG dataset 을 사용하여 Regression 예측 model 작성\n",
    "\n",
    "auto-mpg.data - data file  \n",
    "auto-mpg.names - data 설명 file\n",
    "\n",
    "1. mpg:           continuous  \n",
    "2. cylinders:     multi-valued discrete  \n",
    "3. displacement:  continuous (배기량)   \n",
    "4. horsepower:    continuous  \n",
    "5. weight:        continuous  \n",
    "6. acceleration:  continuous  \n",
    "7. model year:    multi-valued discrete  \n",
    "8. origin:        multi-valued discrete, 1 - USA, 2 - Europe, 3 - Japan  \n",
    "9. car name:      string (unique for each instance)  \n",
    "\n",
    "Missing Attribute Values:  horsepower has 6 missing values  ==> \"?\" 로 들어 있으므로 read_csv 시 nan 으로 변환"
   ]
  },
  {
   "cell_type": "code",
   "execution_count": null,
   "id": "e7c96963",
   "metadata": {},
   "outputs": [],
   "source": []
  },
  {
   "cell_type": "code",
   "execution_count": null,
   "id": "f882c9ae",
   "metadata": {},
   "outputs": [],
   "source": []
  },
  {
   "cell_type": "markdown",
   "id": "bac856ef",
   "metadata": {},
   "source": [
    "### Data load 및 Preprocessing"
   ]
  },
  {
   "cell_type": "code",
   "execution_count": null,
   "id": "517130c6",
   "metadata": {},
   "outputs": [],
   "source": [
    "# UCI 머신러닝 저장소에서 자동차 연비 데이터를 가져올 URL을 설정합니다.\n",
    "# 다운로드할 파일의 이름을 설정합니다.\n",
    "# 파일을 쓰기 모드(\"wb\" - 바이너리 쓰기 모드)로 엽니다.\n",
    "    # URL에서 데이터를 가져옵니다.\n",
    "    # 가져온 데이터를 파일에 씁니다."
   ]
  },
  {
   "cell_type": "code",
   "execution_count": null,
   "id": "e6726b60",
   "metadata": {},
   "outputs": [],
   "source": [
    "# 데이터프레임의 열 이름을 정의합니다.\n",
    "# - na_values: '?'를 결측값으로 취급합니다.\n",
    "# - comment: '\\t'로 시작하는 주석을 무시합니다.\n",
    "# - sep: 공백을 구분자로 사용합니다.\n",
    "# - skipinitialspace: 구분자 후의 공백을 무시합니다.\n",
    "# 데이터프레임의 처음 몇 개의 행을 출력합니다."
   ]
  },
  {
   "cell_type": "code",
   "execution_count": null,
   "id": "f22a1c60",
   "metadata": {},
   "outputs": [],
   "source": [
    "# 결측값이 있는 행을 데이터프레임에서 제거합니다.\n",
    "# 원본 데이터를 복사하여 data 변수에 저장합니다.\n",
    "# 'cylinders'와 'origin' 열을 원-핫 인코딩하여 범주형 변수를 처리합니다.\n",
    "# 'mpg' 열을 label 변수에 저장하고, data에서 해당 열을 제거합니다."
   ]
  },
  {
   "cell_type": "code",
   "execution_count": null,
   "id": "b4a939ee",
   "metadata": {},
   "outputs": [],
   "source": []
  },
  {
   "cell_type": "code",
   "execution_count": null,
   "id": "6560aa3a",
   "metadata": {},
   "outputs": [],
   "source": []
  },
  {
   "cell_type": "markdown",
   "id": "8069e728",
   "metadata": {},
   "source": [
    "### Regression Model Build\n",
    "\n",
    "### train\n",
    "\n",
    "### predict\n",
    "\n",
    "### $r^2$ 계산"
   ]
  },
  {
   "cell_type": "code",
   "execution_count": null,
   "id": "e5343ac7",
   "metadata": {},
   "outputs": [],
   "source": []
  }
 ],
 "metadata": {
  "kernelspec": {
   "display_name": "Python 3 (ipykernel)",
   "language": "python",
   "name": "python3"
  },
  "language_info": {
   "codemirror_mode": {
    "name": "ipython",
    "version": 3
   },
   "file_extension": ".py",
   "mimetype": "text/x-python",
   "name": "python",
   "nbconvert_exporter": "python",
   "pygments_lexer": "ipython3",
   "version": "3.9.7"
  }
 },
 "nbformat": 4,
 "nbformat_minor": 5
}
