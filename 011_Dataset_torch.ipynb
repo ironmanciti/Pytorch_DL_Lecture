{
 "cells": [
  {
   "cell_type": "markdown",
   "metadata": {
    "id": "oUA64IUYOhHl"
   },
   "source": [
    "# 011. PyTorch Dataset\n",
    "\n",
    "### Dataset 클래스\n",
    "\n",
    " - PyTorch는 두 개의 데이터 관련 클라스를 제공하여 pre-loaded datasets 및 custom dataset 을 사용할 수 있도록 한다.\n",
    "\n",
    "     - torch.utils.data.Dataset - 샘플 및 해당 레이블을 제공\n",
    "     - torch.utils.data.DataLoader - 샘플에 쉽게 액세스 할 수 있도록 Dataset의 iterable 을 wrapping\n",
    "     \n",
    "\n",
    "- PyTorch domain library (Image, Text, Audio dataset) 들은 torch.utils.data.Dataset 을 상속 받은 pre-loaded dataset (ex. FashionMNIST)과 관련 함수 제공\n",
    "\n",
    "\n",
    "- torch.utils.data.Dataset 은 데이터셋을 나타내는 추상클래스이다.\n",
    "\n",
    "\n",
    "- custom 데이터셋은 Dataset 을 상속하고 아래와 같이 Dataset method 를 오버라이드 하여 작성\n",
    "\n",
    "\n",
    "    - 생성자 __init__ 은 dataset 의 전처리를 해주는 부분\n",
    "    - len(dataset) 에서 호출되는 __len__ 은 데이터셋의 크기를 리턴\n",
    "    - dataset[i] 에서 호출되는 __getitem__ 은 𝑖 번째 샘플을 찾는데 사용"
   ]
  },
  {
   "cell_type": "code",
   "execution_count": 1,
   "metadata": {
    "id": "qNVqy1FbOhHt"
   },
   "outputs": [],
   "source": [
    "import numpy as np\n",
    "import torch\n",
    "from torch.utils.data import Dataset\n",
    "from torchvision import transforms"
   ]
  },
  {
   "cell_type": "markdown",
   "metadata": {
    "id": "ImddWZXJOhHw"
   },
   "source": [
    "## 사용자 정의 Dataset 작성\n",
    "\n",
    "- 특정 길이의 data를 생성하는 사용자 정의 Dataset class  \n",
    "- transform object를 전달 받으면 data 변환을 하여 반환  \n",
    "- iterable형태로 사용"
   ]
  },
  {
   "cell_type": "code",
   "execution_count": 10,
   "metadata": {
    "id": "8V2qY4joOhHx"
   },
   "outputs": [],
   "source": [
    "import torch\n",
    "from torch.utils.data import Dataset  # PyTorch 데이터셋 클래스를 상속받기 위해 필요\n",
    "\n",
    "# 사용자 정의 데이터셋 클래스 정의\n",
    "class toy_set(Dataset):\n",
    "    def __init__(self, length=10, transform=None):\n",
    "        # 재현성을 위해 랜덤 시드 고정\n",
    "        torch.manual_seed(101)\n",
    "\n",
    "        # 데이터 생성 (모든 입력값을 10으로 설정, 출력값을 1로 설정)\n",
    "        self.x = 10 * torch.ones(length, 2)     # (샘플 개수, 특성 개수)\n",
    "        self.y = torch.ones(length, 1)            # (샘플 개수, 출력값 개수)\n",
    "        self.len = length                                # 데이터셋 크기 저장\n",
    "        self.transform = transform     # 데이터 변환(transform) 기능 추가\n",
    "\n",
    "    def __getitem__(self, idx):\n",
    "        # 주어진 인덱스(idx)에 해당하는 샘플(입력, 출력)을 가져오는 함수\n",
    "        sample = self.x[idx], self.y[idx]  # 튜플 형태 (x, y)\n",
    "\n",
    "        # 변환(transform)이 설정된 경우, 샘플에 적용\n",
    "        if self.transform:\n",
    "            sample = self.transform(sample)\n",
    "\n",
    "        return sample  # 샘플 반환\n",
    "\n",
    "    def __len__(self):\n",
    "        # 데이터셋의 총 샘플 수 반환\n",
    "        return self.len"
   ]
  },
  {
   "cell_type": "markdown",
   "metadata": {
    "id": "ZmFtIvrxOhHy"
   },
   "source": [
    "### iterable 형태로 사용\n",
    "- len(dataset)  \n",
    "- dataset[ i ]"
   ]
  },
  {
   "cell_type": "code",
   "execution_count": 11,
   "metadata": {
    "colab": {
     "base_uri": "https://localhost:8080/"
    },
    "id": "vekWIG4FOhHy",
    "outputId": "dacb404e-3413-480d-c7ff-ee6c6afb8725"
   },
   "outputs": [
    {
     "data": {
      "text/plain": [
       "10"
      ]
     },
     "execution_count": 11,
     "metadata": {},
     "output_type": "execute_result"
    }
   ],
   "source": [
    "# toy_set 인스턴스 생성 (기본 길이 10)\n",
    "test_data = toy_set()\n",
    "\n",
    "# 데이터셋의 총 샘플 개수 출력\n",
    "len(test_data)"
   ]
  },
  {
   "cell_type": "code",
   "execution_count": 12,
   "metadata": {
    "colab": {
     "base_uri": "https://localhost:8080/"
    },
    "id": "TTIq0nQvOhHz",
    "outputId": "8a4d7343-a903-4ce9-d90b-7f6d61e9fffe"
   },
   "outputs": [
    {
     "name": "stdout",
     "output_type": "stream",
     "text": [
      "tensor([10., 10.]) tensor([1.])\n",
      "tensor([10., 10.]) tensor([1.])\n",
      "tensor([10., 10.]) tensor([1.])\n"
     ]
    }
   ],
   "source": [
    "# 데이터셋에서 처음 3개의 샘플을 가져와 출력\n",
    "for i in range(3):\n",
    "    x, y = test_data[i]     # i번째 샘플 가져오기\n",
    "    print(x, y)               # 입력 데이터(x)와 정답 레이블(y) 출력"
   ]
  },
  {
   "cell_type": "code",
   "execution_count": 13,
   "metadata": {
    "colab": {
     "base_uri": "https://localhost:8080/"
    },
    "id": "4Uw2nKvtOhH0",
    "outputId": "78d6ecee-92f3-41ea-e72d-ca61dbdcdb4e"
   },
   "outputs": [
    {
     "name": "stdout",
     "output_type": "stream",
     "text": [
      "tensor([10., 10.]) tensor([1.])\n"
     ]
    }
   ],
   "source": [
    "# 데이터셋을 순회하면서 첫 번째 샘플만 출력하고 반복 종료\n",
    "for x, y in test_data:\n",
    "    print(x, y)  # 첫 번째 샘플의 입력(x)과 출력(y) 출력\n",
    "    break  # 첫 번째 샘플 출력 후 반복문 종료"
   ]
  },
  {
   "cell_type": "code",
   "execution_count": 14,
   "metadata": {
    "colab": {
     "base_uri": "https://localhost:8080/"
    },
    "id": "07SicKdjYxTP",
    "outputId": "1d8bc13a-36ec-4458-f37c-c2984c236971"
   },
   "outputs": [
    {
     "data": {
      "text/plain": [
       "(tensor([10., 10.]), tensor([1.]))"
      ]
     },
     "execution_count": 14,
     "metadata": {},
     "output_type": "execute_result"
    }
   ],
   "source": [
    "# 데이터셋을 이터레이터로 변환하고 첫 번째 샘플을 가져오기\n",
    "next(iter(test_data))"
   ]
  },
  {
   "cell_type": "markdown",
   "metadata": {
    "id": "29t0psPgOhH1"
   },
   "source": [
    "## Transform 적용\n",
    "\n",
    "- 사용자 정의 transform module 을 Custom Dataset 에 적용"
   ]
  },
  {
   "cell_type": "markdown",
   "metadata": {
    "id": "y5B50dQMOhH2"
   },
   "source": [
    "### Transform 함수 적용 예 : scaling"
   ]
  },
  {
   "cell_type": "code",
   "execution_count": 15,
   "metadata": {
    "id": "tFi6ti1jOhH2"
   },
   "outputs": [],
   "source": [
    "# 데이터 샘플을 스케일링하는 함수 정의\n",
    "def scaling(sample):\n",
    "    x, y = sample  # 입력(x)과 출력(y) 분리\n",
    "    scaled_x = x / 10.  # x 값을 10으로 나누어 정규화\n",
    "    scaled_y = y / 10.  # y 값을 10으로 나누어 정규화\n",
    "    return scaled_x, scaled_y  # 변환된 샘플 반환"
   ]
  },
  {
   "cell_type": "code",
   "execution_count": 16,
   "metadata": {
    "colab": {
     "base_uri": "https://localhost:8080/"
    },
    "id": "i9wFYNUhOhH3",
    "outputId": "79d8fed2-8619-4180-b575-a93065cbcf4a"
   },
   "outputs": [
    {
     "data": {
      "text/plain": [
       "(tensor([1., 1.]), tensor([0.1000]))"
      ]
     },
     "execution_count": 16,
     "metadata": {},
     "output_type": "execute_result"
    }
   ],
   "source": [
    "# transform을 적용한 toy_set 데이터셋 생성\n",
    "dataset_ = toy_set(10, transform=scaling)\n",
    "\n",
    "# 마지막 샘플 가져오기\n",
    "dataset_[-1]"
   ]
  },
  {
   "cell_type": "markdown",
   "metadata": {
    "id": "TlxGcH6hOhH3"
   },
   "source": [
    "### transform class 적용 예"
   ]
  },
  {
   "cell_type": "code",
   "execution_count": 17,
   "metadata": {
    "id": "3PuiUsuvOhH4"
   },
   "outputs": [],
   "source": [
    "# 샘플의 x와 y 값에 특정 값을 더하는 변환(transform) 클래스 정의\n",
    "class add_ones:\n",
    "    def __init__(self, added=1):\n",
    "        self.added = added        # 추가할 값 설정\n",
    "\n",
    "    def __call__(self, sample):\n",
    "        x, y = sample            # 샘플에서 입력(x)과 출력(y) 분리\n",
    "        x = x + self.added     # x 값에 지정된 값(기본 1) 추가\n",
    "        y = y + self.added    # y 값에 지정된 값(기본 1) 추가\n",
    "        sample = x, y           # 변환된 샘플 생성\n",
    "        return sample          # 변환된 샘플 반환"
   ]
  },
  {
   "cell_type": "code",
   "execution_count": 18,
   "metadata": {
    "colab": {
     "base_uri": "https://localhost:8080/"
    },
    "id": "387FjPOBOhH4",
    "outputId": "b8417650-fc32-443f-eb9c-152f3e96e48c"
   },
   "outputs": [
    {
     "data": {
      "text/plain": [
       "(tensor([11., 11.]), tensor([2.]))"
      ]
     },
     "execution_count": 18,
     "metadata": {},
     "output_type": "execute_result"
    }
   ],
   "source": [
    "# add_ones 변환 객체 생성 (기본적으로 1을 더함)\n",
    "a_m = add_ones()\n",
    "\n",
    "# transform에 add_ones 적용하여 toy_set 데이터셋 생성\n",
    "dataset_ = toy_set(10, transform=a_m)\n",
    "\n",
    "# 마지막 샘플 가져오기\n",
    "dataset_[-1]"
   ]
  },
  {
   "cell_type": "markdown",
   "metadata": {
    "id": "BFisAyhnOhH5"
   },
   "source": [
    "### Transform 을 동시에 여러개 적용 : transform.Compose"
   ]
  },
  {
   "cell_type": "code",
   "execution_count": 19,
   "metadata": {
    "id": "iag1dlFtOhH5"
   },
   "outputs": [],
   "source": [
    "from torchvision import transforms  # 이미지 및 데이터 변환을 위한 torchvision.transforms 임포트\n",
    "\n",
    "# 여러 변환을 연속적으로 적용할 수 있도록 Compose 사용\n",
    "data_transforms = transforms.Compose([scaling, a_m])"
   ]
  },
  {
   "cell_type": "code",
   "execution_count": 20,
   "metadata": {
    "colab": {
     "base_uri": "https://localhost:8080/"
    },
    "id": "sBOMrqu2OhH6",
    "outputId": "62f08d10-e98e-4778-ba8a-2e2afdd073ae"
   },
   "outputs": [
    {
     "data": {
      "text/plain": [
       "(tensor([10., 10.]), tensor([1.]))"
      ]
     },
     "execution_count": 20,
     "metadata": {},
     "output_type": "execute_result"
    }
   ],
   "source": [
    "# transform 없이 toy_set 데이터셋 생성 (샘플 5개)\n",
    "data1 = toy_set(5)\n",
    "\n",
    "# 첫 번째 샘플 가져오기 (이터레이터 사용)\n",
    "next(iter(data1))"
   ]
  },
  {
   "cell_type": "code",
   "execution_count": 21,
   "metadata": {
    "colab": {
     "base_uri": "https://localhost:8080/"
    },
    "id": "yVEOEBzIYxTQ",
    "outputId": "a516460d-9f2a-4c89-f151-642155e6cfec"
   },
   "outputs": [
    {
     "data": {
      "text/plain": [
       "(tensor([2., 2.]), tensor([1.1000]))"
      ]
     },
     "execution_count": 21,
     "metadata": {},
     "output_type": "execute_result"
    }
   ],
   "source": [
    "# data_transforms(scaling & add_ones) 변환을 적용한 toy_set 생성 (샘플 5개)\n",
    "data2 = toy_set(5, transform=data_transforms)\n",
    "\n",
    "# 첫 번째 샘플 가져오기 (이터레이터 사용)\n",
    "next(iter(data2))"
   ]
  },
  {
   "cell_type": "markdown",
   "metadata": {
    "id": "xWID8_6yOhH7"
   },
   "source": [
    "<h1>pre-built Datasets and Transforms</h1>"
   ]
  },
  {
   "cell_type": "code",
   "execution_count": 22,
   "metadata": {
    "id": "rdLNw5A-OhH8"
   },
   "outputs": [],
   "source": [
    "import torchvision.transforms as transforms\n",
    "from torchvision import datasets"
   ]
  },
  {
   "cell_type": "code",
   "execution_count": 23,
   "metadata": {
    "colab": {
     "base_uri": "https://localhost:8080/"
    },
    "id": "j7FA9WoVOhH9",
    "outputId": "2ee93b4d-6596-4523-9eca-0403fce6afbd"
   },
   "outputs": [
    {
     "name": "stdout",
     "output_type": "stream",
     "text": [
      "Downloading http://yann.lecun.com/exdb/mnist/train-images-idx3-ubyte.gz\n",
      "Failed to download (trying next):\n",
      "HTTP Error 404: Not Found\n",
      "\n",
      "Downloading https://ossci-datasets.s3.amazonaws.com/mnist/train-images-idx3-ubyte.gz\n",
      "Downloading https://ossci-datasets.s3.amazonaws.com/mnist/train-images-idx3-ubyte.gz to data/MNIST/raw/train-images-idx3-ubyte.gz\n"
     ]
    },
    {
     "name": "stderr",
     "output_type": "stream",
     "text": [
      "100%|██████████| 9.91M/9.91M [00:00<00:00, 37.3MB/s]\n"
     ]
    },
    {
     "name": "stdout",
     "output_type": "stream",
     "text": [
      "Extracting data/MNIST/raw/train-images-idx3-ubyte.gz to data/MNIST/raw\n",
      "\n",
      "Downloading http://yann.lecun.com/exdb/mnist/train-labels-idx1-ubyte.gz\n",
      "Failed to download (trying next):\n",
      "HTTP Error 404: Not Found\n",
      "\n",
      "Downloading https://ossci-datasets.s3.amazonaws.com/mnist/train-labels-idx1-ubyte.gz\n",
      "Downloading https://ossci-datasets.s3.amazonaws.com/mnist/train-labels-idx1-ubyte.gz to data/MNIST/raw/train-labels-idx1-ubyte.gz\n"
     ]
    },
    {
     "name": "stderr",
     "output_type": "stream",
     "text": [
      "100%|██████████| 28.9k/28.9k [00:00<00:00, 1.39MB/s]\n"
     ]
    },
    {
     "name": "stdout",
     "output_type": "stream",
     "text": [
      "Extracting data/MNIST/raw/train-labels-idx1-ubyte.gz to data/MNIST/raw\n",
      "\n",
      "Downloading http://yann.lecun.com/exdb/mnist/t10k-images-idx3-ubyte.gz\n",
      "Failed to download (trying next):\n",
      "HTTP Error 404: Not Found\n",
      "\n",
      "Downloading https://ossci-datasets.s3.amazonaws.com/mnist/t10k-images-idx3-ubyte.gz\n",
      "Downloading https://ossci-datasets.s3.amazonaws.com/mnist/t10k-images-idx3-ubyte.gz to data/MNIST/raw/t10k-images-idx3-ubyte.gz\n"
     ]
    },
    {
     "name": "stderr",
     "output_type": "stream",
     "text": [
      "100%|██████████| 1.65M/1.65M [00:00<00:00, 10.4MB/s]\n"
     ]
    },
    {
     "name": "stdout",
     "output_type": "stream",
     "text": [
      "Extracting data/MNIST/raw/t10k-images-idx3-ubyte.gz to data/MNIST/raw\n",
      "\n",
      "Downloading http://yann.lecun.com/exdb/mnist/t10k-labels-idx1-ubyte.gz\n",
      "Failed to download (trying next):\n",
      "HTTP Error 404: Not Found\n",
      "\n",
      "Downloading https://ossci-datasets.s3.amazonaws.com/mnist/t10k-labels-idx1-ubyte.gz\n",
      "Downloading https://ossci-datasets.s3.amazonaws.com/mnist/t10k-labels-idx1-ubyte.gz to data/MNIST/raw/t10k-labels-idx1-ubyte.gz\n"
     ]
    },
    {
     "name": "stderr",
     "output_type": "stream",
     "text": [
      "100%|██████████| 4.54k/4.54k [00:00<00:00, 7.77MB/s]"
     ]
    },
    {
     "name": "stdout",
     "output_type": "stream",
     "text": [
      "Extracting data/MNIST/raw/t10k-labels-idx1-ubyte.gz to data/MNIST/raw\n",
      "\n"
     ]
    },
    {
     "name": "stderr",
     "output_type": "stream",
     "text": [
      "\n"
     ]
    }
   ],
   "source": [
    "# 이미지 변환을 위한 Compose 파이프라인 정의 (20x20 중앙 크롭 + 텐서 변환)\n",
    "crop_tensor_transform = transforms.Compose([\n",
    "    transforms.CenterCrop(20),       # 28x28 이미지를 20x20 크기로 중앙 크롭\n",
    "    transforms.ToTensor()                # 이미지를 PyTorch 텐서 [0, 1] 범위로 변환\n",
    "])\n",
    "\n",
    "# MNIST 학습 데이터셋 다운로드 및 변환 적용\n",
    "training_data = datasets.MNIST(\n",
    "    root=\"data\",                     # 데이터를 저장할 경로\n",
    "    train=True,                         # 학습 데이터 로드\n",
    "    download=True,                # 데이터가 없으면 다운로드\n",
    "    transform=crop_tensor_transform  # 변환 적용\n",
    ")\n",
    "\n",
    "# MNIST 테스트 데이터셋 다운로드 및 변환 적용\n",
    "test_data = datasets.MNIST(\n",
    "    root=\"data\",                        # 데이터를 저장할 경로\n",
    "    train=False,                          # 테스트 데이터 로드\n",
    "    download=True,                  # 데이터가 없으면 다운로드\n",
    "    transform=crop_tensor_transform     # 변환 적용\n",
    ")"
   ]
  },
  {
   "cell_type": "code",
   "execution_count": 24,
   "metadata": {
    "colab": {
     "base_uri": "https://localhost:8080/"
    },
    "id": "g0iaD_nyOhH9",
    "outputId": "77f27aeb-8f6d-4656-fba4-80d8019b2411"
   },
   "outputs": [
    {
     "data": {
      "text/plain": [
       "torch.Size([1, 20, 20])"
      ]
     },
     "execution_count": 24,
     "metadata": {},
     "output_type": "execute_result"
    }
   ],
   "source": [
    "# training_data의 첫 번째 샘플에서 이미지 텐서의 크기 출력\n",
    "training_data[0][0].shape"
   ]
  },
  {
   "cell_type": "code",
   "execution_count": 25,
   "metadata": {
    "colab": {
     "base_uri": "https://localhost:8080/",
     "height": 452
    },
    "id": "ZmHJ6mrROhH-",
    "outputId": "1ea156b9-bbc3-4ee9-f038-cb040901f9ff"
   },
   "outputs": [
    {
     "data": {
      "image/png": "[encoded data removed]",
      "text/plain": [
       "<Figure size 640x480 with 1 Axes>"
      ]
     },
     "metadata": {},
     "output_type": "display_data"
    }
   ],
   "source": [
    "import matplotlib.pyplot as plt\n",
    "\n",
    "# 첫 번째 샘플의 이미지 데이터 가져오기\n",
    "image = training_data[0][0].view(20, 20)    # (1, 20, 20) → (20, 20)으로 변환\n",
    "\n",
    "# 이미지 시각화\n",
    "plt.imshow(image, cmap=\"gray\")     # 흑백 이미지 표시\n",
    "plt.title(\"y = {}\".format(training_data[0][1]))  # 제목: 실제 레이블 값\n",
    "plt.show()"
   ]
  },
  {
   "cell_type": "markdown",
   "metadata": {
    "id": "4HAG7FNTOhH-"
   },
   "source": [
    "## DataLoader를 사용하여 training 데이터 준비\n",
    "\n",
    "Dataset은 `한 번에 한 개씩 샘플`의 feature 와 label 을 retreive 합니다. 모델을 훈련하는 동안 일반적으로 `minibatch`로 샘플을 전달하고, 매 epoch 마다 데이터를 reshuffle 하여 overfitting을 줄이며, Python의 multiprocessing을 사용하여 읽는 속도를 높입니다.\n",
    "\n",
    "DataLoader는 쉬운 API로 이러한 복잡성 내용을 추상화한 반복자(iterable) 입니다."
   ]
  },
  {
   "cell_type": "code",
   "execution_count": 26,
   "metadata": {
    "id": "pmS1YqP1OhH-"
   },
   "outputs": [],
   "source": [
    "from torch.utils.data import DataLoader  # DataLoader 임포트\n",
    "\n",
    "# 학습 데이터 로더 생성\n",
    "train_dataloader = DataLoader(training_data, batch_size=64, shuffle=True)\n",
    "\n",
    "# 테스트 데이터 로더 생성\n",
    "test_dataloader = DataLoader(test_data, batch_size=64, shuffle=False)"
   ]
  },
  {
   "cell_type": "markdown",
   "metadata": {
    "id": "gLacMc-IOhH_"
   },
   "source": [
    "## DataLoader를 통해 반복\n",
    "해당 데이터 세트를 ``Dataloader``에 로드 했으며 반복할 수 있습니다. 아래의 각 반복은`` train_features`` 및 ``train_labels`` ( batch_size=64 의 feature 및 label) 의 배치를 반환합니다.  ``shuffle=True``를 지정했기 때문에 모든 배치를 반복한 후에 데이터가 섞입니다."
   ]
  },
  {
   "cell_type": "code",
   "execution_count": 27,
   "metadata": {
    "colab": {
     "base_uri": "https://localhost:8080/"
    },
    "id": "ohoqKrt0YxTS",
    "outputId": "c043c5ea-3a02-46ab-f703-a7f2a02afc83"
   },
   "outputs": [
    {
     "name": "stdout",
     "output_type": "stream",
     "text": [
      "Feature batch shape: torch.Size([64, 1, 20, 20])\n",
      "Labels batch shape: torch.Size([64])\n"
     ]
    }
   ],
   "source": [
    "# train_dataloader에서 첫 번째 배치를 가져오기\n",
    "train_features, train_labels = next(iter(train_dataloader))\n",
    "\n",
    "# 배치 데이터의 크기 출력\n",
    "print(f\"Feature batch shape: {train_features.size()}\")  # 입력 이미지 텐서 크기\n",
    "print(f\"Labels batch shape: {train_labels.size()}\")  # 레이블 텐서 크기"
   ]
  },
  {
   "cell_type": "code",
   "execution_count": 28,
   "metadata": {
    "colab": {
     "base_uri": "https://localhost:8080/",
     "height": 448
    },
    "id": "_I9hsav_OhH_",
    "outputId": "1b29e17a-91ae-4f4d-d73e-3f095e4324e0"
   },
   "outputs": [
    {
     "data": {
      "image/png": "[encoded data removed]",
      "text/plain": [
       "<Figure size 640x480 with 1 Axes>"
      ]
     },
     "metadata": {},
     "output_type": "display_data"
    },
    {
     "name": "stdout",
     "output_type": "stream",
     "text": [
      "Label: 7\n"
     ]
    }
   ],
   "source": [
    "# 첫 번째 이미지 가져오기 (채널 차원 제거)\n",
    "img = train_features[0].squeeze()\n",
    "\n",
    "# 첫 번째 이미지의 라벨 가져오기\n",
    "label = train_labels[0]\n",
    "\n",
    "# 이미지 시각화\n",
    "plt.imshow(img, cmap=\"gray\")  # 흑백 이미지로 출력\n",
    "plt.show()\n",
    "\n",
    "# 해당 이미지의 레이블 출력\n",
    "print(f\"Label: {label}\")"
   ]
  },
  {
   "cell_type": "markdown",
   "metadata": {
    "id": "12wfH6alOhH_"
   },
   "source": [
    "## TensorDataset\n",
    "- PyTorch의 TensorDataset은 tensor를 감싸는 Dataset입니다.\n",
    "- TensorDataset은 Dataset을 상속한 클래스로 학습 데이터 X와 레이블 Y를 묶어 놓는 컨테이너입니다.\n",
    "- TensorDataset을 DataLoader에 전달하면 for 루프에서 데이터의 일부분만 간단히 추출할 수 있게 됩니다.  \n",
    "- TensorDataset에는 텐서만 전달할 수 있으며, Variable은 전달할 수 없으니 주의\n",
    "- Dataset은 직접 작성할 수도 있어서 대량의 이미지 파일을 한 번에 메모리에 저장하지 않고 필요할 때마다 읽어서 학습하는 등 다양하게 활용 가능"
   ]
  },
  {
   "cell_type": "code",
   "execution_count": 29,
   "metadata": {
    "colab": {
     "base_uri": "https://localhost:8080/"
    },
    "id": "bkIG6wu3YxTT",
    "outputId": "4638722f-bb45-4fd9-80f3-7fb87fcda448"
   },
   "outputs": [
    {
     "name": "stdout",
     "output_type": "stream",
     "text": [
      "tensor([[-0.6537, -0.1277, -1.1101,  2.2363],\n",
      "        [-0.0493,  0.8572, -0.4567, -0.4977],\n",
      "        [-0.6265, -1.5822, -0.6064,  1.5870],\n",
      "        [-0.2560,  0.4009, -0.9057,  1.0966],\n",
      "        [ 0.4240, -1.5998, -0.6795, -0.2796]], dtype=torch.float64)\n",
      "tensor([0, 0, 0, 1, 0])\n"
     ]
    }
   ],
   "source": [
    "# 5x4 크기의 난수 행렬 생성 (정규 분포)\n",
    "x = np.random.randn(5, 4)\n",
    "\n",
    "# 0 또는 1 값을 가지는 정수 배열 생성 (크기 5)\n",
    "y = np.random.randint(0, 2, size=5)\n",
    "\n",
    "# NumPy 배열을 PyTorch 텐서로 변환\n",
    "X_train = torch.from_numpy(x)  # 입력 데이터 변환\n",
    "y_train = torch.from_numpy(y)  # 레이블 변환\n",
    "\n",
    "# 변환된 텐서 출력\n",
    "print(X_train)\n",
    "print(y_train)"
   ]
  },
  {
   "cell_type": "code",
   "execution_count": 31,
   "metadata": {
    "colab": {
     "base_uri": "https://localhost:8080/"
    },
    "id": "of3qe0vjOhIA",
    "outputId": "d021bfc4-95b9-4d08-cb76-f6d83f9fefea"
   },
   "outputs": [
    {
     "data": {
      "text/plain": [
       "<torch.utils.data.dataset.TensorDataset at 0x7adce936b3d0>"
      ]
     },
     "execution_count": 31,
     "metadata": {},
     "output_type": "execute_result"
    }
   ],
   "source": [
    "from torch.utils.data import TensorDataset\n",
    "\n",
    "# X_train(입력 데이터)와 y_train(레이블)을 하나의 데이터셋으로 묶기\n",
    "train_ds = TensorDataset(X_train, y_train)\n",
    "\n",
    "# 생성된 TensorDataset 출력\n",
    "train_ds"
   ]
  },
  {
   "cell_type": "code",
   "execution_count": 32,
   "metadata": {
    "colab": {
     "base_uri": "https://localhost:8080/"
    },
    "id": "RRPFS6ZIOhIA",
    "outputId": "fc8020e2-e27f-4fd1-d454-009cc7087106"
   },
   "outputs": [
    {
     "data": {
      "text/plain": [
       "<torch.utils.data.dataloader.DataLoader at 0x7adce938fa10>"
      ]
     },
     "execution_count": 32,
     "metadata": {},
     "output_type": "execute_result"
    }
   ],
   "source": [
    "# DataLoader 생성\n",
    "train_dataloader = DataLoader(train_ds, batch_size=2, shuffle=False)\n",
    "\n",
    "# 생성된 DataLoader 출력\n",
    "train_dataloader"
   ]
  },
  {
   "cell_type": "code",
   "execution_count": 33,
   "metadata": {
    "colab": {
     "base_uri": "https://localhost:8080/"
    },
    "id": "RKJLpcAFOhIB",
    "outputId": "5ca7131c-3b57-437b-de72-cc3dd2aca514"
   },
   "outputs": [
    {
     "data": {
      "text/plain": [
       "(tensor([[-0.6537, -0.1277, -1.1101,  2.2363],\n",
       "         [-0.0493,  0.8572, -0.4567, -0.4977]], dtype=torch.float64),\n",
       " tensor([0, 0]))"
      ]
     },
     "execution_count": 33,
     "metadata": {},
     "output_type": "execute_result"
    }
   ],
   "source": [
    "# DataLoader에서 첫 번째 배치 가져오기\n",
    "train_features, train_labels = next(iter(train_dataloader))\n",
    "\n",
    "# 배치 데이터 출력\n",
    "train_features, train_labels"
   ]
  },
  {
   "cell_type": "code",
   "execution_count": null,
   "metadata": {
    "id": "TDSXG7epOhIB"
   },
   "outputs": [],
   "source": []
  }
 ],
 "metadata": {
  "colab": {
   "provenance": []
  },
  "kernelspec": {
   "display_name": "Python 3 (ipykernel)",
   "language": "python",
   "name": "python3"
  },
  "language_info": {
   "codemirror_mode": {
    "name": "ipython",
    "version": 3
   },
   "file_extension": ".py",
   "mimetype": "text/x-python",
   "name": "python",
   "nbconvert_exporter": "python",
   "pygments_lexer": "ipython3",
   "version": "3.11.13"
  }
 },
 "nbformat": 4,
 "nbformat_minor": 4
}
