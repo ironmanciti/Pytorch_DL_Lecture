{
  "cells": [
    {
      "cell_type": "markdown",
      "id": "9a921b8e",
      "metadata": {
        "id": "9a921b8e"
      },
      "source": [
        "# 125. Malware Detection - binary classification"
      ]
    },
    {
      "cell_type": "code",
      "execution_count": null,
      "id": "61a8fe87",
      "metadata": {
        "colab": {
          "base_uri": "https://localhost:8080/"
        },
        "id": "61a8fe87",
        "outputId": "75a4440f-c73b-4c70-e3ef-023b05cca820"
      },
      "outputs": [
        {
          "output_type": "execute_result",
          "data": {
            "text/plain": [
              "device(type='cuda', index=0)"
            ]
          },
          "metadata": {},
          "execution_count": 1
        }
      ],
      "source": [
        "import pandas as pd\n",
        "import numpy as np\n",
        "from sklearn.model_selection import train_test_split\n",
        "from sklearn.preprocessing import StandardScaler\n",
        "import matplotlib.pyplot as plt\n",
        "\n",
        "import torch.nn as nn\n",
        "import torch\n",
        "import torch.optim as optim\n",
        "from torch.utils.data import Dataset, DataLoader\n",
        "\n",
        "device = torch.device(\"cuda:0\" if torch.cuda.is_available() else \"cpu\")\n",
        "device"
      ]
    },
    {
      "cell_type": "code",
      "execution_count": null,
      "id": "e3938f3f",
      "metadata": {
        "colab": {
          "base_uri": "https://localhost:8080/",
          "height": 255
        },
        "id": "e3938f3f",
        "outputId": "747e833d-4d82-42fb-af4a-042b364262f2"
      },
      "outputs": [
        {
          "output_type": "execute_result",
          "data": {
            "text/plain": [
              "                                               Name  \\\n",
              "65416   VirusShare_3ede9b62781398a2e39a0f6af9356a54   \n",
              "23220                                    fxsocm.dll   \n",
              "118017  VirusShare_abe7101746242c922a539ba461db4e38   \n",
              "69842   VirusShare_64a1247fc96d5bc2994ef89ca09adee8   \n",
              "22165                                  asferror.dll   \n",
              "\n",
              "                                     md5  Machine  SizeOfOptionalHeader  \\\n",
              "65416   3ede9b62781398a2e39a0f6af9356a54      332                   224   \n",
              "23220   9a0959a682d8eba06d0bd181c49ee2a8      332                   224   \n",
              "118017  abe7101746242c922a539ba461db4e38      332                   224   \n",
              "69842   64a1247fc96d5bc2994ef89ca09adee8      332                   224   \n",
              "22165   ebc23440aa9cc4f08241d35147c1d5b5      332                   224   \n",
              "\n",
              "        Characteristics  MajorLinkerVersion  MinorLinkerVersion  SizeOfCode  \\\n",
              "65416               258                  10                   0      117760   \n",
              "23220              8462                   7                  10      112640   \n",
              "118017              258                  10                   0      119808   \n",
              "69842               258                  10                   0      120320   \n",
              "22165              8462                   7                  10           0   \n",
              "\n",
              "        SizeOfInitializedData  SizeOfUninitializedData  ...  ResourcesNb  \\\n",
              "65416                  392192                        0  ...            5   \n",
              "23220                   29696                        0  ...            8   \n",
              "118017                 385024                        0  ...            6   \n",
              "69842                  385024                        0  ...            6   \n",
              "22165                    7168                        0  ...            2   \n",
              "\n",
              "        ResourcesMeanEntropy  ResourcesMinEntropy  ResourcesMaxEntropy  \\\n",
              "65416               3.425849             2.458492             4.035538   \n",
              "23220               3.911994             2.669737             5.335373   \n",
              "118017              3.776760             2.458492             5.317552   \n",
              "69842               3.756068             2.458492             5.317552   \n",
              "22165               3.488703             3.471506             3.505901   \n",
              "\n",
              "        ResourcesMeanSize  ResourcesMinSize  ResourcesMaxSize  \\\n",
              "65416         3146.400000                48              9640   \n",
              "23220         1222.750000               164              4889   \n",
              "118017        2740.166667                48              9640   \n",
              "69842         2739.500000                48              9640   \n",
              "22165         3050.000000               888              5212   \n",
              "\n",
              "        LoadConfigurationSize  VersionInformationSize  legitimate  \n",
              "65416                      72                      15           0  \n",
              "23220                      72                      16           1  \n",
              "118017                     72                      15           0  \n",
              "69842                      72                      15           0  \n",
              "22165                       0                      16           1  \n",
              "\n",
              "[5 rows x 57 columns]"
            ],
            "text/html": [
              "\n",
              "  <div id=\"df-d38ec764-4a2d-488d-8976-4b5005b51f7f\" class=\"colab-df-container\">\n",
              "    <div>\n",
              "<style scoped>\n",
              "    .dataframe tbody tr th:only-of-type {\n",
              "        vertical-align: middle;\n",
              "    }\n",
              "\n",
              "    .dataframe tbody tr th {\n",
              "        vertical-align: top;\n",
              "    }\n",
              "\n",
              "    .dataframe thead th {\n",
              "        text-align: right;\n",
              "    }\n",
              "</style>\n",
              "<table border=\"1\" class=\"dataframe\">\n",
              "  <thead>\n",
              "    <tr style=\"text-align: right;\">\n",
              "      <th></th>\n",
              "      <th>Name</th>\n",
              "      <th>md5</th>\n",
              "      <th>Machine</th>\n",
              "      <th>SizeOfOptionalHeader</th>\n",
              "      <th>Characteristics</th>\n",
              "      <th>MajorLinkerVersion</th>\n",
              "      <th>MinorLinkerVersion</th>\n",
              "      <th>SizeOfCode</th>\n",
              "      <th>SizeOfInitializedData</th>\n",
              "      <th>SizeOfUninitializedData</th>\n",
              "      <th>...</th>\n",
              "      <th>ResourcesNb</th>\n",
              "      <th>ResourcesMeanEntropy</th>\n",
              "      <th>ResourcesMinEntropy</th>\n",
              "      <th>ResourcesMaxEntropy</th>\n",
              "      <th>ResourcesMeanSize</th>\n",
              "      <th>ResourcesMinSize</th>\n",
              "      <th>ResourcesMaxSize</th>\n",
              "      <th>LoadConfigurationSize</th>\n",
              "      <th>VersionInformationSize</th>\n",
              "      <th>legitimate</th>\n",
              "    </tr>\n",
              "  </thead>\n",
              "  <tbody>\n",
              "    <tr>\n",
              "      <th>65416</th>\n",
              "      <td>VirusShare_3ede9b62781398a2e39a0f6af9356a54</td>\n",
              "      <td>3ede9b62781398a2e39a0f6af9356a54</td>\n",
              "      <td>332</td>\n",
              "      <td>224</td>\n",
              "      <td>258</td>\n",
              "      <td>10</td>\n",
              "      <td>0</td>\n",
              "      <td>117760</td>\n",
              "      <td>392192</td>\n",
              "      <td>0</td>\n",
              "      <td>...</td>\n",
              "      <td>5</td>\n",
              "      <td>3.425849</td>\n",
              "      <td>2.458492</td>\n",
              "      <td>4.035538</td>\n",
              "      <td>3146.400000</td>\n",
              "      <td>48</td>\n",
              "      <td>9640</td>\n",
              "      <td>72</td>\n",
              "      <td>15</td>\n",
              "      <td>0</td>\n",
              "    </tr>\n",
              "    <tr>\n",
              "      <th>23220</th>\n",
              "      <td>fxsocm.dll</td>\n",
              "      <td>9a0959a682d8eba06d0bd181c49ee2a8</td>\n",
              "      <td>332</td>\n",
              "      <td>224</td>\n",
              "      <td>8462</td>\n",
              "      <td>7</td>\n",
              "      <td>10</td>\n",
              "      <td>112640</td>\n",
              "      <td>29696</td>\n",
              "      <td>0</td>\n",
              "      <td>...</td>\n",
              "      <td>8</td>\n",
              "      <td>3.911994</td>\n",
              "      <td>2.669737</td>\n",
              "      <td>5.335373</td>\n",
              "      <td>1222.750000</td>\n",
              "      <td>164</td>\n",
              "      <td>4889</td>\n",
              "      <td>72</td>\n",
              "      <td>16</td>\n",
              "      <td>1</td>\n",
              "    </tr>\n",
              "    <tr>\n",
              "      <th>118017</th>\n",
              "      <td>VirusShare_abe7101746242c922a539ba461db4e38</td>\n",
              "      <td>abe7101746242c922a539ba461db4e38</td>\n",
              "      <td>332</td>\n",
              "      <td>224</td>\n",
              "      <td>258</td>\n",
              "      <td>10</td>\n",
              "      <td>0</td>\n",
              "      <td>119808</td>\n",
              "      <td>385024</td>\n",
              "      <td>0</td>\n",
              "      <td>...</td>\n",
              "      <td>6</td>\n",
              "      <td>3.776760</td>\n",
              "      <td>2.458492</td>\n",
              "      <td>5.317552</td>\n",
              "      <td>2740.166667</td>\n",
              "      <td>48</td>\n",
              "      <td>9640</td>\n",
              "      <td>72</td>\n",
              "      <td>15</td>\n",
              "      <td>0</td>\n",
              "    </tr>\n",
              "    <tr>\n",
              "      <th>69842</th>\n",
              "      <td>VirusShare_64a1247fc96d5bc2994ef89ca09adee8</td>\n",
              "      <td>64a1247fc96d5bc2994ef89ca09adee8</td>\n",
              "      <td>332</td>\n",
              "      <td>224</td>\n",
              "      <td>258</td>\n",
              "      <td>10</td>\n",
              "      <td>0</td>\n",
              "      <td>120320</td>\n",
              "      <td>385024</td>\n",
              "      <td>0</td>\n",
              "      <td>...</td>\n",
              "      <td>6</td>\n",
              "      <td>3.756068</td>\n",
              "      <td>2.458492</td>\n",
              "      <td>5.317552</td>\n",
              "      <td>2739.500000</td>\n",
              "      <td>48</td>\n",
              "      <td>9640</td>\n",
              "      <td>72</td>\n",
              "      <td>15</td>\n",
              "      <td>0</td>\n",
              "    </tr>\n",
              "    <tr>\n",
              "      <th>22165</th>\n",
              "      <td>asferror.dll</td>\n",
              "      <td>ebc23440aa9cc4f08241d35147c1d5b5</td>\n",
              "      <td>332</td>\n",
              "      <td>224</td>\n",
              "      <td>8462</td>\n",
              "      <td>7</td>\n",
              "      <td>10</td>\n",
              "      <td>0</td>\n",
              "      <td>7168</td>\n",
              "      <td>0</td>\n",
              "      <td>...</td>\n",
              "      <td>2</td>\n",
              "      <td>3.488703</td>\n",
              "      <td>3.471506</td>\n",
              "      <td>3.505901</td>\n",
              "      <td>3050.000000</td>\n",
              "      <td>888</td>\n",
              "      <td>5212</td>\n",
              "      <td>0</td>\n",
              "      <td>16</td>\n",
              "      <td>1</td>\n",
              "    </tr>\n",
              "  </tbody>\n",
              "</table>\n",
              "<p>5 rows × 57 columns</p>\n",
              "</div>\n",
              "    <div class=\"colab-df-buttons\">\n",
              "\n",
              "  <div class=\"colab-df-container\">\n",
              "    <button class=\"colab-df-convert\" onclick=\"convertToInteractive('df-d38ec764-4a2d-488d-8976-4b5005b51f7f')\"\n",
              "            title=\"Convert this dataframe to an interactive table.\"\n",
              "            style=\"display:none;\">\n",
              "\n",
              "  <svg xmlns=\"http://www.w3.org/2000/svg\" height=\"24px\" viewBox=\"0 -960 960 960\">\n",
              "    <path d=\"M120-120v-720h720v720H120Zm60-500h600v-160H180v160Zm220 220h160v-160H400v160Zm0 220h160v-160H400v160ZM180-400h160v-160H180v160Zm440 0h160v-160H620v160ZM180-180h160v-160H180v160Zm440 0h160v-160H620v160Z\"/>\n",
              "  </svg>\n",
              "    </button>\n",
              "\n",
              "  <style>\n",
              "    .colab-df-container {\n",
              "      display:flex;\n",
              "      gap: 12px;\n",
              "    }\n",
              "\n",
              "    .colab-df-convert {\n",
              "      background-color: #E8F0FE;\n",
              "      border: none;\n",
              "      border-radius: 50%;\n",
              "      cursor: pointer;\n",
              "      display: none;\n",
              "      fill: #1967D2;\n",
              "      height: 32px;\n",
              "      padding: 0 0 0 0;\n",
              "      width: 32px;\n",
              "    }\n",
              "\n",
              "    .colab-df-convert:hover {\n",
              "      background-color: #E2EBFA;\n",
              "      box-shadow: 0px 1px 2px rgba(60, 64, 67, 0.3), 0px 1px 3px 1px rgba(60, 64, 67, 0.15);\n",
              "      fill: #174EA6;\n",
              "    }\n",
              "\n",
              "    .colab-df-buttons div {\n",
              "      margin-bottom: 4px;\n",
              "    }\n",
              "\n",
              "    [theme=dark] .colab-df-convert {\n",
              "      background-color: #3B4455;\n",
              "      fill: #D2E3FC;\n",
              "    }\n",
              "\n",
              "    [theme=dark] .colab-df-convert:hover {\n",
              "      background-color: #434B5C;\n",
              "      box-shadow: 0px 1px 3px 1px rgba(0, 0, 0, 0.15);\n",
              "      filter: drop-shadow(0px 1px 2px rgba(0, 0, 0, 0.3));\n",
              "      fill: #FFFFFF;\n",
              "    }\n",
              "  </style>\n",
              "\n",
              "    <script>\n",
              "      const buttonEl =\n",
              "        document.querySelector('#df-d38ec764-4a2d-488d-8976-4b5005b51f7f button.colab-df-convert');\n",
              "      buttonEl.style.display =\n",
              "        google.colab.kernel.accessAllowed ? 'block' : 'none';\n",
              "\n",
              "      async function convertToInteractive(key) {\n",
              "        const element = document.querySelector('#df-d38ec764-4a2d-488d-8976-4b5005b51f7f');\n",
              "        const dataTable =\n",
              "          await google.colab.kernel.invokeFunction('convertToInteractive',\n",
              "                                                    [key], {});\n",
              "        if (!dataTable) return;\n",
              "\n",
              "        const docLinkHtml = 'Like what you see? Visit the ' +\n",
              "          '<a target=\"_blank\" href=https://colab.research.google.com/notebooks/data_table.ipynb>data table notebook</a>'\n",
              "          + ' to learn more about interactive tables.';\n",
              "        element.innerHTML = '';\n",
              "        dataTable['output_type'] = 'display_data';\n",
              "        await google.colab.output.renderOutput(dataTable, element);\n",
              "        const docLink = document.createElement('div');\n",
              "        docLink.innerHTML = docLinkHtml;\n",
              "        element.appendChild(docLink);\n",
              "      }\n",
              "    </script>\n",
              "  </div>\n",
              "\n",
              "\n",
              "<div id=\"df-e1627030-fe46-421f-9f54-1e57974178ad\">\n",
              "  <button class=\"colab-df-quickchart\" onclick=\"quickchart('df-e1627030-fe46-421f-9f54-1e57974178ad')\"\n",
              "            title=\"Suggest charts\"\n",
              "            style=\"display:none;\">\n",
              "\n",
              "<svg xmlns=\"http://www.w3.org/2000/svg\" height=\"24px\"viewBox=\"0 0 24 24\"\n",
              "     width=\"24px\">\n",
              "    <g>\n",
              "        <path d=\"M19 3H5c-1.1 0-2 .9-2 2v14c0 1.1.9 2 2 2h14c1.1 0 2-.9 2-2V5c0-1.1-.9-2-2-2zM9 17H7v-7h2v7zm4 0h-2V7h2v10zm4 0h-2v-4h2v4z\"/>\n",
              "    </g>\n",
              "</svg>\n",
              "  </button>\n",
              "\n",
              "<style>\n",
              "  .colab-df-quickchart {\n",
              "      --bg-color: #E8F0FE;\n",
              "      --fill-color: #1967D2;\n",
              "      --hover-bg-color: #E2EBFA;\n",
              "      --hover-fill-color: #174EA6;\n",
              "      --disabled-fill-color: #AAA;\n",
              "      --disabled-bg-color: #DDD;\n",
              "  }\n",
              "\n",
              "  [theme=dark] .colab-df-quickchart {\n",
              "      --bg-color: #3B4455;\n",
              "      --fill-color: #D2E3FC;\n",
              "      --hover-bg-color: #434B5C;\n",
              "      --hover-fill-color: #FFFFFF;\n",
              "      --disabled-bg-color: #3B4455;\n",
              "      --disabled-fill-color: #666;\n",
              "  }\n",
              "\n",
              "  .colab-df-quickchart {\n",
              "    background-color: var(--bg-color);\n",
              "    border: none;\n",
              "    border-radius: 50%;\n",
              "    cursor: pointer;\n",
              "    display: none;\n",
              "    fill: var(--fill-color);\n",
              "    height: 32px;\n",
              "    padding: 0;\n",
              "    width: 32px;\n",
              "  }\n",
              "\n",
              "  .colab-df-quickchart:hover {\n",
              "    background-color: var(--hover-bg-color);\n",
              "    box-shadow: 0 1px 2px rgba(60, 64, 67, 0.3), 0 1px 3px 1px rgba(60, 64, 67, 0.15);\n",
              "    fill: var(--button-hover-fill-color);\n",
              "  }\n",
              "\n",
              "  .colab-df-quickchart-complete:disabled,\n",
              "  .colab-df-quickchart-complete:disabled:hover {\n",
              "    background-color: var(--disabled-bg-color);\n",
              "    fill: var(--disabled-fill-color);\n",
              "    box-shadow: none;\n",
              "  }\n",
              "\n",
              "  .colab-df-spinner {\n",
              "    border: 2px solid var(--fill-color);\n",
              "    border-color: transparent;\n",
              "    border-bottom-color: var(--fill-color);\n",
              "    animation:\n",
              "      spin 1s steps(1) infinite;\n",
              "  }\n",
              "\n",
              "  @keyframes spin {\n",
              "    0% {\n",
              "      border-color: transparent;\n",
              "      border-bottom-color: var(--fill-color);\n",
              "      border-left-color: var(--fill-color);\n",
              "    }\n",
              "    20% {\n",
              "      border-color: transparent;\n",
              "      border-left-color: var(--fill-color);\n",
              "      border-top-color: var(--fill-color);\n",
              "    }\n",
              "    30% {\n",
              "      border-color: transparent;\n",
              "      border-left-color: var(--fill-color);\n",
              "      border-top-color: var(--fill-color);\n",
              "      border-right-color: var(--fill-color);\n",
              "    }\n",
              "    40% {\n",
              "      border-color: transparent;\n",
              "      border-right-color: var(--fill-color);\n",
              "      border-top-color: var(--fill-color);\n",
              "    }\n",
              "    60% {\n",
              "      border-color: transparent;\n",
              "      border-right-color: var(--fill-color);\n",
              "    }\n",
              "    80% {\n",
              "      border-color: transparent;\n",
              "      border-right-color: var(--fill-color);\n",
              "      border-bottom-color: var(--fill-color);\n",
              "    }\n",
              "    90% {\n",
              "      border-color: transparent;\n",
              "      border-bottom-color: var(--fill-color);\n",
              "    }\n",
              "  }\n",
              "</style>\n",
              "\n",
              "  <script>\n",
              "    async function quickchart(key) {\n",
              "      const quickchartButtonEl =\n",
              "        document.querySelector('#' + key + ' button');\n",
              "      quickchartButtonEl.disabled = true;  // To prevent multiple clicks.\n",
              "      quickchartButtonEl.classList.add('colab-df-spinner');\n",
              "      try {\n",
              "        const charts = await google.colab.kernel.invokeFunction(\n",
              "            'suggestCharts', [key], {});\n",
              "      } catch (error) {\n",
              "        console.error('Error during call to suggestCharts:', error);\n",
              "      }\n",
              "      quickchartButtonEl.classList.remove('colab-df-spinner');\n",
              "      quickchartButtonEl.classList.add('colab-df-quickchart-complete');\n",
              "    }\n",
              "    (() => {\n",
              "      let quickchartButtonEl =\n",
              "        document.querySelector('#df-e1627030-fe46-421f-9f54-1e57974178ad button');\n",
              "      quickchartButtonEl.style.display =\n",
              "        google.colab.kernel.accessAllowed ? 'block' : 'none';\n",
              "    })();\n",
              "  </script>\n",
              "</div>\n",
              "\n",
              "    </div>\n",
              "  </div>\n"
            ],
            "application/vnd.google.colaboratory.intrinsic+json": {
              "type": "dataframe",
              "variable_name": "df"
            }
          },
          "metadata": {},
          "execution_count": 3
        }
      ],
      "source": [
        "# 'malware.csv' 파일을 읽어와 데이터프레임(df)로 저장\n",
        "# index_col=0 : 첫 번째 열을 데이터프레임의 인덱스로 설정\n",
        "df = pd.read_csv('malware.csv', index_col=0)\n",
        "\n",
        "df.head()"
      ]
    },
    {
      "cell_type": "code",
      "execution_count": null,
      "id": "ddcd3f55",
      "metadata": {
        "colab": {
          "base_uri": "https://localhost:8080/"
        },
        "id": "ddcd3f55",
        "outputId": "e1d7aab3-f15f-4f9b-d31e-5554a56f81a0"
      },
      "outputs": [
        {
          "output_type": "execute_result",
          "data": {
            "text/plain": [
              "(10000, 57)"
            ]
          },
          "metadata": {},
          "execution_count": 4
        }
      ],
      "source": [
        "df.shape"
      ]
    },
    {
      "cell_type": "code",
      "execution_count": null,
      "id": "51deb212",
      "metadata": {
        "colab": {
          "base_uri": "https://localhost:8080/",
          "height": 178
        },
        "id": "51deb212",
        "outputId": "d4ec0145-c347-45cc-9dde-d7d2e420287b"
      },
      "outputs": [
        {
          "output_type": "execute_result",
          "data": {
            "text/plain": [
              "legitimate\n",
              "0    7071\n",
              "1    2929\n",
              "Name: count, dtype: int64"
            ],
            "text/html": [
              "<div>\n",
              "<style scoped>\n",
              "    .dataframe tbody tr th:only-of-type {\n",
              "        vertical-align: middle;\n",
              "    }\n",
              "\n",
              "    .dataframe tbody tr th {\n",
              "        vertical-align: top;\n",
              "    }\n",
              "\n",
              "    .dataframe thead th {\n",
              "        text-align: right;\n",
              "    }\n",
              "</style>\n",
              "<table border=\"1\" class=\"dataframe\">\n",
              "  <thead>\n",
              "    <tr style=\"text-align: right;\">\n",
              "      <th></th>\n",
              "      <th>count</th>\n",
              "    </tr>\n",
              "    <tr>\n",
              "      <th>legitimate</th>\n",
              "      <th></th>\n",
              "    </tr>\n",
              "  </thead>\n",
              "  <tbody>\n",
              "    <tr>\n",
              "      <th>0</th>\n",
              "      <td>7071</td>\n",
              "    </tr>\n",
              "    <tr>\n",
              "      <th>1</th>\n",
              "      <td>2929</td>\n",
              "    </tr>\n",
              "  </tbody>\n",
              "</table>\n",
              "</div><br><label><b>dtype:</b> int64</label>"
            ]
          },
          "metadata": {},
          "execution_count": 5
        }
      ],
      "source": [
        "# 'legitimate' 열의 각 값이 몇 번 등장하는지 계산하여 출력\n",
        "df['legitimate'].value_counts()"
      ]
    },
    {
      "cell_type": "code",
      "execution_count": null,
      "id": "b5a427c1",
      "metadata": {
        "colab": {
          "base_uri": "https://localhost:8080/"
        },
        "id": "b5a427c1",
        "outputId": "d5b64788-1981-47b1-ae13-33f98ea4b3a0"
      },
      "outputs": [
        {
          "output_type": "execute_result",
          "data": {
            "text/plain": [
              "Index(['Name', 'md5', 'Machine', 'SizeOfOptionalHeader', 'Characteristics',\n",
              "       'MajorLinkerVersion', 'MinorLinkerVersion', 'SizeOfCode',\n",
              "       'SizeOfInitializedData', 'SizeOfUninitializedData',\n",
              "       'AddressOfEntryPoint', 'BaseOfCode', 'BaseOfData', 'ImageBase',\n",
              "       'SectionAlignment', 'FileAlignment', 'MajorOperatingSystemVersion',\n",
              "       'MinorOperatingSystemVersion', 'MajorImageVersion', 'MinorImageVersion',\n",
              "       'MajorSubsystemVersion', 'MinorSubsystemVersion', 'SizeOfImage',\n",
              "       'SizeOfHeaders', 'CheckSum', 'Subsystem', 'DllCharacteristics',\n",
              "       'SizeOfStackReserve', 'SizeOfStackCommit', 'SizeOfHeapReserve',\n",
              "       'SizeOfHeapCommit', 'LoaderFlags', 'NumberOfRvaAndSizes', 'SectionsNb',\n",
              "       'SectionsMeanEntropy', 'SectionsMinEntropy', 'SectionsMaxEntropy',\n",
              "       'SectionsMeanRawsize', 'SectionsMinRawsize', 'SectionMaxRawsize',\n",
              "       'SectionsMeanVirtualsize', 'SectionsMinVirtualsize',\n",
              "       'SectionMaxVirtualsize', 'ImportsNbDLL', 'ImportsNb',\n",
              "       'ImportsNbOrdinal', 'ExportNb', 'ResourcesNb', 'ResourcesMeanEntropy',\n",
              "       'ResourcesMinEntropy', 'ResourcesMaxEntropy', 'ResourcesMeanSize',\n",
              "       'ResourcesMinSize', 'ResourcesMaxSize', 'LoadConfigurationSize',\n",
              "       'VersionInformationSize', 'legitimate'],\n",
              "      dtype='object')"
            ]
          },
          "metadata": {},
          "execution_count": 6
        }
      ],
      "source": [
        "df.columns"
      ]
    },
    {
      "cell_type": "markdown",
      "id": "5e7dd662",
      "metadata": {
        "id": "5e7dd662"
      },
      "source": [
        "- Name : 제외\n",
        "- md5 : hash value 제외"
      ]
    },
    {
      "cell_type": "code",
      "execution_count": null,
      "id": "cf535fde",
      "metadata": {
        "colab": {
          "base_uri": "https://localhost:8080/"
        },
        "id": "cf535fde",
        "outputId": "5be3c876-dfcc-48c4-bbb1-dce6912ab74e"
      },
      "outputs": [
        {
          "output_type": "execute_result",
          "data": {
            "text/plain": [
              "(10000, 55)"
            ]
          },
          "metadata": {},
          "execution_count": 7
        }
      ],
      "source": [
        "# 데이터프레임에서 모든 행을 유지하고, 두 번째 열(index=1)까지 제외한 나머지 열만 선택하여 새로운 데이터프레임 생성\n",
        "df = df.iloc[:, 2:]\n",
        "\n",
        "# 데이터프레임의 차원(행 개수, 열 개수)을 출력\n",
        "df.shape"
      ]
    },
    {
      "cell_type": "code",
      "execution_count": null,
      "id": "62b5258d",
      "metadata": {
        "id": "62b5258d"
      },
      "outputs": [],
      "source": [
        "# 'legitimate' 열을 데이터프레임에서 제거(pop)하고, 해당 열의 값을 y에 저장\n",
        "y = df.pop('legitimate').values\n",
        "\n",
        "# 데이터프레임의 나머지 값들을 X에 저장 (입력 데이터)\n",
        "X = df.values"
      ]
    },
    {
      "cell_type": "markdown",
      "id": "ab6faa3f",
      "metadata": {
        "id": "ab6faa3f"
      },
      "source": [
        "- Train, Test split"
      ]
    },
    {
      "cell_type": "code",
      "execution_count": null,
      "id": "aa731d35",
      "metadata": {
        "colab": {
          "base_uri": "https://localhost:8080/"
        },
        "id": "aa731d35",
        "outputId": "59c10f9a-49ac-467b-a07e-8793e784d87e"
      },
      "outputs": [
        {
          "output_type": "execute_result",
          "data": {
            "text/plain": [
              "((8000, 54), (2000, 54), (8000,), (2000,))"
            ]
          },
          "metadata": {},
          "execution_count": 9
        }
      ],
      "source": [
        "# 데이터를 학습용(train)과 테스트용(test)으로 분할\n",
        "# test_size=0.2 : 전체 데이터의 20%를 테스트 세트로 사용\n",
        "# random_state=0 : 실행할 때마다 동일한 방식으로 데이터를 나누도록 설정 (재현성 확보)\n",
        "X_train, X_test, y_train, y_test = train_test_split(X, y, test_size=0.2, random_state=0)\n",
        "\n",
        "# 학습 및 테스트 데이터의 크기 출력 (각 데이터셋의 (행 개수, 열 개수))\n",
        "X_train.shape, X_test.shape, y_train.shape, y_test.shape"
      ]
    },
    {
      "cell_type": "code",
      "execution_count": null,
      "id": "fee21d08",
      "metadata": {
        "id": "fee21d08"
      },
      "outputs": [],
      "source": [
        "# StandardScaler 객체 생성 (데이터 표준화를 위한 스케일러)\n",
        "sc = StandardScaler()\n",
        "\n",
        "# 학습 데이터(X_train)에 대해 평균을 0, 표준편차를 1로 변환 (표준화 적용)\n",
        "X_train = sc.fit_transform(X_train)\n",
        "\n",
        "# 테스트 데이터(X_test)에도 동일한 변환을 적용 (학습 데이터의 기준을 사용하여 변환)\n",
        "X_test  = sc.transform(X_test)"
      ]
    },
    {
      "cell_type": "code",
      "execution_count": null,
      "id": "55e37b1d",
      "metadata": {
        "id": "55e37b1d"
      },
      "outputs": [],
      "source": [
        "# NumPy 배열(X_train)을 PyTorch 텐서로 변환 (데이터 타입: float32)\n",
        "X_train_ts = torch.tensor(X_train, dtype=torch.float32)\n",
        "X_test_ts = torch.tensor(X_test, dtype=torch.float32)\n",
        "\n",
        "# NumPy 배열(y_train)을 PyTorch 텐서로 변환 (데이터 타입: float32)\n",
        "# .view(-1, 1) : 1D 텐서를 2D 형태(열 벡터)로 변환하여 사용\n",
        "y_train_ts = torch.tensor(y_train, dtype=torch.float32).view(-1, 1)\n",
        "y_test_ts = torch.tensor(y_test, dtype=torch.float32).view(-1, 1)"
      ]
    },
    {
      "cell_type": "markdown",
      "id": "37971f5f",
      "metadata": {
        "id": "37971f5f"
      },
      "source": [
        "## ``nn.Module``을 이용한 사용자 정의 Logistic Regression model 정의"
      ]
    },
    {
      "cell_type": "code",
      "execution_count": null,
      "id": "e56a56e9",
      "metadata": {
        "id": "e56a56e9"
      },
      "outputs": [],
      "source": [
        "# nn.Module을 상속받아 사용자 정의 로지스틱 회귀 모델 클래스를 정의\n",
        "class LogisticReg(nn.Module):\n",
        "    def __init__(self, in_dim):\n",
        "        super(LogisticReg, self).__init__()\n",
        "        # 첫 번째 선형 레이어를 정의합니다. 입력 차원은 in_dim, 출력 차원은 32입니다.\n",
        "        self.linear1 = nn.Linear(in_dim, 32)\n",
        "        # 두 번째 선형 레이어를 정의합니다. 입력 차원은 32, 출력 차원은 1입니다.\n",
        "        self.linear2 = nn.Linear(32, 1)\n",
        "        # ReLU 활성화 함수를 정의합니다.\n",
        "        self.relu = nn.ReLU()\n",
        "        # 시그모이드 활성화 함수를 정의합니다.\n",
        "        self.sigmoid = nn.Sigmoid()\n",
        "\n",
        "    def forward(self, x):\n",
        "        # 첫 번째 선형 레이어를 통과시킨 후, ReLU 활성화 함수를 적용합니다.\n",
        "        x = self.relu(self.linear1(x))\n",
        "        # 그 다음, 두 번째 선형 레이어를 통과시킨 후, 시그모이드 활성화 함수를 적용합니다.\n",
        "        out = self.sigmoid(self.linear2(x))\n",
        "        return out"
      ]
    },
    {
      "cell_type": "code",
      "execution_count": null,
      "id": "e39828a9",
      "metadata": {
        "colab": {
          "base_uri": "https://localhost:8080/"
        },
        "id": "e39828a9",
        "outputId": "3d6b09ba-985e-4002-ef16-446296b75d52"
      },
      "outputs": [
        {
          "output_type": "stream",
          "name": "stdout",
          "text": [
            "LogisticReg(\n",
            "  (linear1): Linear(in_features=54, out_features=32, bias=True)\n",
            "  (linear2): Linear(in_features=32, out_features=1, bias=True)\n",
            "  (relu): ReLU()\n",
            "  (sigmoid): Sigmoid()\n",
            ")\n"
          ]
        }
      ],
      "source": [
        "# LogisticReg 클래스(모델)를 생성할 때, 입력 특성 개수를 X_train.shape[1]로 설정하여 초기화\n",
        "model = LogisticReg(X_train.shape[1]).to(device)\n",
        "\n",
        "# 모델의 구조와 초기화된 파라미터 출력\n",
        "print(model)"
      ]
    },
    {
      "cell_type": "code",
      "execution_count": null,
      "id": "2bb96021",
      "metadata": {
        "id": "2bb96021"
      },
      "outputs": [],
      "source": [
        "# 손실 함수(loss function)로 이진 교차 엔트로피(Binary Cross Entropy) 사용\n",
        "criterion = nn.BCELoss()\n",
        "\n",
        "# Adam 옵티마이저(최적화 함수) 설정\n",
        "# model.parameters(): 모델의 학습 가능한 파라미터 전달\n",
        "# lr=0.001 : 학습률(learning rate) 설정\n",
        "optimizer = optim.Adam(model.parameters(), lr=0.001)"
      ]
    },
    {
      "cell_type": "markdown",
      "id": "8fb5448b",
      "metadata": {
        "id": "8fb5448b"
      },
      "source": [
        "### dataset loader 생성"
      ]
    },
    {
      "cell_type": "code",
      "execution_count": null,
      "id": "8dd22b06",
      "metadata": {
        "id": "8dd22b06"
      },
      "outputs": [],
      "source": [
        "# torch.utils.data.TensorDataset을 사용하여 학습 데이터셋을 생성\n",
        "train_ds = torch.utils.data.TensorDataset(X_train_ts, y_train_ts)\n",
        "\n",
        "# 학습 데이터셋을 DataLoader에 전달하여 학습 데이터 로더를 생성\n",
        "train_loader = torch.utils.data.DataLoader(train_ds, batch_size=512, shuffle=True)"
      ]
    },
    {
      "cell_type": "markdown",
      "id": "f414f774",
      "metadata": {
        "id": "f414f774"
      },
      "source": [
        "# 생성한 Neural Network Model Train"
      ]
    },
    {
      "cell_type": "code",
      "execution_count": null,
      "id": "c53b56ce",
      "metadata": {
        "colab": {
          "base_uri": "https://localhost:8080/"
        },
        "id": "c53b56ce",
        "outputId": "2d9163a6-fb87-4675-8e65-9c6c6862835f",
        "scrolled": true
      },
      "outputs": [
        {
          "output_type": "stream",
          "name": "stdout",
          "text": [
            "epoch 1 loss: 0.5550\n",
            "epoch 2 loss: 0.4562\n",
            "epoch 3 loss: 0.3568\n",
            "epoch 4 loss: 0.2876\n",
            "epoch 5 loss: 0.2296\n",
            "epoch 6 loss: 0.1731\n",
            "epoch 7 loss: 0.1309\n",
            "epoch 8 loss: 0.1174\n",
            "epoch 9 loss: 0.1141\n",
            "epoch 10 loss: 0.0975\n",
            "epoch 11 loss: 0.0784\n",
            "epoch 12 loss: 0.1086\n",
            "epoch 13 loss: 0.0608\n",
            "epoch 14 loss: 0.0528\n",
            "epoch 15 loss: 0.0724\n",
            "epoch 16 loss: 0.0561\n",
            "epoch 17 loss: 0.0938\n",
            "epoch 18 loss: 0.0701\n",
            "epoch 19 loss: 0.0441\n",
            "epoch 20 loss: 0.0358\n",
            "epoch 21 loss: 0.0717\n",
            "epoch 22 loss: 0.0588\n",
            "epoch 23 loss: 0.0595\n",
            "epoch 24 loss: 0.0322\n",
            "epoch 25 loss: 0.0410\n",
            "epoch 26 loss: 0.0669\n",
            "epoch 27 loss: 0.0520\n",
            "epoch 28 loss: 0.0801\n",
            "epoch 29 loss: 0.0420\n",
            "epoch 30 loss: 0.0644\n",
            "epoch 31 loss: 0.0436\n",
            "epoch 32 loss: 0.0711\n",
            "epoch 33 loss: 0.0416\n",
            "epoch 34 loss: 0.0516\n",
            "epoch 35 loss: 0.0522\n",
            "epoch 36 loss: 0.0556\n",
            "epoch 37 loss: 0.0463\n",
            "epoch 38 loss: 0.0439\n",
            "epoch 39 loss: 0.0431\n",
            "epoch 40 loss: 0.0183\n",
            "epoch 41 loss: 0.0466\n",
            "epoch 42 loss: 0.0430\n",
            "epoch 43 loss: 0.0400\n",
            "epoch 44 loss: 0.0432\n",
            "epoch 45 loss: 0.0534\n",
            "epoch 46 loss: 0.0206\n",
            "epoch 47 loss: 0.0224\n",
            "epoch 48 loss: 0.0224\n",
            "epoch 49 loss: 0.0487\n",
            "epoch 50 loss: 0.0400\n"
          ]
        }
      ],
      "source": [
        "# 손실값을 저장할 리스트 초기화\n",
        "Loss = []\n",
        "\n",
        "num_epochs = 50\n",
        "\n",
        "for epoch in range(num_epochs):\n",
        "    for x, y in train_loader:\n",
        "        x, y = x.to(device), y.to(device)\n",
        "        # 모델에 입력 데이터를 전달하여 예측값 계산\n",
        "        yhat = model(x)\n",
        "        # 예측값과 실제 레이블 사이의 손실 계산\n",
        "        loss = criterion(yhat, y)\n",
        "\n",
        "        # 옵티마이저의 기울기 초기화\n",
        "        optimizer.zero_grad()\n",
        "        # 손실에 대한 역전파 수행 및 기울기 계산\n",
        "        loss.backward()\n",
        "        # 계산된 기울기를 사용하여 모델의 파라미터 업데이트\n",
        "        optimizer.step()\n",
        "\n",
        "    # 현재 에포크의 손실값 출력\n",
        "    print(\"epoch {} loss: {:.4f}\".format(epoch + 1, loss.item()))\n",
        "    # 손실값을 Loss 리스트에 추가\n",
        "    Loss.append(loss.item())"
      ]
    },
    {
      "cell_type": "code",
      "execution_count": null,
      "id": "8a2bd274",
      "metadata": {
        "colab": {
          "base_uri": "https://localhost:8080/",
          "height": 448
        },
        "id": "8a2bd274",
        "outputId": "a91a830d-5bae-466e-9ee5-536a7d6defe8"
      },
      "outputs": [
        {
          "output_type": "execute_result",
          "data": {
            "text/plain": [
              "[<matplotlib.lines.Line2D at 0x7cf6feac5f90>]"
            ]
          },
          "metadata": {},
          "execution_count": 17
        },
        {
          "output_type": "display_data",
          "data": {
            "text/plain": [
              "<Figure size 640x480 with 1 Axes>"
            ],
            "image/png": "[encoded data removed]"
          },
          "metadata": {}
        }
      ],
      "source": [
        "# 학습 과정에서 저장된 손실 값(Loss)을 그래프로 출력\n",
        "plt.plot(Loss)"
      ]
    },
    {
      "cell_type": "code",
      "execution_count": null,
      "id": "8fd6e26f",
      "metadata": {
        "id": "8fd6e26f",
        "colab": {
          "base_uri": "https://localhost:8080/"
        },
        "outputId": "a31ffcb9-a3af-4a08-a01c-7029cebc9840"
      },
      "outputs": [
        {
          "output_type": "execute_result",
          "data": {
            "text/plain": [
              "array([[ True],\n",
              "       [False],\n",
              "       [False],\n",
              "       ...,\n",
              "       [False],\n",
              "       [False],\n",
              "       [False]])"
            ]
          },
          "metadata": {},
          "execution_count": 18
        }
      ],
      "source": [
        "# X_test_ts.to(device)는 테스트 데이터를 현재 설정된 디바이스로 이동\n",
        "# 예측을 수행하고, 결과를 CPU로 다시 이동시킨 후 numpy 배열로 변환\n",
        "#  > 0.5 조건을 사용하여 모델의 출력(확률)을 이진 분류 결정(0 또는 1)으로 변환\n",
        "y_pred = (model(X_test_ts.to(device)).numpy(force=True) > 0.5)\n",
        "y_pred"
      ]
    },
    {
      "cell_type": "code",
      "execution_count": null,
      "id": "cea8f377",
      "metadata": {
        "colab": {
          "base_uri": "https://localhost:8080/"
        },
        "id": "cea8f377",
        "outputId": "7fa67c80-fc06-4bc4-8f43-b40f33beadf4"
      },
      "outputs": [
        {
          "output_type": "execute_result",
          "data": {
            "text/plain": [
              "0.986"
            ]
          },
          "metadata": {},
          "execution_count": 19
        }
      ],
      "source": [
        "# y_test와 y_pred를 비교하여 정확도(accuracy) 계산\n",
        "sum(y_test == y_pred.flatten()) / len(y_test)"
      ]
    },
    {
      "cell_type": "markdown",
      "source": [
        "### - Malware Dataset 실습을 바탕으로 다른 이진 분류 문제에도 동일한 MLP 구조를 적용해보세요."
      ],
      "metadata": {
        "id": "mEs8Q5awMKH9"
      },
      "id": "mEs8Q5awMKH9"
    },
    {
      "cell_type": "code",
      "execution_count": 7,
      "id": "252d02d5",
      "metadata": {
        "id": "252d02d5",
        "colab": {
          "base_uri": "https://localhost:8080/"
        },
        "outputId": "c9c3bcb8-4743-4768-c07a-15698d0f0a46"
      },
      "outputs": [
        {
          "output_type": "execute_result",
          "data": {
            "text/plain": [
              "((569, 30), (569,))"
            ]
          },
          "metadata": {},
          "execution_count": 7
        }
      ],
      "source": [
        "from sklearn.datasets import load_breast_cancer\n",
        "\n",
        "cancer = load_breast_cancer()\n",
        "X = cancer.data\n",
        "y = cancer.target\n",
        "\n",
        "X.shape, y.shape"
      ]
    },
    {
      "cell_type": "code",
      "source": [],
      "metadata": {
        "id": "5oJiT4cgLyG7"
      },
      "id": "5oJiT4cgLyG7",
      "execution_count": null,
      "outputs": []
    }
  ],
  "metadata": {
    "accelerator": "GPU",
    "colab": {
      "gpuType": "T4",
      "provenance": []
    },
    "kernelspec": {
      "display_name": "Python 3",
      "name": "python3"
    },
    "language_info": {
      "codemirror_mode": {
        "name": "ipython",
        "version": 3
      },
      "file_extension": ".py",
      "mimetype": "text/x-python",
      "name": "python",
      "nbconvert_exporter": "python",
      "pygments_lexer": "ipython3",
      "version": "3.9.7"
    }
  },
  "nbformat": 4,
  "nbformat_minor": 5
}