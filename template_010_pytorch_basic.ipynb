{
 "cells": [
  {
   "cell_type": "markdown",
   "id": "e704c644",
   "metadata": {
    "id": "bptrBsIN0aIK"
   },
   "source": [
    "# 010. PyTorch basic\n",
    "\n",
    "- GPU check 부분이 있으므로 Google Colab에서 실행"
   ]
  },
  {
   "cell_type": "code",
   "execution_count": null,
   "id": "c0414cab",
   "metadata": {},
   "outputs": [],
   "source": []
  },
  {
   "cell_type": "code",
   "execution_count": null,
   "id": "3092721d",
   "metadata": {},
   "outputs": [],
   "source": []
  },
  {
   "cell_type": "markdown",
   "id": "df4ccb34",
   "metadata": {
    "id": "FYOdFDxP0aIR"
   },
   "source": [
    "## Tensor Data Types"
   ]
  },
  {
   "cell_type": "markdown",
   "id": "b07b7d94",
   "metadata": {
    "id": "hDMoQIgGV10z"
   },
   "source": [
    "### torch.tensor 함수\n",
    "\n",
    "`tensor(data, dtype=None, device=None, requires_grad=False) -> Tensor`\n",
    "\n",
    "     data (array_like): list, tuple, numpy ndarray, scalar, and other types.\n",
    "     dtype :  `None`인 경우 `data`에서 데이터 유형을 유추합니다.  \n",
    "     device : `cpu`, `cuda`  \n",
    "     require_grad(bool, optional): autograd가 작업을 기록해야 하는 경우"
   ]
  },
  {
   "cell_type": "markdown",
   "id": "7069fad6",
   "metadata": {
    "id": "3_x6xXPPV100"
   },
   "source": [
    "Float torch tensor 생성"
   ]
  },
  {
   "cell_type": "code",
   "execution_count": null,
   "id": "906a64ba",
   "metadata": {},
   "outputs": [],
   "source": [
    "# numpy array 생성\n",
    "# tensor  생성\n",
    "# dtype"
   ]
  },
  {
   "cell_type": "code",
   "execution_count": null,
   "id": "0355bf93",
   "metadata": {},
   "outputs": [],
   "source": [
    "# numpy 생성\n",
    "# tensor 생성\n",
    "# dtype"
   ]
  },
  {
   "cell_type": "markdown",
   "id": "18c08a56",
   "metadata": {
    "id": "77WegQUXV102"
   },
   "source": [
    "Integer tensor 생성"
   ]
  },
  {
   "cell_type": "code",
   "execution_count": null,
   "id": "d8fe5971",
   "metadata": {},
   "outputs": [],
   "source": []
  },
  {
   "cell_type": "code",
   "execution_count": null,
   "id": "6ca75265",
   "metadata": {},
   "outputs": [],
   "source": [
    "# gpu tensor"
   ]
  },
  {
   "cell_type": "markdown",
   "id": "d33df6f3",
   "metadata": {
    "id": "NtdNbgjR0aIU"
   },
   "source": [
    "## 1D Tensor Operation"
   ]
  },
  {
   "cell_type": "code",
   "execution_count": null,
   "id": "094b0894",
   "metadata": {},
   "outputs": [],
   "source": []
  },
  {
   "cell_type": "code",
   "execution_count": null,
   "id": "28a6e1a2",
   "metadata": {},
   "outputs": [],
   "source": []
  },
  {
   "cell_type": "code",
   "execution_count": null,
   "id": "9e414500",
   "metadata": {},
   "outputs": [],
   "source": []
  },
  {
   "cell_type": "code",
   "execution_count": null,
   "id": "2e371b49",
   "metadata": {},
   "outputs": [],
   "source": []
  },
  {
   "cell_type": "markdown",
   "id": "18e4e4e7",
   "metadata": {
    "id": "jx-H1RPX0aIX"
   },
   "source": [
    "### Tensor Type 변환\n",
    "\n",
    "- cpu <--> gpu"
   ]
  },
  {
   "cell_type": "code",
   "execution_count": null,
   "id": "b3d80d80",
   "metadata": {},
   "outputs": [],
   "source": [
    "# cpu tensor"
   ]
  },
  {
   "cell_type": "code",
   "execution_count": null,
   "id": "5adfadfd",
   "metadata": {},
   "outputs": [],
   "source": [
    "# gpu tensor"
   ]
  },
  {
   "cell_type": "code",
   "execution_count": null,
   "id": "72a28443",
   "metadata": {},
   "outputs": [],
   "source": []
  },
  {
   "cell_type": "code",
   "execution_count": null,
   "id": "6ebe7a5a",
   "metadata": {},
   "outputs": [],
   "source": [
    "# cpu tensor"
   ]
  },
  {
   "cell_type": "markdown",
   "id": "6ce78b05",
   "metadata": {
    "id": "6yb70D7F0aIa"
   },
   "source": [
    "### Tensor 생성\n",
    "\n",
    "- 무작위로 초기화된 행렬 생성 (uniform distribution)"
   ]
  },
  {
   "cell_type": "code",
   "execution_count": null,
   "id": "b82f0b36",
   "metadata": {},
   "outputs": [],
   "source": []
  },
  {
   "cell_type": "markdown",
   "id": "a278b0c8",
   "metadata": {
    "id": "XdplE1BX0aIb"
   },
   "source": [
    "- dtype이 long이고 0으로 채워진 행렬 생성"
   ]
  },
  {
   "cell_type": "code",
   "execution_count": null,
   "id": "0825a7e1",
   "metadata": {},
   "outputs": [],
   "source": []
  },
  {
   "cell_type": "markdown",
   "id": "15487b61",
   "metadata": {
    "id": "RX0uBf2g0aIc"
   },
   "source": [
    "- python list로 부터 tensor 생성"
   ]
  },
  {
   "cell_type": "code",
   "execution_count": null,
   "id": "4fa4d157",
   "metadata": {},
   "outputs": [],
   "source": []
  },
  {
   "cell_type": "code",
   "execution_count": null,
   "id": "3eab4fdf",
   "metadata": {},
   "outputs": [],
   "source": []
  },
  {
   "cell_type": "code",
   "execution_count": null,
   "id": "3e321ede",
   "metadata": {},
   "outputs": [],
   "source": []
  },
  {
   "cell_type": "markdown",
   "id": "88fd504c",
   "metadata": {
    "id": "_F_MBE6Y0aId"
   },
   "source": [
    "## Tensor 의 shape & dimension (rank)"
   ]
  },
  {
   "cell_type": "code",
   "execution_count": null,
   "id": "f7e3da57",
   "metadata": {},
   "outputs": [],
   "source": [
    "# 전통정 pytorch 방식"
   ]
  },
  {
   "cell_type": "code",
   "execution_count": null,
   "id": "afb757b0",
   "metadata": {},
   "outputs": [],
   "source": [
    "# size() 와 shape 은 alias --> 권장 방식"
   ]
  },
  {
   "cell_type": "code",
   "execution_count": null,
   "id": "042b87b0",
   "metadata": {},
   "outputs": [],
   "source": []
  },
  {
   "cell_type": "markdown",
   "id": "5e259ae9",
   "metadata": {
    "id": "HV3UkTgU0aIf"
   },
   "source": [
    "## reshape\n",
    "- torch.view : original tensor의 memory 공유 (contiguity 제한)\n",
    "- torch.reshape: contiguity 제한 없음. 필요에 따라 new tensor 생성. numpy 와 유사한 operation을 위해 기능 제공"
   ]
  },
  {
   "cell_type": "code",
   "execution_count": null,
   "id": "5250a69d",
   "metadata": {},
   "outputs": [],
   "source": []
  },
  {
   "cell_type": "code",
   "execution_count": null,
   "id": "e5d5fdd3",
   "metadata": {},
   "outputs": [],
   "source": [
    "# 4x4 크기의 랜덤한 텐서 생성\n",
    "# x 텐서를 16개의 요소를 가진 1차원 텐서로 변형(view)합니다.\n",
    "# x 텐서를 2차원 텐서 변형, -1은 나머지 차원의 크기를 자동 계산\n",
    "# 결과적으로, 이 코드는 x를 2x8 크기의 텐서로 변형합니다."
   ]
  },
  {
   "cell_type": "code",
   "execution_count": null,
   "id": "78feb97e",
   "metadata": {},
   "outputs": [],
   "source": [
    "# x 텐서를 16개의 요소를 가진 1차원 텐서로 재구성(reshape).\n",
    "# x 텐서를 -1과 8을 사용하여 2차원 텐서로 재구성\n",
    "# 결과적으로, 이 코드는 x를 2x8 크기의 텐서로 재구성합니다."
   ]
  },
  {
   "cell_type": "code",
   "execution_count": null,
   "id": "338f37d1",
   "metadata": {},
   "outputs": [],
   "source": []
  },
  {
   "cell_type": "code",
   "execution_count": null,
   "id": "41459c82",
   "metadata": {},
   "outputs": [],
   "source": [
    "# x 텐서가 연속적인 메모리 레이아웃을 가지고 있는지 확인\n",
    "# 텐서가 연속적이라면, 메모리 상에서 요소들이 순차적으로 이어져 있음을 의미"
   ]
  },
  {
   "cell_type": "code",
   "execution_count": null,
   "id": "aa3ed120",
   "metadata": {},
   "outputs": [],
   "source": [
    "# dim0, dim1 을 swap"
   ]
  },
  {
   "cell_type": "code",
   "execution_count": null,
   "id": "f7322d3b",
   "metadata": {},
   "outputs": [],
   "source": []
  },
  {
   "cell_type": "code",
   "execution_count": null,
   "id": "e5def904",
   "metadata": {},
   "outputs": [],
   "source": []
  },
  {
   "cell_type": "code",
   "execution_count": null,
   "id": "bcc85b7e",
   "metadata": {},
   "outputs": [],
   "source": []
  },
  {
   "cell_type": "markdown",
   "id": "61b23f5e",
   "metadata": {
    "id": "SOr0fUj50aIg"
   },
   "source": [
    "## numpy 와 tensor 간의 호환성\n",
    "\n",
    "- memory 를 공유하므로 하나를 수정하면 나머지에 모두 반영  "
   ]
  },
  {
   "cell_type": "code",
   "execution_count": null,
   "id": "fe5c81db",
   "metadata": {},
   "outputs": [],
   "source": []
  },
  {
   "cell_type": "code",
   "execution_count": null,
   "id": "066a575c",
   "metadata": {},
   "outputs": [],
   "source": []
  },
  {
   "cell_type": "code",
   "execution_count": null,
   "id": "79113c73",
   "metadata": {},
   "outputs": [],
   "source": []
  },
  {
   "cell_type": "code",
   "execution_count": null,
   "id": "ecadbfa1",
   "metadata": {},
   "outputs": [],
   "source": []
  },
  {
   "cell_type": "markdown",
   "id": "4456af7e",
   "metadata": {
    "id": "M7tI-oW-0aIi"
   },
   "source": [
    "## Scalar value\n",
    "\n",
    "- 만약 tensor에 하나의 값만 존재한다면, ``.item()`` method를 사용하여 숫자 값을 얻을 수 있습니다.  "
   ]
  },
  {
   "cell_type": "code",
   "execution_count": null,
   "id": "d9076533",
   "metadata": {},
   "outputs": [],
   "source": []
  },
  {
   "cell_type": "code",
   "execution_count": null,
   "id": "1cf0a223",
   "metadata": {},
   "outputs": [],
   "source": []
  },
  {
   "cell_type": "markdown",
   "id": "d7f33932",
   "metadata": {
    "id": "79_l6-6Jr3A4"
   },
   "source": [
    "- tensor 가 array 형태인 경우 `numpy()` method 를 통해 ndarray 반환"
   ]
  },
  {
   "cell_type": "code",
   "execution_count": null,
   "id": "6ba256fb",
   "metadata": {},
   "outputs": [],
   "source": []
  },
  {
   "cell_type": "markdown",
   "id": "7f338715",
   "metadata": {
    "id": "ROH69NYU0aIl"
   },
   "source": [
    "## Tensor 의 indexing & slicing\n",
    "\n",
    "- Python 의 indexing & slicing 과 동일"
   ]
  },
  {
   "cell_type": "code",
   "execution_count": null,
   "id": "641da042",
   "metadata": {},
   "outputs": [],
   "source": []
  },
  {
   "cell_type": "code",
   "execution_count": null,
   "id": "0e199396",
   "metadata": {},
   "outputs": [],
   "source": []
  },
  {
   "cell_type": "code",
   "execution_count": null,
   "id": "4ba997ca",
   "metadata": {},
   "outputs": [],
   "source": []
  },
  {
   "cell_type": "markdown",
   "id": "b34e303b",
   "metadata": {
    "id": "LnsztCIG0aIm"
   },
   "source": [
    "## Basic Operations - numpy 와 동일"
   ]
  },
  {
   "cell_type": "code",
   "execution_count": null,
   "id": "9fad49a3",
   "metadata": {},
   "outputs": [],
   "source": [
    "# element-wise 덧셈, 뺄셈"
   ]
  },
  {
   "cell_type": "code",
   "execution_count": null,
   "id": "ba8f479f",
   "metadata": {},
   "outputs": [],
   "source": []
  },
  {
   "cell_type": "code",
   "execution_count": null,
   "id": "2c0dff0b",
   "metadata": {},
   "outputs": [],
   "source": [
    "# element-wise 곱셈"
   ]
  },
  {
   "cell_type": "code",
   "execution_count": null,
   "id": "2a94bf80",
   "metadata": {},
   "outputs": [],
   "source": [
    "# 스칼라 곱"
   ]
  },
  {
   "cell_type": "code",
   "execution_count": null,
   "id": "3763b9de",
   "metadata": {},
   "outputs": [],
   "source": [
    "# dot product"
   ]
  },
  {
   "cell_type": "markdown",
   "id": "80567c18",
   "metadata": {
    "id": "Wgub6XlE0aIo"
   },
   "source": [
    "## 기타"
   ]
  },
  {
   "cell_type": "code",
   "execution_count": null,
   "id": "af3180f0",
   "metadata": {},
   "outputs": [],
   "source": [
    "# broadcasting"
   ]
  },
  {
   "cell_type": "code",
   "execution_count": null,
   "id": "e22343f8",
   "metadata": {},
   "outputs": [],
   "source": [
    "# mean, max, Standard Deviation"
   ]
  },
  {
   "cell_type": "markdown",
   "id": "2c798fee",
   "metadata": {
    "id": "S02sWh930aIq"
   },
   "source": [
    "## torch.linspace 와 np.linspace 비교"
   ]
  },
  {
   "cell_type": "code",
   "execution_count": null,
   "id": "31cfdd82",
   "metadata": {},
   "outputs": [],
   "source": []
  },
  {
   "cell_type": "code",
   "execution_count": null,
   "id": "732e7048",
   "metadata": {},
   "outputs": [],
   "source": []
  },
  {
   "cell_type": "code",
   "execution_count": null,
   "id": "9f2a58ed",
   "metadata": {},
   "outputs": [],
   "source": []
  },
  {
   "cell_type": "markdown",
   "id": "08a85023",
   "metadata": {
    "id": "EsCQ_2FD0aIr"
   },
   "source": [
    "## torch.arange 와 np.arange 비교"
   ]
  },
  {
   "cell_type": "code",
   "execution_count": null,
   "id": "0b50cad9",
   "metadata": {},
   "outputs": [],
   "source": []
  },
  {
   "cell_type": "code",
   "execution_count": null,
   "id": "ffb84eaf",
   "metadata": {},
   "outputs": [],
   "source": []
  },
  {
   "cell_type": "markdown",
   "id": "1bba18b8",
   "metadata": {
    "id": "2f9PE9hp0aIs"
   },
   "source": [
    "## 2D Tensor Operation"
   ]
  },
  {
   "cell_type": "code",
   "execution_count": null,
   "id": "1acce69b",
   "metadata": {},
   "outputs": [],
   "source": []
  },
  {
   "cell_type": "markdown",
   "id": "f70cea96",
   "metadata": {
    "id": "z_nDsdhp0aIs"
   },
   "source": [
    "- ndimension  \n",
    "- shape  \n",
    "- size()  \n",
    "- numel (number of elements)"
   ]
  },
  {
   "cell_type": "code",
   "execution_count": null,
   "id": "6a3eb09a",
   "metadata": {},
   "outputs": [],
   "source": []
  },
  {
   "cell_type": "markdown",
   "id": "fd234350",
   "metadata": {
    "id": "jXb9VIZS0aIu"
   },
   "source": [
    "## matrix 간의 연산"
   ]
  },
  {
   "cell_type": "code",
   "execution_count": null,
   "id": "bf422b64",
   "metadata": {},
   "outputs": [],
   "source": []
  },
  {
   "cell_type": "markdown",
   "id": "b7b5d92a",
   "metadata": {
    "id": "5EbqEss80aIu"
   },
   "source": [
    "- element-wise 연산"
   ]
  },
  {
   "cell_type": "code",
   "execution_count": null,
   "id": "6711d7a3",
   "metadata": {},
   "outputs": [],
   "source": []
  },
  {
   "cell_type": "markdown",
   "id": "bd586290",
   "metadata": {
    "id": "O2zjsgjO0aIv"
   },
   "source": [
    "## matrix multiplication"
   ]
  },
  {
   "cell_type": "code",
   "execution_count": null,
   "id": "da0e99f5",
   "metadata": {},
   "outputs": [],
   "source": []
  },
  {
   "cell_type": "code",
   "execution_count": null,
   "id": "ec4cfbf9",
   "metadata": {},
   "outputs": [],
   "source": []
  },
  {
   "cell_type": "code",
   "execution_count": null,
   "id": "31e7ba32",
   "metadata": {},
   "outputs": [],
   "source": []
  },
  {
   "cell_type": "markdown",
   "id": "e027a088",
   "metadata": {
    "id": "rWCAskEP0aIw"
   },
   "source": [
    "### Concatenation\n",
    "\n",
    "- default - first axis(row-wise)로 concatenate\n",
    "- column-wise로 concatenate 하려면 axis=1 로 지정"
   ]
  },
  {
   "cell_type": "code",
   "execution_count": null,
   "id": "2082dc75",
   "metadata": {},
   "outputs": [],
   "source": []
  },
  {
   "cell_type": "code",
   "execution_count": null,
   "id": "71135d75",
   "metadata": {},
   "outputs": [],
   "source": []
  },
  {
   "cell_type": "code",
   "execution_count": null,
   "id": "89a98965",
   "metadata": {},
   "outputs": [],
   "source": []
  },
  {
   "cell_type": "markdown",
   "id": "856e914f",
   "metadata": {
    "id": "rId3CNLU0aIx"
   },
   "source": [
    "### torch.sum, torch.max, torch.min, torch.argmax, torch.argmin\n",
    "\n",
    "- torch.sum(input, dim, keepdim=False, dtype=None) → Tensor  \n",
    "주어진 차원 dim에서 입력 텐서의 각 행의 합(max, min)을 반환합니다.\n",
    "\n",
    "- dim 을 지정한 경우, 지정된 dim을 축소하는 것입니다. 따라서 dim 0(행)을 접으면 하나의 행이 됩니다(열 단위로 합산)."
   ]
  },
  {
   "cell_type": "code",
   "execution_count": null,
   "id": "a6ec9191",
   "metadata": {},
   "outputs": [],
   "source": []
  },
  {
   "cell_type": "code",
   "execution_count": null,
   "id": "6d648782",
   "metadata": {},
   "outputs": [],
   "source": []
  },
  {
   "cell_type": "code",
   "execution_count": null,
   "id": "8a776dcb",
   "metadata": {},
   "outputs": [],
   "source": []
  },
  {
   "cell_type": "code",
   "execution_count": null,
   "id": "a29393d0",
   "metadata": {},
   "outputs": [],
   "source": []
  },
  {
   "cell_type": "code",
   "execution_count": null,
   "id": "401b839c",
   "metadata": {},
   "outputs": [],
   "source": []
  },
  {
   "cell_type": "code",
   "execution_count": null,
   "id": "e831162f",
   "metadata": {},
   "outputs": [],
   "source": []
  },
  {
   "cell_type": "code",
   "execution_count": null,
   "id": "2acaade9",
   "metadata": {},
   "outputs": [],
   "source": []
  },
  {
   "cell_type": "code",
   "execution_count": null,
   "id": "86cbb536",
   "metadata": {},
   "outputs": [],
   "source": []
  },
  {
   "cell_type": "code",
   "execution_count": null,
   "id": "d3a53915",
   "metadata": {},
   "outputs": [],
   "source": []
  },
  {
   "cell_type": "code",
   "execution_count": null,
   "id": "89216345",
   "metadata": {},
   "outputs": [],
   "source": []
  }
 ],
 "metadata": {
  "accelerator": "GPU",
  "colab": {
   "gpuType": "T4",
   "provenance": []
  },
  "kernelspec": {
   "display_name": "Python 3 (ipykernel)",
   "language": "python",
   "name": "python3"
  },
  "language_info": {
   "codemirror_mode": {
    "name": "ipython",
    "version": 3
   },
   "file_extension": ".py",
   "mimetype": "text/x-python",
   "name": "python",
   "nbconvert_exporter": "python",
   "pygments_lexer": "ipython3",
   "version": "3.11.13"
  }
 },
 "nbformat": 4,
 "nbformat_minor": 5
}
