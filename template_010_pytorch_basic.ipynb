{
 "cells": [
  {
   "cell_type": "markdown",
   "id": "a50912f8",
   "metadata": {
    "id": "bptrBsIN0aIK"
   },
   "source": [
    "# 010. PyTorch basic\n",
    "\n",
    "- GPU check 부분이 있으므로 Google Colab에서 실행"
   ]
  },
  {
   "cell_type": "code",
   "execution_count": null,
   "id": "816f6579",
   "metadata": {},
   "outputs": [],
   "source": []
  },
  {
   "cell_type": "code",
   "execution_count": null,
   "id": "ef3752f4",
   "metadata": {},
   "outputs": [],
   "source": []
  },
  {
   "cell_type": "markdown",
   "id": "d2c4e49b",
   "metadata": {
    "id": "FYOdFDxP0aIR"
   },
   "source": [
    "## Tensor Data Types\n",
    "\n",
    "<img src=\"https://miro.medium.com/max/875/1*-C10tKbZ2h0Zd7maau86oQ.png\" height=\"400\" />"
   ]
  },
  {
   "cell_type": "markdown",
   "id": "461308f9",
   "metadata": {
    "id": "hDMoQIgGV10z"
   },
   "source": [
    "### torch.tensor 함수\n",
    "\n",
    "`tensor(data, dtype=None, device=None, requires_grad=False) -> Tensor`\n",
    "\n",
    "     data (array_like): list, tuple, numpy ndarray, scalar, and other types.\n",
    "     dtype :  `None`인 경우 `data`에서 데이터 유형을 유추합니다.  \n",
    "     device : `cpu`, `cuda`  \n",
    "     require_grad(bool, optional): autograd가 작업을 기록해야 하는 경우"
   ]
  },
  {
   "cell_type": "markdown",
   "id": "4a1ec52a",
   "metadata": {
    "id": "3_x6xXPPV100"
   },
   "source": [
    "Float torch tensor 생성"
   ]
  },
  {
   "cell_type": "code",
   "execution_count": null,
   "id": "00fb311e",
   "metadata": {},
   "outputs": [],
   "source": [
    "# numpy array 생성\n",
    "# tensor  생성\n",
    "# dtype"
   ]
  },
  {
   "cell_type": "code",
   "execution_count": null,
   "id": "53a86c3c",
   "metadata": {},
   "outputs": [],
   "source": [
    "# numpy 생성\n",
    "# tensor 생성\n",
    "# dtype"
   ]
  },
  {
   "cell_type": "markdown",
   "id": "b4bc2207",
   "metadata": {
    "id": "77WegQUXV102"
   },
   "source": [
    "Integer tensor 생성"
   ]
  },
  {
   "cell_type": "code",
   "execution_count": null,
   "id": "5b662f85",
   "metadata": {},
   "outputs": [],
   "source": []
  },
  {
   "cell_type": "code",
   "execution_count": null,
   "id": "5b18ed1b",
   "metadata": {},
   "outputs": [],
   "source": []
  },
  {
   "cell_type": "markdown",
   "id": "c0d9e57d",
   "metadata": {
    "id": "NtdNbgjR0aIU"
   },
   "source": [
    "## 1D Tensor Operation\n",
    "\n",
    "### tensor 생성"
   ]
  },
  {
   "cell_type": "code",
   "execution_count": null,
   "id": "627ea1eb",
   "metadata": {},
   "outputs": [],
   "source": []
  },
  {
   "cell_type": "code",
   "execution_count": null,
   "id": "d0419c1d",
   "metadata": {},
   "outputs": [],
   "source": []
  },
  {
   "cell_type": "code",
   "execution_count": null,
   "id": "5b47ea92",
   "metadata": {},
   "outputs": [],
   "source": []
  },
  {
   "cell_type": "code",
   "execution_count": null,
   "id": "2366078d",
   "metadata": {},
   "outputs": [],
   "source": []
  },
  {
   "cell_type": "code",
   "execution_count": null,
   "id": "b3d96d9c",
   "metadata": {},
   "outputs": [],
   "source": [
    "# cpu tensor"
   ]
  },
  {
   "cell_type": "code",
   "execution_count": null,
   "id": "f939ff1f",
   "metadata": {},
   "outputs": [],
   "source": [
    "# gpu tensor"
   ]
  },
  {
   "cell_type": "markdown",
   "id": "3cf49586",
   "metadata": {
    "id": "jx-H1RPX0aIX"
   },
   "source": [
    "### Tensor Type 변환\n",
    "\n",
    "- cpu <--> gpu"
   ]
  },
  {
   "cell_type": "code",
   "execution_count": null,
   "id": "ff6f06e0",
   "metadata": {},
   "outputs": [],
   "source": [
    "# cpu tensor"
   ]
  },
  {
   "cell_type": "code",
   "execution_count": null,
   "id": "6b1c53c0",
   "metadata": {},
   "outputs": [],
   "source": [
    "# gpu tensor"
   ]
  },
  {
   "cell_type": "code",
   "execution_count": null,
   "id": "f203d20c",
   "metadata": {},
   "outputs": [],
   "source": []
  },
  {
   "cell_type": "code",
   "execution_count": null,
   "id": "f2dbf84b",
   "metadata": {},
   "outputs": [],
   "source": []
  },
  {
   "cell_type": "code",
   "execution_count": null,
   "id": "721801a4",
   "metadata": {},
   "outputs": [],
   "source": [
    "# cpu tensor"
   ]
  },
  {
   "cell_type": "code",
   "execution_count": null,
   "id": "8ba8b127",
   "metadata": {},
   "outputs": [],
   "source": []
  },
  {
   "cell_type": "markdown",
   "id": "3d7afbc2",
   "metadata": {
    "id": "6yb70D7F0aIa"
   },
   "source": [
    "### Tensor 생성\n",
    "\n",
    "- 무작위로 초기화된 행렬 생성 (uniform distribution)"
   ]
  },
  {
   "cell_type": "code",
   "execution_count": null,
   "id": "109adcf7",
   "metadata": {},
   "outputs": [],
   "source": []
  },
  {
   "cell_type": "markdown",
   "id": "249e46f2",
   "metadata": {
    "id": "XdplE1BX0aIb"
   },
   "source": [
    "- dtype이 long이고 0으로 채워진 행렬 생성"
   ]
  },
  {
   "cell_type": "code",
   "execution_count": null,
   "id": "0f26b731",
   "metadata": {},
   "outputs": [],
   "source": []
  },
  {
   "cell_type": "markdown",
   "id": "ecf8e594",
   "metadata": {
    "id": "RX0uBf2g0aIc"
   },
   "source": [
    "- python list로 부터 tensor 생성"
   ]
  },
  {
   "cell_type": "code",
   "execution_count": null,
   "id": "569e0ecc",
   "metadata": {},
   "outputs": [],
   "source": []
  },
  {
   "cell_type": "code",
   "execution_count": null,
   "id": "c3e8ecbd",
   "metadata": {},
   "outputs": [],
   "source": []
  },
  {
   "cell_type": "code",
   "execution_count": null,
   "id": "99ed3cbd",
   "metadata": {},
   "outputs": [],
   "source": []
  },
  {
   "cell_type": "markdown",
   "id": "589ed595",
   "metadata": {
    "id": "0CWwLRBuc8LU"
   },
   "source": [
    "torch.LongTensor --> torch.long, torch.int64"
   ]
  },
  {
   "cell_type": "code",
   "execution_count": null,
   "id": "e038d90f",
   "metadata": {},
   "outputs": [],
   "source": []
  },
  {
   "cell_type": "code",
   "execution_count": null,
   "id": "a13e6cac",
   "metadata": {},
   "outputs": [],
   "source": []
  },
  {
   "cell_type": "code",
   "execution_count": null,
   "id": "89f6fd74",
   "metadata": {},
   "outputs": [],
   "source": []
  },
  {
   "cell_type": "markdown",
   "id": "e13c4378",
   "metadata": {
    "id": "_F_MBE6Y0aId"
   },
   "source": [
    "## Tensor 의 shape & dimension (rank)"
   ]
  },
  {
   "cell_type": "code",
   "execution_count": null,
   "id": "012d87c4",
   "metadata": {},
   "outputs": [],
   "source": []
  },
  {
   "cell_type": "code",
   "execution_count": null,
   "id": "d14607c2",
   "metadata": {},
   "outputs": [],
   "source": [
    "# size() 와 shape 은 alias"
   ]
  },
  {
   "cell_type": "code",
   "execution_count": null,
   "id": "561b5a33",
   "metadata": {},
   "outputs": [],
   "source": []
  },
  {
   "cell_type": "markdown",
   "id": "69d6540a",
   "metadata": {
    "id": "HV3UkTgU0aIf"
   },
   "source": [
    "## reshape\n",
    "- torch.view : original tensor의 memory 공유 (contiguity 제한)\n",
    "- torch.reshape: contiguity 제한 없음. 필요에 따라 new tensor 생성. numpy 와 유사한 operation을 위해 기능 제공"
   ]
  },
  {
   "cell_type": "code",
   "execution_count": null,
   "id": "f8084c88",
   "metadata": {},
   "outputs": [],
   "source": []
  },
  {
   "cell_type": "code",
   "execution_count": null,
   "id": "127fe58f",
   "metadata": {},
   "outputs": [],
   "source": [
    "# 4x4 크기의 랜덤한 텐서 생성\n",
    "# x 텐서를 16개의 요소를 가진 1차원 텐서로 변형(view)합니다.\n",
    "# x 텐서를 2차원 텐서 변형, -1은 나머지 차원의 크기를 자동 계산\n",
    "# 결과적으로, 이 코드는 x를 2x8 크기의 텐서로 변형합니다."
   ]
  },
  {
   "cell_type": "code",
   "execution_count": null,
   "id": "b0128f85",
   "metadata": {},
   "outputs": [],
   "source": [
    "# x 텐서를 16개의 요소를 가진 1차원 텐서로 재구성(reshape).\n",
    "# x 텐서를 -1과 8을 사용하여 2차원 텐서로 재구성\n",
    "# 결과적으로, 이 코드는 x를 2x8 크기의 텐서로 재구성합니다."
   ]
  },
  {
   "cell_type": "code",
   "execution_count": null,
   "id": "69c82877",
   "metadata": {},
   "outputs": [],
   "source": []
  },
  {
   "cell_type": "code",
   "execution_count": null,
   "id": "e7c567c7",
   "metadata": {},
   "outputs": [],
   "source": [
    "# x 텐서가 연속적인 메모리 레이아웃을 가지고 있는지 확인\n",
    "# 텐서가 연속적이라면, 메모리 상에서 요소들이 순차적으로 이어져 있음을 의미"
   ]
  },
  {
   "cell_type": "code",
   "execution_count": null,
   "id": "e4a946bd",
   "metadata": {},
   "outputs": [],
   "source": [
    "# dim0, dim1 을 swap"
   ]
  },
  {
   "cell_type": "code",
   "execution_count": null,
   "id": "302e44bf",
   "metadata": {},
   "outputs": [],
   "source": []
  },
  {
   "cell_type": "code",
   "execution_count": null,
   "id": "4538573a",
   "metadata": {},
   "outputs": [],
   "source": []
  },
  {
   "cell_type": "code",
   "execution_count": null,
   "id": "ed616b21",
   "metadata": {},
   "outputs": [],
   "source": []
  },
  {
   "cell_type": "markdown",
   "id": "5615579b",
   "metadata": {
    "id": "SOr0fUj50aIg"
   },
   "source": [
    "## numpy 와 tensor 간의 호환성\n",
    "\n",
    "- memory 를 공유하므로 하나를 수정하면 나머지에 모두 반영  "
   ]
  },
  {
   "cell_type": "code",
   "execution_count": null,
   "id": "ae7ef80c",
   "metadata": {},
   "outputs": [],
   "source": []
  },
  {
   "cell_type": "code",
   "execution_count": null,
   "id": "dc36981d",
   "metadata": {},
   "outputs": [],
   "source": []
  },
  {
   "cell_type": "code",
   "execution_count": null,
   "id": "f97887a4",
   "metadata": {},
   "outputs": [],
   "source": []
  },
  {
   "cell_type": "code",
   "execution_count": null,
   "id": "4eb5b077",
   "metadata": {},
   "outputs": [],
   "source": []
  },
  {
   "cell_type": "markdown",
   "id": "7a621866",
   "metadata": {
    "id": "M7tI-oW-0aIi"
   },
   "source": [
    "## Scalar value\n",
    "\n",
    "- 만약 tensor에 하나의 값만 존재한다면, ``.item()`` method를 사용하여 숫자 값을 얻을 수 있습니다.  "
   ]
  },
  {
   "cell_type": "code",
   "execution_count": null,
   "id": "b77aff34",
   "metadata": {},
   "outputs": [],
   "source": []
  },
  {
   "cell_type": "code",
   "execution_count": null,
   "id": "f7c849bd",
   "metadata": {},
   "outputs": [],
   "source": []
  },
  {
   "cell_type": "markdown",
   "id": "9dbdee09",
   "metadata": {
    "id": "79_l6-6Jr3A4"
   },
   "source": [
    "- tensor 가 array 형태인 경우 `numpy()` method 를 통해 ndarray 반환"
   ]
  },
  {
   "cell_type": "code",
   "execution_count": null,
   "id": "2485c7fd",
   "metadata": {},
   "outputs": [],
   "source": []
  },
  {
   "cell_type": "markdown",
   "id": "dee2dcfa",
   "metadata": {
    "id": "WfDw9dQO0aIj"
   },
   "source": [
    "## pandas 및 python list 와의 호환성"
   ]
  },
  {
   "cell_type": "code",
   "execution_count": null,
   "id": "bd1911ed",
   "metadata": {},
   "outputs": [],
   "source": [
    "# pandas의 Series 객체를 생성\n",
    "# Series에서 numpy 배열로 값을 가져온 후,  PyTorch 텐서 생성"
   ]
  },
  {
   "cell_type": "code",
   "execution_count": null,
   "id": "fd70fc3b",
   "metadata": {},
   "outputs": [],
   "source": [
    "# python list를 이용하여 tensor 생성\n",
    "# tensor에서 python list 생성"
   ]
  },
  {
   "cell_type": "code",
   "execution_count": null,
   "id": "a9c619df",
   "metadata": {},
   "outputs": [],
   "source": [
    "# tensor를 numpy array로 생성"
   ]
  },
  {
   "cell_type": "markdown",
   "id": "25af8cc9",
   "metadata": {
    "id": "ROH69NYU0aIl"
   },
   "source": [
    "## Tensor 의 indexing & slicing\n",
    "\n",
    "- Python 의 indexing & slicing 과 동일"
   ]
  },
  {
   "cell_type": "code",
   "execution_count": null,
   "id": "ccfbd547",
   "metadata": {},
   "outputs": [],
   "source": []
  },
  {
   "cell_type": "code",
   "execution_count": null,
   "id": "db05936b",
   "metadata": {},
   "outputs": [],
   "source": []
  },
  {
   "cell_type": "code",
   "execution_count": null,
   "id": "85bfadcc",
   "metadata": {},
   "outputs": [],
   "source": []
  },
  {
   "cell_type": "markdown",
   "id": "7f2a5b19",
   "metadata": {
    "id": "LnsztCIG0aIm"
   },
   "source": [
    "## Basic Operations - numpy 와 동일"
   ]
  },
  {
   "cell_type": "code",
   "execution_count": null,
   "id": "9fd7f87f",
   "metadata": {},
   "outputs": [],
   "source": [
    "# element-wise 덧셈, 뺄셈"
   ]
  },
  {
   "cell_type": "code",
   "execution_count": null,
   "id": "ad246ceb",
   "metadata": {},
   "outputs": [],
   "source": []
  },
  {
   "cell_type": "code",
   "execution_count": null,
   "id": "08a8cd12",
   "metadata": {},
   "outputs": [],
   "source": [
    "# element-wise 곱셈"
   ]
  },
  {
   "cell_type": "code",
   "execution_count": null,
   "id": "82625f57",
   "metadata": {},
   "outputs": [],
   "source": [
    "# 스칼라 곱"
   ]
  },
  {
   "cell_type": "code",
   "execution_count": null,
   "id": "76f7c2bd",
   "metadata": {},
   "outputs": [],
   "source": [
    "# dot product"
   ]
  },
  {
   "cell_type": "markdown",
   "id": "be0bf3da",
   "metadata": {
    "id": "Wgub6XlE0aIo"
   },
   "source": [
    "## 기타"
   ]
  },
  {
   "cell_type": "code",
   "execution_count": null,
   "id": "53899b79",
   "metadata": {},
   "outputs": [],
   "source": [
    "# broadcasting"
   ]
  },
  {
   "cell_type": "code",
   "execution_count": null,
   "id": "67f3fabc",
   "metadata": {},
   "outputs": [],
   "source": [
    "# mean, max, Standard Deviation"
   ]
  },
  {
   "cell_type": "markdown",
   "id": "6de6f48e",
   "metadata": {
    "id": "S02sWh930aIq"
   },
   "source": [
    "## torch.linspace 와 np.linspace 비교"
   ]
  },
  {
   "cell_type": "code",
   "execution_count": null,
   "id": "67747d04",
   "metadata": {},
   "outputs": [],
   "source": []
  },
  {
   "cell_type": "code",
   "execution_count": null,
   "id": "2330f11d",
   "metadata": {},
   "outputs": [],
   "source": []
  },
  {
   "cell_type": "code",
   "execution_count": null,
   "id": "bb240e7c",
   "metadata": {},
   "outputs": [],
   "source": []
  },
  {
   "cell_type": "markdown",
   "id": "77c9ba86",
   "metadata": {
    "id": "EsCQ_2FD0aIr"
   },
   "source": [
    "## torch.arange 와 np.arange 비교"
   ]
  },
  {
   "cell_type": "code",
   "execution_count": null,
   "id": "475c4371",
   "metadata": {},
   "outputs": [],
   "source": []
  },
  {
   "cell_type": "code",
   "execution_count": null,
   "id": "2b917a56",
   "metadata": {},
   "outputs": [],
   "source": []
  },
  {
   "cell_type": "markdown",
   "id": "d67b0944",
   "metadata": {
    "id": "2f9PE9hp0aIs"
   },
   "source": [
    "## 2D Tensor Operation"
   ]
  },
  {
   "cell_type": "code",
   "execution_count": null,
   "id": "cbaa9534",
   "metadata": {},
   "outputs": [],
   "source": []
  },
  {
   "cell_type": "markdown",
   "id": "6ddfeedb",
   "metadata": {
    "id": "z_nDsdhp0aIs"
   },
   "source": [
    "- ndimension  \n",
    "- shape  \n",
    "- size()  \n",
    "- numel (number of elements)"
   ]
  },
  {
   "cell_type": "code",
   "execution_count": null,
   "id": "da89791d",
   "metadata": {},
   "outputs": [],
   "source": []
  },
  {
   "cell_type": "markdown",
   "id": "a7d2a66b",
   "metadata": {
    "id": "jXb9VIZS0aIu"
   },
   "source": [
    "## matrix 간의 연산"
   ]
  },
  {
   "cell_type": "code",
   "execution_count": null,
   "id": "f574727f",
   "metadata": {},
   "outputs": [],
   "source": []
  },
  {
   "cell_type": "markdown",
   "id": "3c9c464e",
   "metadata": {
    "id": "5EbqEss80aIu"
   },
   "source": [
    "- element-wise 연산"
   ]
  },
  {
   "cell_type": "code",
   "execution_count": null,
   "id": "1ca2093b",
   "metadata": {},
   "outputs": [],
   "source": []
  },
  {
   "cell_type": "markdown",
   "id": "5ca64a25",
   "metadata": {
    "id": "O2zjsgjO0aIv"
   },
   "source": [
    "## matrix multiplication"
   ]
  },
  {
   "cell_type": "code",
   "execution_count": null,
   "id": "1b2e15a3",
   "metadata": {},
   "outputs": [],
   "source": []
  },
  {
   "cell_type": "code",
   "execution_count": null,
   "id": "a898fe20",
   "metadata": {},
   "outputs": [],
   "source": []
  },
  {
   "cell_type": "code",
   "execution_count": null,
   "id": "0d534b79",
   "metadata": {},
   "outputs": [],
   "source": []
  },
  {
   "cell_type": "markdown",
   "id": "dc7bfb3a",
   "metadata": {
    "id": "rWCAskEP0aIw"
   },
   "source": [
    "### Concatenation\n",
    "\n",
    "- default - first axis(row-wise)로 concatenate\n",
    "- column-wise로 concatenate 하려면 axis=1 로 지정"
   ]
  },
  {
   "cell_type": "code",
   "execution_count": null,
   "id": "30bd1830",
   "metadata": {},
   "outputs": [],
   "source": []
  },
  {
   "cell_type": "code",
   "execution_count": null,
   "id": "1f2ed088",
   "metadata": {},
   "outputs": [],
   "source": []
  },
  {
   "cell_type": "code",
   "execution_count": null,
   "id": "95b695a4",
   "metadata": {},
   "outputs": [],
   "source": []
  },
  {
   "cell_type": "markdown",
   "id": "b79d0031",
   "metadata": {
    "id": "rId3CNLU0aIx"
   },
   "source": [
    "### torch.sum, torch.max, torch.min, torch.argmax, torch.argmin\n",
    "\n",
    "- torch.sum(input, dim, keepdim=False, dtype=None) → Tensor  \n",
    "주어진 차원 dim에서 입력 텐서의 각 행의 합(max, min)을 반환합니다.\n",
    "\n",
    "- dim 을 지정한 경우, 지정된 dim을 축소하는 것입니다. 따라서 dim 0(행)을 접으면 하나의 행이 됩니다(열 단위로 합산)."
   ]
  },
  {
   "cell_type": "code",
   "execution_count": null,
   "id": "d88c6548",
   "metadata": {},
   "outputs": [],
   "source": []
  },
  {
   "cell_type": "code",
   "execution_count": null,
   "id": "70946ab0",
   "metadata": {},
   "outputs": [],
   "source": []
  },
  {
   "cell_type": "code",
   "execution_count": null,
   "id": "46176577",
   "metadata": {},
   "outputs": [],
   "source": []
  },
  {
   "cell_type": "code",
   "execution_count": null,
   "id": "082ae6f5",
   "metadata": {},
   "outputs": [],
   "source": []
  },
  {
   "cell_type": "code",
   "execution_count": null,
   "id": "f2280d07",
   "metadata": {},
   "outputs": [],
   "source": []
  },
  {
   "cell_type": "code",
   "execution_count": null,
   "id": "ba86b67d",
   "metadata": {},
   "outputs": [],
   "source": []
  },
  {
   "cell_type": "code",
   "execution_count": null,
   "id": "fe08c26b",
   "metadata": {},
   "outputs": [],
   "source": []
  },
  {
   "cell_type": "code",
   "execution_count": null,
   "id": "3204aefc",
   "metadata": {},
   "outputs": [],
   "source": []
  },
  {
   "cell_type": "code",
   "execution_count": null,
   "id": "774614c1",
   "metadata": {},
   "outputs": [],
   "source": []
  },
  {
   "cell_type": "markdown",
   "id": "f22c39ed",
   "metadata": {
    "id": "O_7QZDgU0aIz"
   },
   "source": [
    "## TORCH.AUTOGRAD를 이용한 자동 미분\n",
    "\n",
    "- autograd 패키지는 Tensor의 모든 연산에 대해 자동 미분을 제공   \n",
    "\n",
    "- 신경망을 훈련할 때 가장 자주 사용되는 알고리즘은 역전파이다. 이 알고리즘에서 매개 변수 (모델 가중치)는 주어진 매개 변수에 대한 손실 함수의 기울기에 따라 조정된다.  \n",
    "\n",
    "- 이러한 그래디언트를 계산하기 위해 PyTorch에는 torch.autograd라는 내장 미분 엔진이 있다.\n",
    "\n",
    "- ``.requires_grad`` 속성을 True 로 설정하면, 그 tensor에서 이뤄진 모든 연산들을 추적(track)하기 시작  \n",
    "\n",
    "- 계산이 완료된 후 ``.backward()`` 를 호출하여 모든 변화도(gradient)를 자동으로 계산  \n",
    "\n",
    "- 이 Tensor의 변화도는 ``.grad`` 속성에 누적  \n",
    "\n",
    "- Tensor가 기록을 추적하는 것을 중단하게 하려면, ``.detach()`` 를 호출하여 연산 기록으로부터 분리(detach)하여 이후 연산들이 추적되는 것을 방지한다.\n",
    "\n",
    "- 도함수를 계산하기 위해서는 Tensor 의 ``.backward()`` 를 호출"
   ]
  },
  {
   "cell_type": "code",
   "execution_count": null,
   "id": "acc9a1b1",
   "metadata": {},
   "outputs": [],
   "source": []
  },
  {
   "cell_type": "code",
   "execution_count": null,
   "id": "6e4b71f5",
   "metadata": {},
   "outputs": [],
   "source": []
  },
  {
   "cell_type": "markdown",
   "id": "27434aa5",
   "metadata": {
    "id": "iYd4NfSL0aI0"
   },
   "source": [
    "y 를 x 에 대하여 미분  \n",
    "$$y(x)=x^2$$\n",
    "\n",
    "$$\\frac{dy(x=2)}{dx}=2x=4 \\rightarrow {y.backward()}$$  "
   ]
  },
  {
   "cell_type": "code",
   "execution_count": null,
   "id": "ecc051d4",
   "metadata": {},
   "outputs": [],
   "source": []
  },
  {
   "cell_type": "markdown",
   "id": "a19d1fe6",
   "metadata": {
    "id": "5XAK-OhP0aI0"
   },
   "source": [
    "## 편미분\n",
    "$$f(u, v) = uv + u^2$$\n",
    "\n",
    "$$\\frac{\\partial{f(u, v)}}{\\partial {u}}=v+2u$$\n",
    "$$\\frac{\\partial{f(u, v)}}{\\partial {v}}=u$$"
   ]
  },
  {
   "cell_type": "code",
   "execution_count": null,
   "id": "2f8ab49a",
   "metadata": {},
   "outputs": [],
   "source": []
  },
  {
   "cell_type": "code",
   "execution_count": null,
   "id": "b5ea0006",
   "metadata": {},
   "outputs": [],
   "source": []
  },
  {
   "cell_type": "code",
   "execution_count": null,
   "id": "6ad17f6b",
   "metadata": {},
   "outputs": [],
   "source": []
  },
  {
   "cell_type": "markdown",
   "id": "50464dfb",
   "metadata": {
    "id": "DLlWFeT-0aI1"
   },
   "source": [
    "## backpropagation"
   ]
  },
  {
   "cell_type": "code",
   "execution_count": null,
   "id": "52ef036a",
   "metadata": {},
   "outputs": [],
   "source": []
  },
  {
   "cell_type": "markdown",
   "id": "90891e1f",
   "metadata": {
    "id": "JqjobwRj0aI2"
   },
   "source": [
    "### Gradient 계산\n",
    "\n",
    "- 신경망에서 매개변수의 가중치를 최적화하려면 매개변수에 대한 손실 함수의 미분을 계산해야한다. 즉, x 및 y 의 일부 고정 값 아래에서 $\\frac{\\partial loss}{\\partial w}$가 필요. 이러한 미분을 계산하려면 loss.backward ()를 호출 한 다음 w.grad 및 b.grad에서 값을 구한다."
   ]
  },
  {
   "cell_type": "code",
   "execution_count": null,
   "id": "f568ee7b",
   "metadata": {},
   "outputs": [],
   "source": []
  },
  {
   "cell_type": "markdown",
   "id": "806fbe0e",
   "metadata": {
    "id": "xY2ZFRFB0aI3"
   },
   "source": [
    "### 그라디언트 추적 비활성화\n",
    "\n",
    "기본적으로 requires_grad=True 인 모든 텐서는 계산 기록을 추적하고 기울기 계산을 지원한다. 이를 수행 할 필요가 없는 경우, 즉 네트워크를 통해 순방향 계산만 수행하려는 경우 계산 코드를 torch.no_grad() 블록으로 둘러 싸서 계산 추적을 중지할 수 있다.\n",
    "\n",
    "그래디언트 추적을 비활성화 해야하는 경우는 다음과 같다.  \n",
    "\n",
    "    - pre-train 된 network 를 fine tuning 하는 경우  \n",
    "    - 기울기를 추적하지 않는 텐서에 대한 계산이 더 효율적이기 때문에 순방향 패스 만 수행할 때 계산 속도를 높인다.\n",
    "    - 주로 모델의 평가(evaluation)나 추론(inference) 단계에서 사용되며, 계산 속도를 높이고 메모리 사용을 줄이는 데 유용합니다."
   ]
  },
  {
   "cell_type": "code",
   "execution_count": null,
   "id": "348e2e7f",
   "metadata": {},
   "outputs": [],
   "source": []
  },
  {
   "cell_type": "markdown",
   "id": "ce17c230",
   "metadata": {
    "id": "H463KHDp0aI3"
   },
   "source": [
    "- detach()는 특정 텐서에만 적용되어, 해당 텐서가 계산 그래프에서 분리됩니다.  주로 텐서의 일부 값만을 고정시키고 나머지 값들에 대해 그래디언트를 계산하고 싶을 때 사용됩니다."
   ]
  },
  {
   "cell_type": "code",
   "execution_count": null,
   "id": "9b2c4011",
   "metadata": {},
   "outputs": [],
   "source": []
  },
  {
   "cell_type": "markdown",
   "id": "e9204a04",
   "metadata": {
    "id": "7gLJRcLv0aI4"
   },
   "source": [
    "### CUDA Tensors\n",
    "\n",
    "- .to 메소드를 사용하여 Tensor를 어떠한 장치로도 옮길 수 있습니다."
   ]
  },
  {
   "cell_type": "code",
   "execution_count": null,
   "id": "06cba07e",
   "metadata": {},
   "outputs": [],
   "source": []
  },
  {
   "cell_type": "code",
   "execution_count": null,
   "id": "761787af",
   "metadata": {},
   "outputs": [],
   "source": []
  },
  {
   "cell_type": "code",
   "execution_count": null,
   "id": "f663976b",
   "metadata": {},
   "outputs": [],
   "source": []
  },
  {
   "cell_type": "code",
   "execution_count": null,
   "id": "f9c2c88f",
   "metadata": {},
   "outputs": [],
   "source": []
  },
  {
   "cell_type": "code",
   "execution_count": null,
   "id": "f85f76aa",
   "metadata": {},
   "outputs": [],
   "source": []
  }
 ],
 "metadata": {
  "accelerator": "GPU",
  "colab": {
   "gpuType": "T4",
   "provenance": []
  },
  "kernelspec": {
   "display_name": "Python 3 (ipykernel)",
   "language": "python",
   "name": "python3"
  },
  "language_info": {
   "codemirror_mode": {
    "name": "ipython",
    "version": 3
   },
   "file_extension": ".py",
   "mimetype": "text/x-python",
   "name": "python",
   "nbconvert_exporter": "python",
   "pygments_lexer": "ipython3",
   "version": "3.9.7"
  }
 },
 "nbformat": 4,
 "nbformat_minor": 5
}
