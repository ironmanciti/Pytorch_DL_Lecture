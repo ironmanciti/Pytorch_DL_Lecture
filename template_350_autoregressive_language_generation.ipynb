{
 "cells": [
  {
   "cell_type": "markdown",
   "id": "ae55c84f",
   "metadata": {
    "id": "ae55c84f"
   },
   "source": [
    "# Autoregressive (자동회귀) 문장 생성\n",
    "\n",
    "- Colab 에서 실행\n",
    "\n",
    "간단한 자동 회귀적인 텍스트 생성을 위한 코드 예제입니다. 여기서는 네이버의 HyperCLOVAX 모델을 사용합니다. HyperCLOVAX는 한국어에 특화된 대화형 언어 모델로, 시스템 메시지와 사용자 메시지를 구분하여 입력받는 구조를 가지고 있습니다. 이는 GPT 계열 모델과 유사한 자동회귀 구조를 가지고 있으므로, 동일한 접근 방식을 사용할 수 있습니다."
   ]
  },
  {
   "cell_type": "code",
   "execution_count": null,
   "id": "8deca7ff",
   "metadata": {},
   "outputs": [],
   "source": []
  },
  {
   "cell_type": "code",
   "execution_count": null,
   "id": "b8bd0580",
   "metadata": {},
   "outputs": [],
   "source": [
    "# 문장 시작 부분\n",
    "# 토큰화 결과 확인\n",
    "# 전체 입력 토큰 디코딩\n",
    "# user_content 부분만 토큰화해서 확인\n",
    "# 토큰을 다시 텍스트로 변환해서 확인"
   ]
  },
  {
   "cell_type": "code",
   "execution_count": null,
   "id": "c1ccd9fd",
   "metadata": {},
   "outputs": [],
   "source": [
    "# 문장 생성"
   ]
  },
  {
   "cell_type": "code",
   "execution_count": null,
   "id": "34c13ef8",
   "metadata": {},
   "outputs": [],
   "source": [
    "# 생성된 문장 출력 (CLOVAX 방식)\n",
    "# 필요시 <|endofturn|>, <|stop|> 등에서 자르기"
   ]
  },
  {
   "cell_type": "markdown",
   "id": "c10e2ff5",
   "metadata": {
    "id": "c10e2ff5"
   },
   "source": [
    "HyperCLOVAX는 자체적으로 autoregressive 모델입니다. \"Autoregressive\"란, 이전에 생성된 토큰들을 기반으로 다음 토큰을 생성하는 모델을 의미합니다.\n",
    "\n",
    "위의 코드에서 `model.generate` 메서드는 이미 autoregressive한 방식으로 문장을 생성합니다. 그러나 이를 명시적으로 보여주기 위해 각 단계에서 토큰을 하나씩 생성하는 autoregressive한 코드를 아래에 작성하겠습니다:"
   ]
  },
  {
   "cell_type": "code",
   "execution_count": null,
   "id": "02d73a97",
   "metadata": {},
   "outputs": [],
   "source": [
    "# 문장 시작 부분"
   ]
  },
  {
   "cell_type": "code",
   "execution_count": null,
   "id": "0a4794bf",
   "metadata": {},
   "outputs": [],
   "source": [
    "# 모델 추론"
   ]
  },
  {
   "cell_type": "code",
   "execution_count": null,
   "id": "609c12d1",
   "metadata": {},
   "outputs": [],
   "source": [
    "# Autoregressive한 방식으로 문장 생성\n",
    "    # 다음 토큰 예측\n",
    "    #print(predicted_token)\n",
    "    # 생성된 토큰을 입력 토큰 뒤에 추가"
   ]
  },
  {
   "cell_type": "code",
   "execution_count": null,
   "id": "42dad734",
   "metadata": {},
   "outputs": [],
   "source": [
    "# 생성된 문장 출력\n",
    "# 필요시 <|endofturn|>, <|stop|> 등에서 자르기"
   ]
  },
  {
   "cell_type": "code",
   "execution_count": null,
   "id": "b484e301",
   "metadata": {},
   "outputs": [],
   "source": []
  }
 ],
 "metadata": {
  "accelerator": "GPU",
  "colab": {
   "gpuType": "T4",
   "provenance": []
  },
  "kernelspec": {
   "display_name": "Python 3 (ipykernel)",
   "language": "python",
   "name": "python3"
  },
  "language_info": {
   "codemirror_mode": {
    "name": "ipython",
    "version": 3
   },
   "file_extension": ".py",
   "mimetype": "text/x-python",
   "name": "python",
   "nbconvert_exporter": "python",
   "pygments_lexer": "ipython3",
   "version": "3.11.13"
  }
 },
 "nbformat": 4,
 "nbformat_minor": 5
}
