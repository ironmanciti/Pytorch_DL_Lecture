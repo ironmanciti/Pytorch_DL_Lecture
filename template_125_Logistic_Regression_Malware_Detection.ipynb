{
 "cells": [
  {
   "cell_type": "markdown",
   "id": "9a921b8e",
   "metadata": {
    "id": "9a921b8e"
   },
   "source": [
    "# 125. Malware Detection - binary classification"
   ]
  },
  {
   "cell_type": "code",
   "execution_count": null,
   "id": "8fd8cd41",
   "metadata": {},
   "outputs": [],
   "source": []
  },
  {
   "cell_type": "code",
   "execution_count": null,
   "id": "20b45fa7",
   "metadata": {},
   "outputs": [],
   "source": [
    "# 'malware.csv' 파일을 읽어와 데이터프레임(df)로 저장\n",
    "# index_col=0 : 첫 번째 열을 데이터프레임의 인덱스로 설정"
   ]
  },
  {
   "cell_type": "code",
   "execution_count": null,
   "id": "16caba2d",
   "metadata": {},
   "outputs": [],
   "source": []
  },
  {
   "cell_type": "code",
   "execution_count": null,
   "id": "e172ff07",
   "metadata": {},
   "outputs": [],
   "source": [
    "# 'legitimate' 열의 각 값이 몇 번 등장하는지 계산하여 출력"
   ]
  },
  {
   "cell_type": "code",
   "execution_count": null,
   "id": "1dda5a96",
   "metadata": {},
   "outputs": [],
   "source": []
  },
  {
   "cell_type": "markdown",
   "id": "5e7dd662",
   "metadata": {
    "id": "5e7dd662"
   },
   "source": [
    "- Name : 제외\n",
    "- md5 : hash value 제외"
   ]
  },
  {
   "cell_type": "code",
   "execution_count": null,
   "id": "e9cd409e",
   "metadata": {},
   "outputs": [],
   "source": [
    "# 데이터프레임에서 모든 행을 유지하고, 두 번째 열(index=1)까지 제외한 나머지 열만 선택하여 새로운 데이터프레임 생성\n",
    "# 데이터프레임의 차원(행 개수, 열 개수)을 출력"
   ]
  },
  {
   "cell_type": "code",
   "execution_count": null,
   "id": "4f60f332",
   "metadata": {},
   "outputs": [],
   "source": [
    "# 'legitimate' 열을 데이터프레임에서 제거(pop)하고, 해당 열의 값을 y에 저장\n",
    "# 데이터프레임의 나머지 값들을 X에 저장 (입력 데이터)"
   ]
  },
  {
   "cell_type": "markdown",
   "id": "ab6faa3f",
   "metadata": {
    "id": "ab6faa3f"
   },
   "source": [
    "- Train, Test split"
   ]
  },
  {
   "cell_type": "code",
   "execution_count": null,
   "id": "29a30641",
   "metadata": {},
   "outputs": [],
   "source": [
    "# 데이터를 학습용(train)과 테스트용(test)으로 분할\n",
    "# test_size=0.2 : 전체 데이터의 20%를 테스트 세트로 사용\n",
    "# random_state=0 : 실행할 때마다 동일한 방식으로 데이터를 나누도록 설정 (재현성 확보)\n",
    "# 학습 및 테스트 데이터의 크기 출력 (각 데이터셋의 (행 개수, 열 개수))"
   ]
  },
  {
   "cell_type": "code",
   "execution_count": null,
   "id": "28e3ebfe",
   "metadata": {},
   "outputs": [],
   "source": [
    "# StandardScaler 객체 생성 (데이터 표준화를 위한 스케일러)\n",
    "# 학습 데이터(X_train)에 대해 평균을 0, 표준편차를 1로 변환 (표준화 적용)\n",
    "# 테스트 데이터(X_test)에도 동일한 변환을 적용 (학습 데이터의 기준을 사용하여 변환)"
   ]
  },
  {
   "cell_type": "code",
   "execution_count": null,
   "id": "06a6431b",
   "metadata": {},
   "outputs": [],
   "source": [
    "# NumPy 배열(X_train)을 PyTorch 텐서로 변환 (데이터 타입: float32)\n",
    "# NumPy 배열(y_train)을 PyTorch 텐서로 변환 (데이터 타입: float32)\n",
    "# .view(-1, 1) : 1D 텐서를 2D 형태(열 벡터)로 변환하여 사용"
   ]
  },
  {
   "cell_type": "markdown",
   "id": "37971f5f",
   "metadata": {
    "id": "37971f5f"
   },
   "source": [
    "## ``nn.Module``을 이용한 사용자 정의 Logistic Regression model 정의"
   ]
  },
  {
   "cell_type": "code",
   "execution_count": null,
   "id": "784d1e36",
   "metadata": {},
   "outputs": [],
   "source": [
    "# nn.Module을 상속받아 사용자 정의 로지스틱 회귀 모델 클래스를 정의\n",
    "class LogisticReg(nn.Module):\n",
    "    def __init__(self, in_dim):\n",
    "        # 첫 번째 선형 레이어를 정의합니다. 입력 차원은 in_dim, 출력 차원은 32입니다.\n",
    "        # 두 번째 선형 레이어를 정의합니다. 입력 차원은 32, 출력 차원은 1입니다.\n",
    "        # ReLU 활성화 함수를 정의합니다.\n",
    "        # 시그모이드 활성화 함수를 정의합니다.\n",
    "    def forward(self, x):\n",
    "        # 첫 번째 선형 레이어를 통과시킨 후, ReLU 활성화 함수를 적용합니다.\n",
    "        # 그 다음, 두 번째 선형 레이어를 통과시킨 후, 시그모이드 활성화 함수를 적용합니다."
   ]
  },
  {
   "cell_type": "code",
   "execution_count": null,
   "id": "491b8af9",
   "metadata": {},
   "outputs": [],
   "source": [
    "# LogisticReg 클래스(모델)를 생성할 때, 입력 특성 개수를 X_train.shape[1]로 설정하여 초기화\n",
    "# 모델의 구조와 초기화된 파라미터 출력"
   ]
  },
  {
   "cell_type": "code",
   "execution_count": null,
   "id": "f81d4844",
   "metadata": {},
   "outputs": [],
   "source": [
    "# 손실 함수(loss function)로 이진 교차 엔트로피(Binary Cross Entropy) 사용\n",
    "# Adam 옵티마이저(최적화 함수) 설정\n",
    "# model.parameters(): 모델의 학습 가능한 파라미터 전달\n",
    "# lr=0.001 : 학습률(learning rate) 설정"
   ]
  },
  {
   "cell_type": "markdown",
   "id": "8fb5448b",
   "metadata": {
    "id": "8fb5448b"
   },
   "source": [
    "### dataset loader 생성"
   ]
  },
  {
   "cell_type": "code",
   "execution_count": null,
   "id": "ebf1716e",
   "metadata": {},
   "outputs": [],
   "source": [
    "# torch.utils.data.TensorDataset을 사용하여 학습 데이터셋을 생성\n",
    "# 학습 데이터셋을 DataLoader에 전달하여 학습 데이터 로더를 생성"
   ]
  },
  {
   "cell_type": "markdown",
   "id": "f414f774",
   "metadata": {
    "id": "f414f774"
   },
   "source": [
    "# 생성한 Neural Network Model Train"
   ]
  },
  {
   "cell_type": "code",
   "execution_count": null,
   "id": "d7a13054",
   "metadata": {},
   "outputs": [],
   "source": [
    "# 손실값을 저장할 리스트 초기화\n",
    "        # 모델에 입력 데이터를 전달하여 예측값 계산\n",
    "        # 예측값과 실제 레이블 사이의 손실 계산\n",
    "        # 옵티마이저의 기울기 초기화\n",
    "        # 손실에 대한 역전파 수행 및 기울기 계산\n",
    "        # 계산된 기울기를 사용하여 모델의 파라미터 업데이트\n",
    "    # 현재 에포크의 손실값 출력\n",
    "    # 손실값을 Loss 리스트에 추가"
   ]
  },
  {
   "cell_type": "code",
   "execution_count": null,
   "id": "ab49a263",
   "metadata": {},
   "outputs": [],
   "source": [
    "# 학습 과정에서 저장된 손실 값(Loss)을 그래프로 출력"
   ]
  },
  {
   "cell_type": "code",
   "execution_count": null,
   "id": "6d2dbefb",
   "metadata": {},
   "outputs": [],
   "source": [
    "# X_test_ts.to(device)는 테스트 데이터를 현재 설정된 디바이스로 이동\n",
    "# 예측을 수행하고, 결과를 CPU로 다시 이동시킨 후 numpy 배열로 변환\n",
    "#  > 0.5 조건을 사용하여 모델의 출력(확률)을 이진 분류 결정(0 또는 1)으로 변환"
   ]
  },
  {
   "cell_type": "code",
   "execution_count": null,
   "id": "b69c07c9",
   "metadata": {},
   "outputs": [],
   "source": [
    "# y_test와 y_pred를 비교하여 정확도(accuracy) 계산"
   ]
  },
  {
   "cell_type": "markdown",
   "id": "mEs8Q5awMKH9",
   "metadata": {
    "id": "mEs8Q5awMKH9"
   },
   "source": [
    "### - Malware Dataset 실습을 바탕으로 다른 이진 분류 문제에도 동일한 MLP 구조를 적용해보세요."
   ]
  },
  {
   "cell_type": "code",
   "execution_count": null,
   "id": "46df7896",
   "metadata": {},
   "outputs": [],
   "source": []
  },
  {
   "cell_type": "code",
   "execution_count": null,
   "id": "ab4cecf7",
   "metadata": {},
   "outputs": [],
   "source": []
  }
 ],
 "metadata": {
  "accelerator": "GPU",
  "colab": {
   "gpuType": "T4",
   "provenance": []
  },
  "kernelspec": {
   "display_name": "Python 3",
   "name": "python3"
  },
  "language_info": {
   "codemirror_mode": {
    "name": "ipython",
    "version": 3
   },
   "file_extension": ".py",
   "mimetype": "text/x-python",
   "name": "python",
   "nbconvert_exporter": "python",
   "pygments_lexer": "ipython3",
   "version": "3.9.7"
  }
 },
 "nbformat": 4,
 "nbformat_minor": 5
}
