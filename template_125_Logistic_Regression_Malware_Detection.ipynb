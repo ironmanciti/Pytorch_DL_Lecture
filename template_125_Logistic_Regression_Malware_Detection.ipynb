{
 "cells": [
  {
   "cell_type": "markdown",
   "id": "9a921b8e",
   "metadata": {
    "id": "9a921b8e"
   },
   "source": [
    "# 125. Malware Detection - binary classification"
   ]
  },
  {
   "cell_type": "code",
   "execution_count": null,
   "id": "dd340a06",
   "metadata": {},
   "outputs": [],
   "source": []
  },
  {
   "cell_type": "code",
   "execution_count": null,
   "id": "3a3764e4",
   "metadata": {},
   "outputs": [],
   "source": []
  },
  {
   "cell_type": "code",
   "execution_count": null,
   "id": "c55392fa",
   "metadata": {},
   "outputs": [],
   "source": []
  },
  {
   "cell_type": "code",
   "execution_count": null,
   "id": "34933eec",
   "metadata": {},
   "outputs": [],
   "source": []
  },
  {
   "cell_type": "code",
   "execution_count": null,
   "id": "f9e057c1",
   "metadata": {},
   "outputs": [],
   "source": []
  },
  {
   "cell_type": "markdown",
   "id": "5e7dd662",
   "metadata": {
    "id": "5e7dd662"
   },
   "source": [
    "- Name : 제외\n",
    "- md5 : hash value 제외"
   ]
  },
  {
   "cell_type": "code",
   "execution_count": null,
   "id": "aa8905c1",
   "metadata": {},
   "outputs": [],
   "source": []
  },
  {
   "cell_type": "code",
   "execution_count": null,
   "id": "578d19a8",
   "metadata": {},
   "outputs": [],
   "source": []
  },
  {
   "cell_type": "markdown",
   "id": "ab6faa3f",
   "metadata": {
    "id": "ab6faa3f"
   },
   "source": [
    "- Train, Test split"
   ]
  },
  {
   "cell_type": "code",
   "execution_count": null,
   "id": "82185534",
   "metadata": {},
   "outputs": [],
   "source": []
  },
  {
   "cell_type": "code",
   "execution_count": null,
   "id": "8754618e",
   "metadata": {},
   "outputs": [],
   "source": []
  },
  {
   "cell_type": "code",
   "execution_count": null,
   "id": "02c75f14",
   "metadata": {},
   "outputs": [],
   "source": [
    "# PyTorch의 FloatTensor로 변환\n",
    "# 모델의 출력과 타겟 데이터의 형식을 일치시키기 위해 [N, 1] 형태의 열 벡터로 재구성"
   ]
  },
  {
   "cell_type": "markdown",
   "id": "37971f5f",
   "metadata": {
    "id": "37971f5f"
   },
   "source": [
    "## ``nn.Module``을 이용한 사용자 정의 Logistic Regression model 정의"
   ]
  },
  {
   "cell_type": "code",
   "execution_count": null,
   "id": "c028b227",
   "metadata": {},
   "outputs": [],
   "source": [
    "# nn.Module을 상속받아 사용자 정의 로지스틱 회귀 모델 클래스를 정의\n",
    "class LogisticReg(nn.Module):\n",
    "    def __init__(self, in_dim):\n",
    "        # 첫 번째 선형 레이어를 정의합니다. 입력 차원은 in_dim, 출력 차원은 32입니다.\n",
    "        # 두 번째 선형 레이어를 정의합니다. 입력 차원은 32, 출력 차원은 1입니다.\n",
    "        # ReLU 활성화 함수를 정의합니다.\n",
    "        # 시그모이드 활성화 함수를 정의합니다.\n",
    "    def forward(self, x):\n",
    "        # 첫 번째 선형 레이어를 통과시킨 후, ReLU 활성화 함수를 적용합니다.\n",
    "        # 그 다음, 두 번째 선형 레이어를 통과시킨 후, 시그모이드 활성화 함수를 적용합니다."
   ]
  },
  {
   "cell_type": "code",
   "execution_count": null,
   "id": "9db2e330",
   "metadata": {},
   "outputs": [],
   "source": [
    "# random 하게 초기화 된 parameter 출력"
   ]
  },
  {
   "cell_type": "code",
   "execution_count": null,
   "id": "db1388bd",
   "metadata": {},
   "outputs": [],
   "source": []
  },
  {
   "cell_type": "markdown",
   "id": "8fb5448b",
   "metadata": {
    "id": "8fb5448b"
   },
   "source": [
    "### dataset loader 생성"
   ]
  },
  {
   "cell_type": "code",
   "execution_count": null,
   "id": "5a2c48b9",
   "metadata": {},
   "outputs": [],
   "source": [
    "# torch.utils.data.TensorDataset을 사용하여 학습 데이터셋을 생성\n",
    "# 학습 데이터셋을 DataLoader에 전달하여 학습 데이터 로더를 생성"
   ]
  },
  {
   "cell_type": "markdown",
   "id": "f414f774",
   "metadata": {
    "id": "f414f774"
   },
   "source": [
    "# 생성한 Neural Network Model Train"
   ]
  },
  {
   "cell_type": "code",
   "execution_count": null,
   "id": "ca5abf75",
   "metadata": {},
   "outputs": [],
   "source": [
    "# 손실값을 저장할 리스트 초기화\n",
    "        # 모델에 입력 데이터를 전달하여 예측값 계산\n",
    "        # 예측값과 실제 레이블 사이의 손실 계산\n",
    "        # 옵티마이저의 기울기 초기화\n",
    "        # 손실에 대한 역전파 수행 및 기울기 계산\n",
    "        # 계산된 기울기를 사용하여 모델의 파라미터 업데이트\n",
    "    # 현재 에포크의 손실값 출력\n",
    "    # 손실값을 Loss 리스트에 추가"
   ]
  },
  {
   "cell_type": "code",
   "execution_count": null,
   "id": "4e795688",
   "metadata": {},
   "outputs": [],
   "source": []
  },
  {
   "cell_type": "code",
   "execution_count": null,
   "id": "b0136524",
   "metadata": {},
   "outputs": [],
   "source": [
    "# X_test_ts.to(device)는 테스트 데이터를 현재 설정된 디바이스(CPU 또는 GPU)로 이동\n",
    "# 예측을 수행하고, 결과를 CPU로 다시 이동시킨 후 numpy 배열로 변환\n",
    "# .detach()는 계산 그래프에서 예측값을 분리하여 그래디언트가 필요없는 텐서로 만듭니다.\n",
    "# 텐서를 NumPy 배열로 변환합니다.\n",
    "#  > 0.5 조건을 사용하여 모델의 출력(확률)을 이진 분류 결정(0 또는 1)으로 변환"
   ]
  },
  {
   "cell_type": "code",
   "execution_count": null,
   "id": "935323c6",
   "metadata": {},
   "outputs": [],
   "source": []
  },
  {
   "cell_type": "code",
   "execution_count": null,
   "id": "c4c3b5ff",
   "metadata": {},
   "outputs": [],
   "source": []
  }
 ],
 "metadata": {
  "accelerator": "GPU",
  "colab": {
   "gpuType": "T4",
   "provenance": []
  },
  "kernelspec": {
   "display_name": "Python 3 (ipykernel)",
   "language": "python",
   "name": "python3"
  },
  "language_info": {
   "codemirror_mode": {
    "name": "ipython",
    "version": 3
   },
   "file_extension": ".py",
   "mimetype": "text/x-python",
   "name": "python",
   "nbconvert_exporter": "python",
   "pygments_lexer": "ipython3",
   "version": "3.9.7"
  }
 },
 "nbformat": 4,
 "nbformat_minor": 5
}
